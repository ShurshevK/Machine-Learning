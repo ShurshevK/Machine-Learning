{
 "cells": [
  {
   "cell_type": "code",
   "execution_count": 1,
   "id": "19b94fd0",
   "metadata": {},
   "outputs": [
    {
     "name": "stdout",
     "output_type": "stream",
     "text": [
      "Looking in links: https://download.pytorch.org/whl/lts/1.8/torch_lts.html\n",
      "Requirement already satisfied: torch==1.8.1+cpu in c:\\python38\\lib\\site-packages (1.8.1+cpu)\n",
      "Requirement already satisfied: torchvision==0.9.1+cpu in c:\\python38\\lib\\site-packages (0.9.1+cpu)\n",
      "Requirement already satisfied: torchaudio===0.8.1 in c:\\python38\\lib\\site-packages (0.8.1)\n",
      "Requirement already satisfied: numpy in c:\\python38\\lib\\site-packages (from torch==1.8.1+cpu) (1.19.5)\n",
      "Requirement already satisfied: typing-extensions in c:\\python38\\lib\\site-packages (from torch==1.8.1+cpu) (3.10.0.0)\n",
      "Requirement already satisfied: pillow>=4.1.1 in c:\\python38\\lib\\site-packages (from torchvision==0.9.1+cpu) (8.2.0)\n"
     ]
    },
    {
     "name": "stderr",
     "output_type": "stream",
     "text": [
      "WARNING: You are using pip version 21.1.3; however, version 21.2.4 is available.\n",
      "You should consider upgrading via the 'c:\\python38\\python.exe -m pip install --upgrade pip' command.\n"
     ]
    }
   ],
   "source": [
    "!pip3 install torch==1.8.1+cpu torchvision==0.9.1+cpu torchaudio===0.8.1 -f https://download.pytorch.org/whl/lts/1.8/torch_lts.html"
   ]
  },
  {
   "cell_type": "code",
   "execution_count": 2,
   "id": "46a65d27",
   "metadata": {
    "scrolled": true
   },
   "outputs": [
    {
     "name": "stdout",
     "output_type": "stream",
     "text": [
      "Requirement already satisfied: transformers in c:\\python38\\lib\\site-packages (4.8.2)"
     ]
    },
    {
     "name": "stderr",
     "output_type": "stream",
     "text": [
      "WARNING: You are using pip version 21.1.3; however, version 21.2.4 is available.\n",
      "You should consider upgrading via the 'c:\\python38\\python.exe -m pip install --upgrade pip' command.\n"
     ]
    },
    {
     "name": "stdout",
     "output_type": "stream",
     "text": [
      "\n",
      "Collecting transformers\n",
      "  Downloading transformers-4.9.2-py3-none-any.whl (2.6 MB)\n",
      "Requirement already satisfied: ipywidgets in c:\\python38\\lib\\site-packages (7.6.3)\n",
      "Requirement already satisfied: gradio in c:\\python38\\lib\\site-packages (2.2.2)\n",
      "Collecting gradio\n",
      "  Downloading gradio-2.2.13-py3-none-any.whl (3.4 MB)\n",
      "Requirement already satisfied: pyyaml>=5.1 in c:\\python38\\lib\\site-packages (from transformers) (5.4.1)\n",
      "Requirement already satisfied: filelock in c:\\python38\\lib\\site-packages (from transformers) (3.0.12)\n",
      "Requirement already satisfied: packaging in c:\\python38\\lib\\site-packages (from transformers) (20.9)\n",
      "Requirement already satisfied: requests in c:\\python38\\lib\\site-packages (from transformers) (2.25.1)\n",
      "Requirement already satisfied: tokenizers<0.11,>=0.10.1 in c:\\python38\\lib\\site-packages (from transformers) (0.10.3)\n",
      "Requirement already satisfied: huggingface-hub==0.0.12 in c:\\python38\\lib\\site-packages (from transformers) (0.0.12)\n",
      "Requirement already satisfied: regex!=2019.12.17 in c:\\python38\\lib\\site-packages (from transformers) (2021.7.6)\n",
      "Requirement already satisfied: tqdm>=4.27 in c:\\python38\\lib\\site-packages (from transformers) (4.61.0)\n",
      "Requirement already satisfied: numpy>=1.17 in c:\\python38\\lib\\site-packages (from transformers) (1.19.5)\n",
      "Requirement already satisfied: sacremoses in c:\\python38\\lib\\site-packages (from transformers) (0.0.45)\n",
      "Requirement already satisfied: typing-extensions in c:\\python38\\lib\\site-packages (from huggingface-hub==0.0.12->transformers) (3.10.0.0)\n",
      "Requirement already satisfied: pyparsing>=2.0.2 in c:\\python38\\lib\\site-packages (from packaging->transformers) (2.4.7)\n",
      "Requirement already satisfied: nbformat>=4.2.0 in c:\\python38\\lib\\site-packages (from ipywidgets) (5.1.3)\n",
      "Requirement already satisfied: widgetsnbextension~=3.5.0 in c:\\python38\\lib\\site-packages (from ipywidgets) (3.5.1)\n",
      "Requirement already satisfied: ipython>=4.0.0 in c:\\python38\\lib\\site-packages (from ipywidgets) (7.24.1)\n",
      "Requirement already satisfied: traitlets>=4.3.1 in c:\\python38\\lib\\site-packages (from ipywidgets) (5.0.5)\n",
      "Requirement already satisfied: jupyterlab-widgets>=1.0.0 in c:\\python38\\lib\\site-packages (from ipywidgets) (1.0.0)\n",
      "Requirement already satisfied: ipykernel>=4.5.1 in c:\\python38\\lib\\site-packages (from ipywidgets) (5.5.5)\n",
      "Requirement already satisfied: jupyter-client in c:\\python38\\lib\\site-packages (from ipykernel>=4.5.1->ipywidgets) (6.1.12)\n",
      "Requirement already satisfied: tornado>=4.2 in c:\\python38\\lib\\site-packages (from ipykernel>=4.5.1->ipywidgets) (6.1)\n",
      "Requirement already satisfied: backcall in c:\\python38\\lib\\site-packages (from ipython>=4.0.0->ipywidgets) (0.2.0)\n",
      "Requirement already satisfied: pygments in c:\\python38\\lib\\site-packages (from ipython>=4.0.0->ipywidgets) (2.9.0)\n",
      "Requirement already satisfied: pickleshare in c:\\python38\\lib\\site-packages (from ipython>=4.0.0->ipywidgets) (0.7.5)\n",
      "Requirement already satisfied: jedi>=0.16 in c:\\python38\\lib\\site-packages (from ipython>=4.0.0->ipywidgets) (0.18.0)\n",
      "Requirement already satisfied: colorama in c:\\python38\\lib\\site-packages (from ipython>=4.0.0->ipywidgets) (0.4.4)\n",
      "Requirement already satisfied: matplotlib-inline in c:\\python38\\lib\\site-packages (from ipython>=4.0.0->ipywidgets) (0.1.2)\n",
      "Requirement already satisfied: setuptools>=18.5 in c:\\python38\\lib\\site-packages (from ipython>=4.0.0->ipywidgets) (56.0.0)\n",
      "Requirement already satisfied: prompt-toolkit!=3.0.0,!=3.0.1,<3.1.0,>=2.0.0 in c:\\python38\\lib\\site-packages (from ipython>=4.0.0->ipywidgets) (3.0.19)\n",
      "Requirement already satisfied: decorator in c:\\python38\\lib\\site-packages (from ipython>=4.0.0->ipywidgets) (5.0.9)\n",
      "Requirement already satisfied: parso<0.9.0,>=0.8.0 in c:\\python38\\lib\\site-packages (from jedi>=0.16->ipython>=4.0.0->ipywidgets) (0.8.2)\n",
      "Requirement already satisfied: jupyter-core in c:\\python38\\lib\\site-packages (from nbformat>=4.2.0->ipywidgets) (4.7.1)\n",
      "Requirement already satisfied: ipython-genutils in c:\\python38\\lib\\site-packages (from nbformat>=4.2.0->ipywidgets) (0.2.0)\n",
      "Requirement already satisfied: jsonschema!=2.5.0,>=2.4 in c:\\python38\\lib\\site-packages (from nbformat>=4.2.0->ipywidgets) (3.2.0)\n",
      "Requirement already satisfied: pyrsistent>=0.14.0 in c:\\python38\\lib\\site-packages (from jsonschema!=2.5.0,>=2.4->nbformat>=4.2.0->ipywidgets) (0.17.3)\n",
      "Requirement already satisfied: attrs>=17.4.0 in c:\\python38\\lib\\site-packages (from jsonschema!=2.5.0,>=2.4->nbformat>=4.2.0->ipywidgets) (21.2.0)\n",
      "Requirement already satisfied: six>=1.11.0 in c:\\python38\\lib\\site-packages (from jsonschema!=2.5.0,>=2.4->nbformat>=4.2.0->ipywidgets) (1.15.0)\n",
      "Requirement already satisfied: wcwidth in c:\\python38\\lib\\site-packages (from prompt-toolkit!=3.0.0,!=3.0.1,<3.1.0,>=2.0.0->ipython>=4.0.0->ipywidgets) (0.2.5)\n",
      "Requirement already satisfied: notebook>=4.4.1 in c:\\python38\\lib\\site-packages (from widgetsnbextension~=3.5.0->ipywidgets) (6.4.0)\n",
      "Requirement already satisfied: nbconvert in c:\\python38\\lib\\site-packages (from notebook>=4.4.1->widgetsnbextension~=3.5.0->ipywidgets) (6.0.7)\n",
      "Requirement already satisfied: pyzmq>=17 in c:\\python38\\lib\\site-packages (from notebook>=4.4.1->widgetsnbextension~=3.5.0->ipywidgets) (22.1.0)\n",
      "Requirement already satisfied: jinja2 in c:\\python38\\lib\\site-packages (from notebook>=4.4.1->widgetsnbextension~=3.5.0->ipywidgets) (3.0.1)\n",
      "Requirement already satisfied: Send2Trash>=1.5.0 in c:\\python38\\lib\\site-packages (from notebook>=4.4.1->widgetsnbextension~=3.5.0->ipywidgets) (1.5.0)\n",
      "Requirement already satisfied: terminado>=0.8.3 in c:\\python38\\lib\\site-packages (from notebook>=4.4.1->widgetsnbextension~=3.5.0->ipywidgets) (0.10.0)\n",
      "Requirement already satisfied: argon2-cffi in c:\\python38\\lib\\site-packages (from notebook>=4.4.1->widgetsnbextension~=3.5.0->ipywidgets) (20.1.0)\n",
      "Requirement already satisfied: prometheus-client in c:\\python38\\lib\\site-packages (from notebook>=4.4.1->widgetsnbextension~=3.5.0->ipywidgets) (0.11.0)\n",
      "Requirement already satisfied: python-dateutil>=2.1 in c:\\python38\\lib\\site-packages (from jupyter-client->ipykernel>=4.5.1->ipywidgets) (2.8.1)\n",
      "Requirement already satisfied: pywin32>=1.0 in c:\\python38\\lib\\site-packages (from jupyter-core->nbformat>=4.2.0->ipywidgets) (301)\n",
      "Requirement already satisfied: pywinpty>=1.1.0 in c:\\python38\\lib\\site-packages (from terminado>=0.8.3->notebook>=4.4.1->widgetsnbextension~=3.5.0->ipywidgets) (1.1.1)\n",
      "Requirement already satisfied: analytics-python in c:\\python38\\lib\\site-packages (from gradio) (1.3.1)\n",
      "Requirement already satisfied: paramiko in c:\\python38\\lib\\site-packages (from gradio) (2.7.2)\n",
      "Requirement already satisfied: Flask>=1.1.1 in c:\\python38\\lib\\site-packages (from gradio) (2.0.1)\n",
      "Requirement already satisfied: matplotlib in c:\\python38\\lib\\site-packages (from gradio) (3.4.2)\n",
      "Requirement already satisfied: pillow in c:\\python38\\lib\\site-packages (from gradio) (8.2.0)\n",
      "Requirement already satisfied: pycryptodome in c:\\python38\\lib\\site-packages (from gradio) (3.10.1)\n",
      "Requirement already satisfied: pandas in c:\\python38\\lib\\site-packages (from gradio) (1.2.4)\n",
      "Requirement already satisfied: Flask-Cors>=3.0.8 in c:\\python38\\lib\\site-packages (from gradio) (3.0.10)\n",
      "Requirement already satisfied: ffmpy in c:\\python38\\lib\\site-packages (from gradio) (0.3.0)\n",
      "Requirement already satisfied: flask-cachebuster in c:\\python38\\lib\\site-packages (from gradio) (1.0.0)\n",
      "Requirement already satisfied: markdown2 in c:\\python38\\lib\\site-packages (from gradio) (2.4.0)\n",
      "Requirement already satisfied: Flask-Login in c:\\python38\\lib\\site-packages (from gradio) (0.5.0)\n",
      "Requirement already satisfied: scipy in c:\\python38\\lib\\site-packages (from gradio) (1.6.3)\n",
      "Requirement already satisfied: Werkzeug>=2.0 in c:\\python38\\lib\\site-packages (from Flask>=1.1.1->gradio) (2.0.1)\n",
      "Requirement already satisfied: itsdangerous>=2.0 in c:\\python38\\lib\\site-packages (from Flask>=1.1.1->gradio) (2.0.1)\n",
      "Requirement already satisfied: click>=7.1.2 in c:\\python38\\lib\\site-packages (from Flask>=1.1.1->gradio) (8.0.1)\n",
      "Requirement already satisfied: MarkupSafe>=2.0 in c:\\python38\\lib\\site-packages (from jinja2->notebook>=4.4.1->widgetsnbextension~=3.5.0->ipywidgets) (2.0.1)\n",
      "Requirement already satisfied: monotonic>=1.5 in c:\\python38\\lib\\site-packages (from analytics-python->gradio) (1.6)\n",
      "Requirement already satisfied: backoff==1.10.0 in c:\\python38\\lib\\site-packages (from analytics-python->gradio) (1.10.0)\n",
      "Requirement already satisfied: urllib3<1.27,>=1.21.1 in c:\\python38\\lib\\site-packages (from requests->transformers) (1.26.5)\n",
      "Requirement already satisfied: certifi>=2017.4.17 in c:\\python38\\lib\\site-packages (from requests->transformers) (2021.5.30)\n",
      "Requirement already satisfied: idna<3,>=2.5 in c:\\python38\\lib\\site-packages (from requests->transformers) (2.10)\n",
      "Requirement already satisfied: chardet<5,>=3.0.2 in c:\\python38\\lib\\site-packages (from requests->transformers) (4.0.0)\n",
      "Requirement already satisfied: cffi>=1.0.0 in c:\\python38\\lib\\site-packages (from argon2-cffi->notebook>=4.4.1->widgetsnbextension~=3.5.0->ipywidgets) (1.14.5)\n",
      "Requirement already satisfied: pycparser in c:\\python38\\lib\\site-packages (from cffi>=1.0.0->argon2-cffi->notebook>=4.4.1->widgetsnbextension~=3.5.0->ipywidgets) (2.20)\n",
      "Requirement already satisfied: cycler>=0.10 in c:\\python38\\lib\\site-packages (from matplotlib->gradio) (0.10.0)\n",
      "Requirement already satisfied: kiwisolver>=1.0.1 in c:\\python38\\lib\\site-packages (from matplotlib->gradio) (1.3.1)\n",
      "Requirement already satisfied: nbclient<0.6.0,>=0.5.0 in c:\\python38\\lib\\site-packages (from nbconvert->notebook>=4.4.1->widgetsnbextension~=3.5.0->ipywidgets) (0.5.3)\n",
      "Requirement already satisfied: bleach in c:\\python38\\lib\\site-packages (from nbconvert->notebook>=4.4.1->widgetsnbextension~=3.5.0->ipywidgets) (3.3.0)\n",
      "Requirement already satisfied: pandocfilters>=1.4.1 in c:\\python38\\lib\\site-packages (from nbconvert->notebook>=4.4.1->widgetsnbextension~=3.5.0->ipywidgets) (1.4.3)\n",
      "Requirement already satisfied: entrypoints>=0.2.2 in c:\\python38\\lib\\site-packages (from nbconvert->notebook>=4.4.1->widgetsnbextension~=3.5.0->ipywidgets) (0.3)\n",
      "Requirement already satisfied: testpath in c:\\python38\\lib\\site-packages (from nbconvert->notebook>=4.4.1->widgetsnbextension~=3.5.0->ipywidgets) (0.5.0)\n",
      "Requirement already satisfied: mistune<2,>=0.8.1 in c:\\python38\\lib\\site-packages (from nbconvert->notebook>=4.4.1->widgetsnbextension~=3.5.0->ipywidgets) (0.8.4)\n",
      "Requirement already satisfied: jupyterlab-pygments in c:\\python38\\lib\\site-packages (from nbconvert->notebook>=4.4.1->widgetsnbextension~=3.5.0->ipywidgets) (0.1.2)\n",
      "Requirement already satisfied: defusedxml in c:\\python38\\lib\\site-packages (from nbconvert->notebook>=4.4.1->widgetsnbextension~=3.5.0->ipywidgets) (0.7.1)\n",
      "Requirement already satisfied: nest-asyncio in c:\\python38\\lib\\site-packages (from nbclient<0.6.0,>=0.5.0->nbconvert->notebook>=4.4.1->widgetsnbextension~=3.5.0->ipywidgets) (1.5.1)\n",
      "Requirement already satisfied: async-generator in c:\\python38\\lib\\site-packages (from nbclient<0.6.0,>=0.5.0->nbconvert->notebook>=4.4.1->widgetsnbextension~=3.5.0->ipywidgets) (1.10)\n",
      "Requirement already satisfied: webencodings in c:\\python38\\lib\\site-packages (from bleach->nbconvert->notebook>=4.4.1->widgetsnbextension~=3.5.0->ipywidgets) (0.5.1)\n",
      "Requirement already satisfied: pytz>=2017.3 in c:\\python38\\lib\\site-packages (from pandas->gradio) (2021.1)\n",
      "Requirement already satisfied: bcrypt>=3.1.3 in c:\\python38\\lib\\site-packages (from paramiko->gradio) (3.2.0)\n",
      "Requirement already satisfied: cryptography>=2.5 in c:\\python38\\lib\\site-packages (from paramiko->gradio) (3.4.7)\n",
      "Requirement already satisfied: pynacl>=1.0.1 in c:\\python38\\lib\\site-packages (from paramiko->gradio) (1.4.0)\n",
      "Requirement already satisfied: joblib in c:\\python38\\lib\\site-packages (from sacremoses->transformers) (1.0.1)\n",
      "Installing collected packages: transformers, gradio\n",
      "  Attempting uninstall: transformers\n",
      "    Found existing installation: transformers 4.8.2\n",
      "    Uninstalling transformers-4.8.2:\n",
      "      Successfully uninstalled transformers-4.8.2\n",
      "  Attempting uninstall: gradio\n",
      "    Found existing installation: gradio 2.2.2\n",
      "    Uninstalling gradio-2.2.2:\n",
      "      Successfully uninstalled gradio-2.2.2\n",
      "Successfully installed gradio-2.2.13 transformers-4.9.2\n"
     ]
    }
   ],
   "source": [
    "!pip install transformers ipywidgets gradio --upgrade"
   ]
  },
  {
   "cell_type": "code",
   "execution_count": 1,
   "id": "95f4eb84",
   "metadata": {},
   "outputs": [
    {
     "name": "stderr",
     "output_type": "stream",
     "text": [
      "C:\\Python38\\lib\\site-packages\\torchaudio\\extension\\extension.py:13: UserWarning: torchaudio C++ extension is not available.\n",
      "  warnings.warn('torchaudio C++ extension is not available.')\n",
      "C:\\Python38\\lib\\site-packages\\torchaudio\\backend\\utils.py:89: UserWarning: No audio backend is available.\n",
      "  warnings.warn('No audio backend is available.')\n"
     ]
    }
   ],
   "source": [
    "import gradio as gr # UI Library\n",
    "from transformers import pipeline #Transformers"
   ]
  },
  {
   "cell_type": "code",
   "execution_count": 2,
   "id": "af769c3f",
   "metadata": {},
   "outputs": [],
   "source": [
    "translation_pl = pipeline(\"translation_en_to_fr\")\n",
    "results = translation_pl(\"\")"
   ]
  },
  {
   "cell_type": "code",
   "execution_count": 3,
   "id": "72bfbd15",
   "metadata": {},
   "outputs": [],
   "source": [
    "def translation_transform(text):\n",
    "    results = translation_pl(text)\n",
    "    return results[0][\"translation_text\"]\n"
   ]
  },
  {
   "cell_type": "code",
   "execution_count": 4,
   "id": "29af579c",
   "metadata": {},
   "outputs": [
    {
     "data": {
      "text/plain": [
       "'Mon nom est Kirill'"
      ]
     },
     "execution_count": 4,
     "metadata": {},
     "output_type": "execute_result"
    }
   ],
   "source": [
    "translation_transform(\"My name is Kirill\")"
   ]
  },
  {
   "cell_type": "code",
   "execution_count": 5,
   "id": "d873317c",
   "metadata": {},
   "outputs": [],
   "source": [
    "interface = gr.Interface(fn=translation_transform, inputs=gr.inputs.Textbox(lines=2, placeholder=\"Text to translate\"), outputs=\"text\")"
   ]
  },
  {
   "cell_type": "code",
   "execution_count": 6,
   "id": "78835deb",
   "metadata": {},
   "outputs": [],
   "source": [
    "gr.Interface??"
   ]
  },
  {
   "cell_type": "code",
   "execution_count": 7,
   "id": "8e3e0ba3",
   "metadata": {},
   "outputs": [
    {
     "name": "stdout",
     "output_type": "stream",
     "text": [
      "Running locally at: http://127.0.0.1:7860/\n",
      "To create a public link, set `share=True` in `launch()`.\n",
      "Interface loading below...\n"
     ]
    },
    {
     "data": {
      "text/html": [
       "\n",
       "        <iframe\n",
       "            width=\"900\"\n",
       "            height=\"500\"\n",
       "            src=\"http://127.0.0.1:7860/\"\n",
       "            frameborder=\"0\"\n",
       "            allowfullscreen\n",
       "        ></iframe>\n",
       "        "
      ],
      "text/plain": [
       "<IPython.lib.display.IFrame at 0x219c8b3cdf0>"
      ]
     },
     "metadata": {},
     "output_type": "display_data"
    },
    {
     "data": {
      "text/plain": [
       "(<Flask 'gradio.networking'>, 'http://127.0.0.1:7860/', None)"
      ]
     },
     "execution_count": 7,
     "metadata": {},
     "output_type": "execute_result"
    }
   ],
   "source": [
    "interface.launch()"
   ]
  },
  {
   "cell_type": "code",
   "execution_count": null,
   "id": "6847755c",
   "metadata": {},
   "outputs": [],
   "source": []
  }
 ],
 "metadata": {
  "kernelspec": {
   "display_name": "Python 3",
   "language": "python",
   "name": "python3"
  },
  "language_info": {
   "codemirror_mode": {
    "name": "ipython",
    "version": 3
   },
   "file_extension": ".py",
   "mimetype": "text/x-python",
   "name": "python",
   "nbconvert_exporter": "python",
   "pygments_lexer": "ipython3",
   "version": "3.8.10"
  }
 },
 "nbformat": 4,
 "nbformat_minor": 5
}
