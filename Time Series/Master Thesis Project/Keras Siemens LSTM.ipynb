{
 "cells": [
  {
   "cell_type": "code",
   "execution_count": 132,
   "id": "145002fa",
   "metadata": {},
   "outputs": [],
   "source": [
    "from matplotlib.pylab import rcParams\n",
    "import xlrd\n",
    "import os\n",
    "import numpy as np\n",
    "import matplotlib.pyplot as plt\n",
    "import pandas as pd\n",
    "pd.set_option('display.float_format', lambda x: '%.4f' % x)\n",
    "import seaborn as sns\n",
    "sns.set_context(\"paper\", font_scale=1.3)\n",
    "sns.set_style('white')\n",
    "import warnings\n",
    "warnings.filterwarnings('ignore')\n",
    "from time import time\n",
    "import matplotlib.ticker as tkr\n",
    "from scipy import stats\n",
    "from statsmodels.tsa.stattools import adfuller\n",
    "from sklearn import preprocessing\n",
    "from statsmodels.tsa.stattools import pacf\n",
    "%matplotlib inline\n",
    "import math\n",
    "import keras\n",
    "from keras.models import Sequential\n",
    "from keras.layers import Dense\n",
    "from keras.layers import LSTM\n",
    "\n",
    "from keras.layers import Dropout\n",
    "from keras.layers import *\n",
    "from sklearn.preprocessing import MinMaxScaler\n",
    "from sklearn.metrics import mean_squared_error\n",
    "from sklearn.metrics import mean_absolute_error\n",
    "from keras.callbacks import EarlyStopping\n",
    "\n",
    "from keras.preprocessing.sequence import TimeseriesGenerator\n",
    "from datetime import datetime\n",
    "sns.set()"
   ]
  },
  {
   "cell_type": "code",
   "execution_count": 188,
   "id": "a7ce6c76",
   "metadata": {},
   "outputs": [],
   "source": [
    "rcParams[\"figure.figsize\"] = 15,10\n",
    "\n",
    "\n",
    "\n",
    "df = pd.read_excel(\n",
    "     os.path.join(\"Exc.xlsx\"), engine='openpyxl')\n",
    "df = df.rename(columns={\"Umsatz\":\"value\"})"
   ]
  },
  {
   "cell_type": "code",
   "execution_count": 109,
   "id": "d220b191",
   "metadata": {},
   "outputs": [
    {
     "name": "stdout",
     "output_type": "stream",
     "text": [
      "42\n",
      "13\n"
     ]
    }
   ],
   "source": [
    "\n",
    "close_data = df['Umsatz'].values\n",
    "close_data = close_data.reshape((-1,1))\n",
    "\n",
    "split_percent = 0.77\n",
    "split = int(split_percent*len(close_data))\n",
    "\n",
    "close_train = close_data[:split]\n",
    "close_test = close_data[split:]\n",
    "\n",
    "date_train = df['Time'][:split]\n",
    "date_test = df['Time'][split:]\n",
    "\n",
    "print(len(close_train))\n",
    "print(len(close_test))"
   ]
  },
  {
   "cell_type": "code",
   "execution_count": 110,
   "id": "f825cf21",
   "metadata": {},
   "outputs": [
    {
     "data": {
      "text/plain": [
       "(55, 1)"
      ]
     },
     "execution_count": 110,
     "metadata": {},
     "output_type": "execute_result"
    }
   ],
   "source": [
    "close_data.shape"
   ]
  },
  {
   "cell_type": "code",
   "execution_count": 111,
   "id": "9f872f08",
   "metadata": {},
   "outputs": [],
   "source": [
    "from sklearn.preprocessing import MinMaxScaler, StandardScaler, MaxAbsScaler, RobustScaler\n",
    "\n",
    "def get_scaler(scaler):\n",
    "    scalers = {\n",
    "        \"minmax\": MinMaxScaler,\n",
    "        \"standard\": StandardScaler,\n",
    "        \"maxabs\": MaxAbsScaler,\n",
    "        \"robust\": RobustScaler,\n",
    "    }\n",
    "    return scalers.get(scaler.lower())()\n",
    "# scaler = get_scaler('minmax')\n",
    "# close_train = scaler.fit_transform(close_train)\n",
    "# close_test = scaler.transform(close_test)\n"
   ]
  },
  {
   "cell_type": "code",
   "execution_count": 181,
   "id": "01c02a3e",
   "metadata": {},
   "outputs": [],
   "source": [
    "look_back = 2\n",
    "\n",
    "train_generator = TimeseriesGenerator(close_train, close_train, length=look_back, batch_size=4)     \n",
    "test_generator = TimeseriesGenerator(close_test, close_test, length=look_back, batch_size=1)"
   ]
  },
  {
   "cell_type": "code",
   "execution_count": 186,
   "id": "5d948357",
   "metadata": {
    "scrolled": true
   },
   "outputs": [
    {
     "name": "stdout",
     "output_type": "stream",
     "text": [
      "Epoch 1/100\n",
      "10/10 [==============================] - 2s 198ms/step - loss: 565874711.3469\n",
      "Epoch 2/100\n",
      "10/10 [==============================] - 0s 7ms/step - loss: 538751363.8906\n",
      "Epoch 3/100\n",
      "10/10 [==============================] - 0s 6ms/step - loss: 473579777.8844\n",
      "Epoch 4/100\n",
      "10/10 [==============================] - 0s 15ms/step - loss: 448376715.9266\n",
      "Epoch 5/100\n",
      "10/10 [==============================] - 0s 13ms/step - loss: 442431425.4906\n",
      "Epoch 6/100\n",
      "10/10 [==============================] - 0s 11ms/step - loss: 386151436.1375\n",
      "Epoch 7/100\n",
      "10/10 [==============================] - 0s 10ms/step - loss: 382029561.9812\n",
      "Epoch 8/100\n",
      "10/10 [==============================] - 0s 13ms/step - loss: 377817106.6094\n",
      "Epoch 9/100\n",
      "10/10 [==============================] - 0s 14ms/step - loss: 373350173.7000\n",
      "Epoch 10/100\n",
      "10/10 [==============================] - 0s 12ms/step - loss: 368844640.1656\n",
      "Epoch 11/100\n",
      "10/10 [==============================] - 0s 11ms/step - loss: 364849045.3547\n",
      "Epoch 12/100\n",
      "10/10 [==============================] - 0s 16ms/step - loss: 361528142.8688\n",
      "Epoch 13/100\n",
      "10/10 [==============================] - 0s 4ms/step - loss: 356889821.7922\n",
      "Epoch 14/100\n",
      "10/10 [==============================] - 0s 12ms/step - loss: 353162844.7937\n",
      "Epoch 15/100\n",
      "10/10 [==============================] - 0s 14ms/step - loss: 349916807.5875\n",
      "Epoch 16/100\n",
      "10/10 [==============================] - 0s 9ms/step - loss: 345879836.3688\n",
      "Epoch 17/100\n",
      "10/10 [==============================] - 0s 9ms/step - loss: 343097546.7719\n",
      "Epoch 18/100\n",
      "10/10 [==============================] - 0s 10ms/step - loss: 339350352.3297\n",
      "Epoch 19/100\n",
      "10/10 [==============================] - 0s 6ms/step - loss: 336631322.8344\n",
      "Epoch 20/100\n",
      "10/10 [==============================] - 0s 7ms/step - loss: 333726918.2094\n",
      "Epoch 21/100\n",
      "10/10 [==============================] - 0s 13ms/step - loss: 331142444.5234\n",
      "Epoch 22/100\n",
      "10/10 [==============================] - 0s 14ms/step - loss: 327768734.1891\n",
      "Epoch 23/100\n",
      "10/10 [==============================] - 0s 15ms/step - loss: 325480521.6094\n",
      "Epoch 24/100\n",
      "10/10 [==============================] - 0s 15ms/step - loss: 323404516.6156\n",
      "Epoch 25/100\n",
      "10/10 [==============================] - 0s 13ms/step - loss: 321186146.5125\n",
      "Epoch 26/100\n",
      "10/10 [==============================] - 0s 15ms/step - loss: 318271916.5797\n",
      "Epoch 27/100\n",
      "10/10 [==============================] - 0s 14ms/step - loss: 316453782.9914\n",
      "Epoch 28/100\n",
      "10/10 [==============================] - 0s 13ms/step - loss: 314392335.1133\n",
      "Epoch 29/100\n",
      "10/10 [==============================] - 0s 13ms/step - loss: 311938600.3828\n",
      "Epoch 30/100\n",
      "10/10 [==============================] - 0s 13ms/step - loss: 309974921.9047\n",
      "Epoch 31/100\n",
      "10/10 [==============================] - 0s 12ms/step - loss: 307451075.9492\n",
      "Epoch 32/100\n",
      "10/10 [==============================] - 0s 13ms/step - loss: 306047142.8656\n",
      "Epoch 33/100\n",
      "10/10 [==============================] - 0s 14ms/step - loss: 303643315.73440s - loss: 444378231.333\n",
      "Epoch 34/100\n",
      "10/10 [==============================] - 0s 14ms/step - loss: 301584847.9414\n",
      "Epoch 35/100\n",
      "10/10 [==============================] - 0s 13ms/step - loss: 299709049.3781\n",
      "Epoch 36/100\n",
      "10/10 [==============================] - 0s 16ms/step - loss: 297830283.9469\n",
      "Epoch 37/100\n",
      "10/10 [==============================] - 0s 13ms/step - loss: 296018043.5891\n",
      "Epoch 38/100\n",
      "10/10 [==============================] - 0s 13ms/step - loss: 294353761.5516\n",
      "Epoch 39/100\n",
      "10/10 [==============================] - 0s 12ms/step - loss: 292523535.4031\n",
      "Epoch 40/100\n",
      "10/10 [==============================] - 0s 13ms/step - loss: 290711169.8406\n",
      "Epoch 41/100\n",
      "10/10 [==============================] - 0s 12ms/step - loss: 289069735.7797\n",
      "Epoch 42/100\n",
      "10/10 [==============================] - 0s 13ms/step - loss: 287240924.7844\n",
      "Epoch 43/100\n",
      "10/10 [==============================] - 0s 15ms/step - loss: 285575757.7539\n",
      "Epoch 44/100\n",
      "10/10 [==============================] - 0s 16ms/step - loss: 284185845.4375\n",
      "Epoch 45/100\n",
      "10/10 [==============================] - 0s 16ms/step - loss: 282639457.1766\n",
      "Epoch 46/100\n",
      "10/10 [==============================] - 0s 14ms/step - loss: 281161735.8500\n",
      "Epoch 47/100\n",
      "10/10 [==============================] - 0s 5ms/step - loss: 279469944.8562\n",
      "Epoch 48/100\n",
      "10/10 [==============================] - 0s 16ms/step - loss: 278126114.2844\n",
      "Epoch 49/100\n",
      "10/10 [==============================] - 0s 15ms/step - loss: 276696697.1578\n",
      "Epoch 50/100\n",
      "10/10 [==============================] - 0s 9ms/step - loss: 275181409.0250\n",
      "Epoch 51/100\n",
      "10/10 [==============================] - 0s 10ms/step - loss: 273843482.6977\n",
      "Epoch 52/100\n",
      "10/10 [==============================] - 0s 8ms/step - loss: 272490492.2375\n",
      "Epoch 53/100\n",
      "10/10 [==============================] - 0s 8ms/step - loss: 271292950.7094\n",
      "Epoch 54/100\n",
      "10/10 [==============================] - 0s 8ms/step - loss: 270193184.7398\n",
      "Epoch 55/100\n",
      "10/10 [==============================] - 0s 7ms/step - loss: 268634417.3750\n",
      "Epoch 56/100\n",
      "10/10 [==============================] - 0s 14ms/step - loss: 267593668.6625\n",
      "Epoch 57/100\n",
      "10/10 [==============================] - 0s 12ms/step - loss: 266331256.3484\n",
      "Epoch 58/100\n",
      "10/10 [==============================] - 0s 13ms/step - loss: 265344223.9289\n",
      "Epoch 59/100\n",
      "10/10 [==============================] - 0s 11ms/step - loss: 264149588.7812\n",
      "Epoch 60/100\n",
      "10/10 [==============================] - 0s 13ms/step - loss: 263195762.1930\n",
      "Epoch 61/100\n",
      "10/10 [==============================] - 0s 9ms/step - loss: 262272624.6680\n",
      "Epoch 62/100\n",
      "10/10 [==============================] - 0s 10ms/step - loss: 261144269.0602\n",
      "Epoch 63/100\n",
      "10/10 [==============================] - 0s 12ms/step - loss: 260313204.6484\n",
      "Epoch 64/100\n",
      "10/10 [==============================] - 0s 11ms/step - loss: 259493777.3812\n",
      "Epoch 65/100\n",
      "10/10 [==============================] - 0s 5ms/step - loss: 258398821.1883\n",
      "Epoch 66/100\n",
      "10/10 [==============================] - 0s 14ms/step - loss: 257556824.1930\n",
      "Epoch 67/100\n",
      "10/10 [==============================] - 0s 13ms/step - loss: 256591578.4859\n",
      "Epoch 68/100\n",
      "10/10 [==============================] - 0s 11ms/step - loss: 255886664.2359\n",
      "Epoch 69/100\n",
      "10/10 [==============================] - 0s 11ms/step - loss: 254919593.6602\n",
      "Epoch 70/100\n",
      "10/10 [==============================] - 0s 14ms/step - loss: 254266061.3203\n",
      "Epoch 71/100\n",
      "10/10 [==============================] - 0s 5ms/step - loss: 253422879.5672\n",
      "Epoch 72/100\n",
      "10/10 [==============================] - 0s 17ms/step - loss: 252807142.4844\n",
      "Epoch 73/100\n",
      "10/10 [==============================] - 0s 13ms/step - loss: 252143734.8633\n",
      "Epoch 74/100\n",
      "10/10 [==============================] - 0s 11ms/step - loss: 251372302.6844\n",
      "Epoch 75/100\n",
      "10/10 [==============================] - 0s 14ms/step - loss: 250781305.8605\n",
      "Epoch 76/100\n",
      "10/10 [==============================] - 0s 18ms/step - loss: 250356667.9094\n",
      "Epoch 77/100\n",
      "10/10 [==============================] - 0s 8ms/step - loss: 249747910.9566\n",
      "Epoch 78/100\n",
      "10/10 [==============================] - 0s 7ms/step - loss: 249119399.0957\n",
      "Epoch 79/100\n",
      "10/10 [==============================] - 0s 4ms/step - loss: 248696415.9289\n",
      "Epoch 80/100\n",
      "10/10 [==============================] - 0s 8ms/step - loss: 248254328.6582\n",
      "Epoch 81/100\n",
      "10/10 [==============================] - 0s 6ms/step - loss: 247664893.4047\n",
      "Epoch 82/100\n",
      "10/10 [==============================] - 0s 17ms/step - loss: 247212134.4375\n",
      "Epoch 83/100\n",
      "10/10 [==============================] - 0s 9ms/step - loss: 246849629.1469\n",
      "Epoch 84/100\n",
      "10/10 [==============================] - 0s 5ms/step - loss: 246457312.8938\n",
      "Epoch 85/100\n",
      "10/10 [==============================] - 0s 16ms/step - loss: 246025779.8273\n",
      "Epoch 86/100\n",
      "10/10 [==============================] - 0s 13ms/step - loss: 245711375.8812\n",
      "Epoch 87/100\n",
      "10/10 [==============================] - 0s 12ms/step - loss: 245337381.9484\n",
      "Epoch 88/100\n",
      "10/10 [==============================] - 0s 7ms/step - loss: 245051076.5023\n",
      "Epoch 89/100\n",
      "10/10 [==============================] - 0s 7ms/step - loss: 244710827.8438\n",
      "Epoch 90/100\n",
      "10/10 [==============================] - 0s 6ms/step - loss: 244443682.1078\n",
      "Epoch 91/100\n",
      "10/10 [==============================] - 0s 13ms/step - loss: 243687647.2004\n",
      "Epoch 92/100\n"
     ]
    },
    {
     "name": "stdout",
     "output_type": "stream",
     "text": [
      "10/10 [==============================] - 0s 11ms/step - loss: 242228280.2871\n",
      "Epoch 93/100\n",
      "10/10 [==============================] - ETA: 0s - loss: 231903565.652 - 0s 13ms/step - loss: 241508712.7914\n",
      "Epoch 94/100\n",
      "10/10 [==============================] - 0s 7ms/step - loss: 241264180.2562\n",
      "Epoch 95/100\n",
      "10/10 [==============================] - 0s 4ms/step - loss: 241131032.6730\n",
      "Epoch 96/100\n",
      "10/10 [==============================] - 0s 13ms/step - loss: 240916691.8957\n",
      "Epoch 97/100\n",
      "10/10 [==============================] - 0s 11ms/step - loss: 240749818.6164\n",
      "Epoch 98/100\n",
      "10/10 [==============================] - 0s 11ms/step - loss: 240509400.3164\n",
      "Epoch 99/100\n",
      "10/10 [==============================] - 0s 11ms/step - loss: 240375188.0898\n",
      "Epoch 100/100\n",
      "10/10 [==============================] - 0s 11ms/step - loss: 240245661.8063\n"
     ]
    },
    {
     "data": {
      "text/plain": [
       "<keras.callbacks.callbacks.History at 0x19ec2add278>"
      ]
     },
     "execution_count": 186,
     "metadata": {},
     "output_type": "execute_result"
    }
   ],
   "source": [
    "\n",
    "from keras.models import Sequential\n",
    "from keras.layers import LSTM, Dense\n",
    "\n",
    "model = Sequential()\n",
    "model.add(\n",
    "    LSTM(4,\n",
    "        activation='relu',\n",
    "        input_shape=(look_back,1))\n",
    ")\n",
    "\n",
    "model.add(Dense(1))\n",
    "model.compile(optimizer='adam', loss='mse')\n",
    "\n",
    "num_epochs = 100\n",
    "model.fit_generator(train_generator, epochs=num_epochs, verbose=1)"
   ]
  },
  {
   "cell_type": "code",
   "execution_count": 183,
   "id": "fe002b3b",
   "metadata": {},
   "outputs": [],
   "source": [
    "prediction = model.predict_generator(test_generator)\n",
    "\n",
    "\n",
    "# close_train_arr = scaler.inverse_transform(close_train)\n",
    "# close_test_arr = scaler.inverse_transform(close_test)\n",
    "# prediction_arr = scaler.inverse_transform(prediction)\n",
    "\n",
    "data_train = close_train.reshape((-1))\n",
    "data_test = close_test.reshape((-1))\n",
    "prediction = prediction.reshape((-1))"
   ]
  },
  {
   "cell_type": "code",
   "execution_count": 185,
   "id": "c613fe57",
   "metadata": {
    "scrolled": false
   },
   "outputs": [
    {
     "data": {
      "text/plain": [
       "Text(0.5, 0, 'Zeit')"
      ]
     },
     "execution_count": 185,
     "metadata": {},
     "output_type": "execute_result"
    },
    {
     "data": {
      "image/png": "[encoded data removed]",
      "text/plain": [
       "<Figure size 1080x720 with 1 Axes>"
      ]
     },
     "metadata": {},
     "output_type": "display_data"
    }
   ],
   "source": [
    "train = pd.DataFrame(df.Umsatz.values[:44], index = df.Time[:44])\n",
    "test = pd.DataFrame(df.Umsatz.values[44:], index = df.Time[44:])\n",
    "pred = pd.DataFrame(prediction, index = df.Time[43:54])\n",
    "plt.plot(train)\n",
    "plt.plot(test)\n",
    "plt.plot(pred)\n",
    "plt.legend((\"Train\",\"Test\",'Predictions'), fontsize=16)\n",
    "\n",
    "plt.title('LSTM', fontsize=20)\n",
    "plt.ylabel('Umsatz', fontsize=16)\n",
    "plt.xlabel(\"Zeit\", fontsize=16)"
   ]
  },
  {
   "cell_type": "code",
   "execution_count": 130,
   "id": "ed8def87",
   "metadata": {},
   "outputs": [
    {
     "data": {
      "text/plain": [
       "0         5\n",
       "1       118\n",
       "2       241\n",
       "3       378\n",
       "4       419\n",
       "5       806\n",
       "6      2940\n",
       "7      2427\n",
       "8      3060\n",
       "9      4606\n",
       "10     5578\n",
       "11     5445\n",
       "12     5334\n",
       "13     8822\n",
       "14    10239\n",
       "15    12053\n",
       "16    13102\n",
       "17    10604\n",
       "18    23950\n",
       "19    22276\n",
       "20    15821\n",
       "21    16645\n",
       "22    30660\n",
       "23    22955\n",
       "24    18154\n",
       "25    19510\n",
       "26    32498\n",
       "27    26064\n",
       "28    19751\n",
       "29    23678\n",
       "30    51182\n",
       "31    40282\n",
       "32    31368\n",
       "33    32209\n",
       "34    51635\n",
       "35    32857\n",
       "36    24048\n",
       "37    28160\n",
       "38    54378\n",
       "39    33249\n",
       "40    24846\n",
       "41    28846\n",
       "42    61104\n",
       "43    37559\n",
       "44    29470\n",
       "45    36755\n",
       "46    51982\n",
       "47    31051\n",
       "48    25986\n",
       "49    33362\n",
       "50    55957\n",
       "51    28962\n",
       "52    26418\n",
       "53    26444\n",
       "54    65597\n",
       "Name: Umsatz, dtype: int64"
      ]
     },
     "execution_count": 130,
     "metadata": {},
     "output_type": "execute_result"
    }
   ],
   "source": [
    "data = df.Umsatz\n",
    "data"
   ]
  },
  {
   "cell_type": "code",
   "execution_count": 178,
   "id": "9505f8a8",
   "metadata": {},
   "outputs": [
    {
     "ename": "ValueError",
     "evalue": "Found input variables with inconsistent numbers of samples: [11, 12]",
     "output_type": "error",
     "traceback": [
      "\u001b[1;31m---------------------------------------------------------------------------\u001b[0m",
      "\u001b[1;31mValueError\u001b[0m                                Traceback (most recent call last)",
      "\u001b[1;32m<ipython-input-178-9dbc8bae0414>\u001b[0m in \u001b[0;36m<module>\u001b[1;34m\u001b[0m\n\u001b[0;32m      1\u001b[0m \u001b[1;32mfrom\u001b[0m \u001b[0msklearn\u001b[0m\u001b[1;33m.\u001b[0m\u001b[0mmetrics\u001b[0m \u001b[1;32mimport\u001b[0m \u001b[0mmean_squared_error\u001b[0m\u001b[1;33m,\u001b[0m \u001b[0mmean_absolute_percentage_error\u001b[0m\u001b[1;33m,\u001b[0m \u001b[0mmean_absolute_error\u001b[0m \u001b[1;32mas\u001b[0m \u001b[0mmae\u001b[0m\u001b[1;33m,\u001b[0m \u001b[0mmean_squared_error\u001b[0m\u001b[1;33m\u001b[0m\u001b[1;33m\u001b[0m\u001b[0m\n\u001b[1;32m----> 2\u001b[1;33m print(\"MSE:\", mean_squared_error(data.values[44:], pred),\n\u001b[0m\u001b[0;32m      3\u001b[0m      \u001b[1;34m\"MAPE:\"\u001b[0m\u001b[1;33m,\u001b[0m \u001b[0mmean_absolute_percentage_error\u001b[0m\u001b[1;33m(\u001b[0m\u001b[0mdata\u001b[0m\u001b[1;33m.\u001b[0m\u001b[0mvalues\u001b[0m\u001b[1;33m[\u001b[0m\u001b[1;36m44\u001b[0m\u001b[1;33m:\u001b[0m\u001b[1;33m]\u001b[0m\u001b[1;33m,\u001b[0m \u001b[0mpred\u001b[0m\u001b[1;33m)\u001b[0m\u001b[1;33m,\u001b[0m\u001b[1;33m\u001b[0m\u001b[1;33m\u001b[0m\u001b[0m\n\u001b[0;32m      4\u001b[0m       \u001b[1;34m\"MAE:\"\u001b[0m\u001b[1;33m,\u001b[0m \u001b[0mmae\u001b[0m\u001b[1;33m(\u001b[0m\u001b[0mdata\u001b[0m\u001b[1;33m.\u001b[0m\u001b[0mvalues\u001b[0m\u001b[1;33m[\u001b[0m\u001b[1;36m44\u001b[0m\u001b[1;33m:\u001b[0m\u001b[1;33m]\u001b[0m\u001b[1;33m,\u001b[0m \u001b[0mpred\u001b[0m\u001b[1;33m)\u001b[0m\u001b[1;33m,\u001b[0m\u001b[1;33m\u001b[0m\u001b[1;33m\u001b[0m\u001b[0m\n\u001b[0;32m      5\u001b[0m       \"RMSE:\", np.sqrt(mean_squared_error(data.values[44:], pred)))\n",
      "\u001b[1;32m~\\Anaconda3\\envs\\pytrch\\lib\\site-packages\\sklearn\\utils\\validation.py\u001b[0m in \u001b[0;36minner_f\u001b[1;34m(*args, **kwargs)\u001b[0m\n\u001b[0;32m     61\u001b[0m             \u001b[0mextra_args\u001b[0m \u001b[1;33m=\u001b[0m \u001b[0mlen\u001b[0m\u001b[1;33m(\u001b[0m\u001b[0margs\u001b[0m\u001b[1;33m)\u001b[0m \u001b[1;33m-\u001b[0m \u001b[0mlen\u001b[0m\u001b[1;33m(\u001b[0m\u001b[0mall_args\u001b[0m\u001b[1;33m)\u001b[0m\u001b[1;33m\u001b[0m\u001b[1;33m\u001b[0m\u001b[0m\n\u001b[0;32m     62\u001b[0m             \u001b[1;32mif\u001b[0m \u001b[0mextra_args\u001b[0m \u001b[1;33m<=\u001b[0m \u001b[1;36m0\u001b[0m\u001b[1;33m:\u001b[0m\u001b[1;33m\u001b[0m\u001b[1;33m\u001b[0m\u001b[0m\n\u001b[1;32m---> 63\u001b[1;33m                 \u001b[1;32mreturn\u001b[0m \u001b[0mf\u001b[0m\u001b[1;33m(\u001b[0m\u001b[1;33m*\u001b[0m\u001b[0margs\u001b[0m\u001b[1;33m,\u001b[0m \u001b[1;33m**\u001b[0m\u001b[0mkwargs\u001b[0m\u001b[1;33m)\u001b[0m\u001b[1;33m\u001b[0m\u001b[1;33m\u001b[0m\u001b[0m\n\u001b[0m\u001b[0;32m     64\u001b[0m \u001b[1;33m\u001b[0m\u001b[0m\n\u001b[0;32m     65\u001b[0m             \u001b[1;31m# extra_args > 0\u001b[0m\u001b[1;33m\u001b[0m\u001b[1;33m\u001b[0m\u001b[1;33m\u001b[0m\u001b[0m\n",
      "\u001b[1;32m~\\Anaconda3\\envs\\pytrch\\lib\\site-packages\\sklearn\\metrics\\_regression.py\u001b[0m in \u001b[0;36mmean_squared_error\u001b[1;34m(y_true, y_pred, sample_weight, multioutput, squared)\u001b[0m\n\u001b[0;32m    334\u001b[0m     \"\"\"\n\u001b[0;32m    335\u001b[0m     y_type, y_true, y_pred, multioutput = _check_reg_targets(\n\u001b[1;32m--> 336\u001b[1;33m         y_true, y_pred, multioutput)\n\u001b[0m\u001b[0;32m    337\u001b[0m     \u001b[0mcheck_consistent_length\u001b[0m\u001b[1;33m(\u001b[0m\u001b[0my_true\u001b[0m\u001b[1;33m,\u001b[0m \u001b[0my_pred\u001b[0m\u001b[1;33m,\u001b[0m \u001b[0msample_weight\u001b[0m\u001b[1;33m)\u001b[0m\u001b[1;33m\u001b[0m\u001b[1;33m\u001b[0m\u001b[0m\n\u001b[0;32m    338\u001b[0m     output_errors = np.average((y_true - y_pred) ** 2, axis=0,\n",
      "\u001b[1;32m~\\Anaconda3\\envs\\pytrch\\lib\\site-packages\\sklearn\\metrics\\_regression.py\u001b[0m in \u001b[0;36m_check_reg_targets\u001b[1;34m(y_true, y_pred, multioutput, dtype)\u001b[0m\n\u001b[0;32m     86\u001b[0m         \u001b[0mthe\u001b[0m \u001b[0mdtype\u001b[0m \u001b[0margument\u001b[0m \u001b[0mpassed\u001b[0m \u001b[0mto\u001b[0m \u001b[0mcheck_array\u001b[0m\u001b[1;33m.\u001b[0m\u001b[1;33m\u001b[0m\u001b[1;33m\u001b[0m\u001b[0m\n\u001b[0;32m     87\u001b[0m     \"\"\"\n\u001b[1;32m---> 88\u001b[1;33m     \u001b[0mcheck_consistent_length\u001b[0m\u001b[1;33m(\u001b[0m\u001b[0my_true\u001b[0m\u001b[1;33m,\u001b[0m \u001b[0my_pred\u001b[0m\u001b[1;33m)\u001b[0m\u001b[1;33m\u001b[0m\u001b[1;33m\u001b[0m\u001b[0m\n\u001b[0m\u001b[0;32m     89\u001b[0m     \u001b[0my_true\u001b[0m \u001b[1;33m=\u001b[0m \u001b[0mcheck_array\u001b[0m\u001b[1;33m(\u001b[0m\u001b[0my_true\u001b[0m\u001b[1;33m,\u001b[0m \u001b[0mensure_2d\u001b[0m\u001b[1;33m=\u001b[0m\u001b[1;32mFalse\u001b[0m\u001b[1;33m,\u001b[0m \u001b[0mdtype\u001b[0m\u001b[1;33m=\u001b[0m\u001b[0mdtype\u001b[0m\u001b[1;33m)\u001b[0m\u001b[1;33m\u001b[0m\u001b[1;33m\u001b[0m\u001b[0m\n\u001b[0;32m     90\u001b[0m     \u001b[0my_pred\u001b[0m \u001b[1;33m=\u001b[0m \u001b[0mcheck_array\u001b[0m\u001b[1;33m(\u001b[0m\u001b[0my_pred\u001b[0m\u001b[1;33m,\u001b[0m \u001b[0mensure_2d\u001b[0m\u001b[1;33m=\u001b[0m\u001b[1;32mFalse\u001b[0m\u001b[1;33m,\u001b[0m \u001b[0mdtype\u001b[0m\u001b[1;33m=\u001b[0m\u001b[0mdtype\u001b[0m\u001b[1;33m)\u001b[0m\u001b[1;33m\u001b[0m\u001b[1;33m\u001b[0m\u001b[0m\n",
      "\u001b[1;32m~\\Anaconda3\\envs\\pytrch\\lib\\site-packages\\sklearn\\utils\\validation.py\u001b[0m in \u001b[0;36mcheck_consistent_length\u001b[1;34m(*arrays)\u001b[0m\n\u001b[0;32m    318\u001b[0m     \u001b[1;32mif\u001b[0m \u001b[0mlen\u001b[0m\u001b[1;33m(\u001b[0m\u001b[0muniques\u001b[0m\u001b[1;33m)\u001b[0m \u001b[1;33m>\u001b[0m \u001b[1;36m1\u001b[0m\u001b[1;33m:\u001b[0m\u001b[1;33m\u001b[0m\u001b[1;33m\u001b[0m\u001b[0m\n\u001b[0;32m    319\u001b[0m         raise ValueError(\"Found input variables with inconsistent numbers of\"\n\u001b[1;32m--> 320\u001b[1;33m                          \" samples: %r\" % [int(l) for l in lengths])\n\u001b[0m\u001b[0;32m    321\u001b[0m \u001b[1;33m\u001b[0m\u001b[0m\n\u001b[0;32m    322\u001b[0m \u001b[1;33m\u001b[0m\u001b[0m\n",
      "\u001b[1;31mValueError\u001b[0m: Found input variables with inconsistent numbers of samples: [11, 12]"
     ]
    }
   ],
   "source": [
    "from sklearn.metrics import mean_squared_error, mean_absolute_percentage_error, mean_absolute_error as mae, mean_squared_error\n",
    "print(\"MSE:\", mean_squared_error(data.values[44:], pred),\n",
    "     \"MAPE:\", mean_absolute_percentage_error(data.values[44:], pred),\n",
    "      \"MAE:\", mae(data.values[44:], pred),\n",
    "      \"RMSE:\", np.sqrt(mean_squared_error(data.values[44:], pred)))"
   ]
  },
  {
   "cell_type": "code",
   "execution_count": null,
   "id": "173e6875",
   "metadata": {},
   "outputs": [],
   "source": []
  }
 ],
 "metadata": {
  "kernelspec": {
   "display_name": "Python [conda env:pytrch]",
   "language": "python",
   "name": "conda-env-pytrch-py"
  },
  "language_info": {
   "codemirror_mode": {
    "name": "ipython",
    "version": 3
   },
   "file_extension": ".py",
   "mimetype": "text/x-python",
   "name": "python",
   "nbconvert_exporter": "python",
   "pygments_lexer": "ipython3",
   "version": "3.6.13"
  }
 },
 "nbformat": 4,
 "nbformat_minor": 5
}
