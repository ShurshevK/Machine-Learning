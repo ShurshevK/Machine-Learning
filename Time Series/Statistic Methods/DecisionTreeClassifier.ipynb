{
 "cells": [
  {
   "cell_type": "code",
   "execution_count": 1,
   "id": "d19f7c2e",
   "metadata": {},
   "outputs": [],
   "source": [
    "import pandas as pd\n",
    "from sklearn.tree import DecisionTreeClassifier #Decision tree\n",
    "from sklearn.model_selection import train_test_split # trainsplit for buiding"
   ]
  },
  {
   "cell_type": "code",
   "execution_count": 2,
   "id": "14f276a4",
   "metadata": {},
   "outputs": [
    {
     "name": "stdout",
     "output_type": "stream",
     "text": [
      "[0]\n"
     ]
    }
   ],
   "source": [
    "df = pd.read_csv('https://sololearn.com/uploads/files/titanic.csv')\n",
    "df['male'] = df['Sex'] == 'male'\n",
    "X = df[['Pclass', 'male', 'Age', 'Siblings/Spouses', 'Parents/Children', 'Fare']].values # to get 2D numpy array\n",
    "y = df['Survived'].values # 1D\n",
    "\n",
    "X_train, X_test, y_train, y_test = train_test_split(X, y, random_state=22)\n",
    "model = DecisionTreeClassifier()\n",
    "model.fit(X_train, y_train)\n",
    "print(model.predict([[3, True, 22, 1, 0, 7.25]])) # 3 Pclass, male, 22 yo, has siblings, no parents, fare 7.25)"
   ]
  },
  {
   "cell_type": "markdown",
   "id": "5611527d",
   "metadata": {},
   "source": [
    "### Prediction says that the passenger will not survive"
   ]
  },
  {
   "cell_type": "markdown",
   "id": "990f8d6d",
   "metadata": {},
   "source": [
    "### eveluation of the model"
   ]
  },
  {
   "cell_type": "code",
   "execution_count": 3,
   "id": "5c4bc1ad",
   "metadata": {},
   "outputs": [],
   "source": [
    "from sklearn.model_selection import KFold\n",
    "from sklearn.metrics import precision_score, recall_score\n",
    "import numpy as np\n",
    "from sklearn.linear_model import LogisticRegression"
   ]
  },
  {
   "cell_type": "code",
   "execution_count": 4,
   "id": "a0bb6196",
   "metadata": {},
   "outputs": [
    {
     "name": "stdout",
     "output_type": "stream",
     "text": [
      "Decision Tree\n",
      "  accuracy: 0.7790135212340507\n",
      "  precision: 0.7172917633690684\n",
      "  recall: 0.7062371452077334\n",
      "Logistic Regression\n",
      "  accuracy: 0.7970354853043865\n",
      "  precision: 0.7618898922983288\n",
      "  recall: 0.6900529617441382\n"
     ]
    }
   ],
   "source": [
    "kf = KFold(n_splits=5, shuffle=True, random_state=10)\n",
    "dt_accuracy_scores = []\n",
    "dt_precision_scores = []\n",
    "dt_recall_scores = []\n",
    "lr_accuracy_scores = []\n",
    "lr_precision_scores = []\n",
    "lr_recall_scores = []\n",
    "for train_index, test_index in kf.split(X):\n",
    "    X_train, X_test = X[train_index], X[test_index]\n",
    "    y_train, y_test = y[train_index], y[test_index]\n",
    "    dt = DecisionTreeClassifier()\n",
    "    dt.fit(X_train, y_train)\n",
    "    dt_accuracy_scores.append(dt.score(X_test, y_test))\n",
    "    dt_y_pred = dt.predict(X_test)\n",
    "    dt_precision_scores.append(precision_score(y_test, dt_y_pred))\n",
    "    dt_recall_scores.append(recall_score(y_test, dt_y_pred))\n",
    "    lr = LogisticRegression()\n",
    "    lr.fit(X_train, y_train)\n",
    "    lr_accuracy_scores.append(lr.score(X_test, y_test))\n",
    "    lr_y_pred = lr.predict(X_test)\n",
    "    lr_precision_scores.append(precision_score(y_test, lr_y_pred))\n",
    "    lr_recall_scores.append(recall_score(y_test, lr_y_pred))\n",
    "print(\"Decision Tree\")\n",
    "print(\"  accuracy:\", np.mean(dt_accuracy_scores))\n",
    "print(\"  precision:\", np.mean(dt_precision_scores))\n",
    "print(\"  recall:\", np.mean(dt_recall_scores))\n",
    "print(\"Logistic Regression\")\n",
    "print(\"  accuracy:\", np.mean(lr_accuracy_scores))\n",
    "print(\"  precision:\", np.mean(lr_precision_scores))\n",
    "print(\"  recall:\", np.mean(lr_recall_scores))"
   ]
  },
  {
   "cell_type": "markdown",
   "id": "7eaf10e9",
   "metadata": {},
   "source": [
    "### gini and entropy "
   ]
  },
  {
   "cell_type": "code",
   "execution_count": 5,
   "id": "5eb8add6",
   "metadata": {},
   "outputs": [
    {
     "name": "stdout",
     "output_type": "stream",
     "text": [
      "Decision Tree - gini\n",
      "accuracy: 0.7778962737256396\n",
      "precision: 0.7146938285705532\n",
      "recall: 0.7098368325281109 \n",
      "\n",
      "\n",
      "Decision Tree - entropy\n",
      "accuracy: 0.7744937472227512\n",
      "precision: 0.7044888639192612\n",
      "recall: 0.7211442878668006 \n",
      "\n",
      "\n"
     ]
    }
   ],
   "source": [
    "from sklearn.metrics import accuracy_score, precision_score, recall_score\n",
    "kf = KFold(n_splits=5, shuffle=True)\n",
    "for criterion in ['gini', 'entropy']:\n",
    "    print(\"Decision Tree - {}\".format(criterion))\n",
    "    accuracy = []\n",
    "    precision = []\n",
    "    recall = []\n",
    "    for train_index, test_index in kf.split(X):\n",
    "        X_train, X_test = X[train_index], X[test_index]\n",
    "        y_train, y_test = y[train_index], y[test_index]\n",
    "        dt = DecisionTreeClassifier(criterion=criterion)\n",
    "        dt.fit(X_train, y_train)\n",
    "        y_pred = dt.predict(X_test)\n",
    "        accuracy.append(accuracy_score(y_test, y_pred))\n",
    "        precision.append(precision_score(y_test, y_pred))\n",
    "        recall.append(recall_score(y_test, y_pred))\n",
    "    print(\"accuracy:\", np.mean(accuracy))\n",
    "    print(\"precision:\", np.mean(precision))\n",
    "    print(\"recall:\", np.mean(recall), '\\n')\n",
    "    print()"
   ]
  },
  {
   "cell_type": "markdown",
   "id": "9e45b1bc",
   "metadata": {},
   "source": [
    "### Visualization"
   ]
  },
  {
   "cell_type": "code",
   "execution_count": 8,
   "id": "1be1f5ee",
   "metadata": {
    "scrolled": false
   },
   "outputs": [
    {
     "data": {
      "image/svg+xml": [
       "<?xml version=\"1.0\" encoding=\"UTF-8\" standalone=\"no\"?>\r\n",
       "<!DOCTYPE svg PUBLIC \"-//W3C//DTD SVG 1.1//EN\"\r\n",
       " \"http://www.w3.org/Graphics/SVG/1.1/DTD/svg11.dtd\">\r\n",
       "<!-- Generated by graphviz version 2.38.0 (20140413.2041)\r\n",
       " -->\r\n",
       "<!-- Title: Tree Pages: 1 -->\r\n",
       "<svg width=\"609pt\" height=\"373pt\"\r\n",
       " viewBox=\"0.00 0.00 608.50 373.00\" xmlns=\"http://www.w3.org/2000/svg\" xmlns:xlink=\"http://www.w3.org/1999/xlink\">\r\n",
       "<g id=\"graph0\" class=\"graph\" transform=\"scale(1 1) rotate(0) translate(4 369)\">\r\n",
       "<title>Tree</title>\r\n",
       "<polygon fill=\"white\" stroke=\"none\" points=\"-4,4 -4,-369 604.5,-369 604.5,4 -4,4\"/>\r\n",
       "<!-- 0 -->\r\n",
       "<g id=\"node1\" class=\"node\"><title>0</title>\r\n",
       "<polygon fill=\"none\" stroke=\"black\" points=\"351,-365 233,-365 233,-297 351,-297 351,-365\"/>\r\n",
       "<text text-anchor=\"middle\" x=\"292\" y=\"-349.8\" font-family=\"Times New Roman,serif\" font-size=\"14.00\">male &lt;= 0.5</text>\r\n",
       "<text text-anchor=\"middle\" x=\"292\" y=\"-334.8\" font-family=\"Times New Roman,serif\" font-size=\"14.00\">gini = 0.474</text>\r\n",
       "<text text-anchor=\"middle\" x=\"292\" y=\"-319.8\" font-family=\"Times New Roman,serif\" font-size=\"14.00\">samples = 887</text>\r\n",
       "<text text-anchor=\"middle\" x=\"292\" y=\"-304.8\" font-family=\"Times New Roman,serif\" font-size=\"14.00\">value = [545, 342]</text>\r\n",
       "</g>\r\n",
       "<!-- 1 -->\r\n",
       "<g id=\"node2\" class=\"node\"><title>1</title>\r\n",
       "<polygon fill=\"none\" stroke=\"black\" points=\"281.5,-261 170.5,-261 170.5,-193 281.5,-193 281.5,-261\"/>\r\n",
       "<text text-anchor=\"middle\" x=\"226\" y=\"-245.8\" font-family=\"Times New Roman,serif\" font-size=\"14.00\">Pclass &lt;= 2.5</text>\r\n",
       "<text text-anchor=\"middle\" x=\"226\" y=\"-230.8\" font-family=\"Times New Roman,serif\" font-size=\"14.00\">gini = 0.383</text>\r\n",
       "<text text-anchor=\"middle\" x=\"226\" y=\"-215.8\" font-family=\"Times New Roman,serif\" font-size=\"14.00\">samples = 314</text>\r\n",
       "<text text-anchor=\"middle\" x=\"226\" y=\"-200.8\" font-family=\"Times New Roman,serif\" font-size=\"14.00\">value = [81, 233]</text>\r\n",
       "</g>\r\n",
       "<!-- 0&#45;&gt;1 -->\r\n",
       "<g id=\"edge1\" class=\"edge\"><title>0&#45;&gt;1</title>\r\n",
       "<path fill=\"none\" stroke=\"black\" d=\"M270.572,-296.884C264.981,-288.243 258.883,-278.819 253.042,-269.793\"/>\r\n",
       "<polygon fill=\"black\" stroke=\"black\" points=\"255.918,-267.794 247.547,-261.299 250.041,-271.596 255.918,-267.794\"/>\r\n",
       "<text text-anchor=\"middle\" x=\"242.308\" y=\"-282.044\" font-family=\"Times New Roman,serif\" font-size=\"14.00\">True</text>\r\n",
       "</g>\r\n",
       "<!-- 6 -->\r\n",
       "<g id=\"node7\" class=\"node\"><title>6</title>\r\n",
       "<polygon fill=\"none\" stroke=\"black\" points=\"418,-261 300,-261 300,-193 418,-193 418,-261\"/>\r\n",
       "<text text-anchor=\"middle\" x=\"359\" y=\"-245.8\" font-family=\"Times New Roman,serif\" font-size=\"14.00\">Pclass &lt;= 1.5</text>\r\n",
       "<text text-anchor=\"middle\" x=\"359\" y=\"-230.8\" font-family=\"Times New Roman,serif\" font-size=\"14.00\">gini = 0.308</text>\r\n",
       "<text text-anchor=\"middle\" x=\"359\" y=\"-215.8\" font-family=\"Times New Roman,serif\" font-size=\"14.00\">samples = 573</text>\r\n",
       "<text text-anchor=\"middle\" x=\"359\" y=\"-200.8\" font-family=\"Times New Roman,serif\" font-size=\"14.00\">value = [464, 109]</text>\r\n",
       "</g>\r\n",
       "<!-- 0&#45;&gt;6 -->\r\n",
       "<g id=\"edge6\" class=\"edge\"><title>0&#45;&gt;6</title>\r\n",
       "<path fill=\"none\" stroke=\"black\" d=\"M313.753,-296.884C319.428,-288.243 325.619,-278.819 331.548,-269.793\"/>\r\n",
       "<polygon fill=\"black\" stroke=\"black\" points=\"334.562,-271.579 337.127,-261.299 328.711,-267.736 334.562,-271.579\"/>\r\n",
       "<text text-anchor=\"middle\" x=\"342.197\" y=\"-282.08\" font-family=\"Times New Roman,serif\" font-size=\"14.00\">False</text>\r\n",
       "</g>\r\n",
       "<!-- 2 -->\r\n",
       "<g id=\"node3\" class=\"node\"><title>2</title>\r\n",
       "<polygon fill=\"none\" stroke=\"black\" points=\"159,-157 55,-157 55,-89 159,-89 159,-157\"/>\r\n",
       "<text text-anchor=\"middle\" x=\"107\" y=\"-141.8\" font-family=\"Times New Roman,serif\" font-size=\"14.00\">Pclass &lt;= 1.5</text>\r\n",
       "<text text-anchor=\"middle\" x=\"107\" y=\"-126.8\" font-family=\"Times New Roman,serif\" font-size=\"14.00\">gini = 0.1</text>\r\n",
       "<text text-anchor=\"middle\" x=\"107\" y=\"-111.8\" font-family=\"Times New Roman,serif\" font-size=\"14.00\">samples = 170</text>\r\n",
       "<text text-anchor=\"middle\" x=\"107\" y=\"-96.8\" font-family=\"Times New Roman,serif\" font-size=\"14.00\">value = [9, 161]</text>\r\n",
       "</g>\r\n",
       "<!-- 1&#45;&gt;2 -->\r\n",
       "<g id=\"edge2\" class=\"edge\"><title>1&#45;&gt;2</title>\r\n",
       "<path fill=\"none\" stroke=\"black\" d=\"M187.364,-192.884C176.556,-183.62 164.697,-173.455 153.486,-163.845\"/>\r\n",
       "<polygon fill=\"black\" stroke=\"black\" points=\"155.72,-161.15 145.849,-157.299 151.164,-166.465 155.72,-161.15\"/>\r\n",
       "</g>\r\n",
       "<!-- 5 -->\r\n",
       "<g id=\"node6\" class=\"node\"><title>5</title>\r\n",
       "<polygon fill=\"none\" stroke=\"black\" points=\"281,-149.5 177,-149.5 177,-96.5 281,-96.5 281,-149.5\"/>\r\n",
       "<text text-anchor=\"middle\" x=\"229\" y=\"-134.3\" font-family=\"Times New Roman,serif\" font-size=\"14.00\">gini = 0.5</text>\r\n",
       "<text text-anchor=\"middle\" x=\"229\" y=\"-119.3\" font-family=\"Times New Roman,serif\" font-size=\"14.00\">samples = 144</text>\r\n",
       "<text text-anchor=\"middle\" x=\"229\" y=\"-104.3\" font-family=\"Times New Roman,serif\" font-size=\"14.00\">value = [72, 72]</text>\r\n",
       "</g>\r\n",
       "<!-- 1&#45;&gt;5 -->\r\n",
       "<g id=\"edge5\" class=\"edge\"><title>1&#45;&gt;5</title>\r\n",
       "<path fill=\"none\" stroke=\"black\" d=\"M226.974,-192.884C227.288,-182.216 227.637,-170.352 227.955,-159.519\"/>\r\n",
       "<polygon fill=\"black\" stroke=\"black\" points=\"231.454,-159.619 228.249,-149.52 224.457,-159.413 231.454,-159.619\"/>\r\n",
       "</g>\r\n",
       "<!-- 3 -->\r\n",
       "<g id=\"node4\" class=\"node\"><title>3</title>\r\n",
       "<polygon fill=\"none\" stroke=\"black\" points=\"98,-53 0,-53 0,-0 98,-0 98,-53\"/>\r\n",
       "<text text-anchor=\"middle\" x=\"49\" y=\"-37.8\" font-family=\"Times New Roman,serif\" font-size=\"14.00\">gini = 0.062</text>\r\n",
       "<text text-anchor=\"middle\" x=\"49\" y=\"-22.8\" font-family=\"Times New Roman,serif\" font-size=\"14.00\">samples = 94</text>\r\n",
       "<text text-anchor=\"middle\" x=\"49\" y=\"-7.8\" font-family=\"Times New Roman,serif\" font-size=\"14.00\">value = [3, 91]</text>\r\n",
       "</g>\r\n",
       "<!-- 2&#45;&gt;3 -->\r\n",
       "<g id=\"edge3\" class=\"edge\"><title>2&#45;&gt;3</title>\r\n",
       "<path fill=\"none\" stroke=\"black\" d=\"M86.7144,-88.9485C81.3244,-80.1664 75.4915,-70.6629 70.0611,-61.815\"/>\r\n",
       "<polygon fill=\"black\" stroke=\"black\" points=\"73.01,-59.9287 64.7961,-53.2367 67.0441,-63.5903 73.01,-59.9287\"/>\r\n",
       "</g>\r\n",
       "<!-- 4 -->\r\n",
       "<g id=\"node5\" class=\"node\"><title>4</title>\r\n",
       "<polygon fill=\"none\" stroke=\"black\" points=\"214,-53 116,-53 116,-0 214,-0 214,-53\"/>\r\n",
       "<text text-anchor=\"middle\" x=\"165\" y=\"-37.8\" font-family=\"Times New Roman,serif\" font-size=\"14.00\">gini = 0.145</text>\r\n",
       "<text text-anchor=\"middle\" x=\"165\" y=\"-22.8\" font-family=\"Times New Roman,serif\" font-size=\"14.00\">samples = 76</text>\r\n",
       "<text text-anchor=\"middle\" x=\"165\" y=\"-7.8\" font-family=\"Times New Roman,serif\" font-size=\"14.00\">value = [6, 70]</text>\r\n",
       "</g>\r\n",
       "<!-- 2&#45;&gt;4 -->\r\n",
       "<g id=\"edge4\" class=\"edge\"><title>2&#45;&gt;4</title>\r\n",
       "<path fill=\"none\" stroke=\"black\" d=\"M127.286,-88.9485C132.676,-80.1664 138.508,-70.6629 143.939,-61.815\"/>\r\n",
       "<polygon fill=\"black\" stroke=\"black\" points=\"146.956,-63.5903 149.204,-53.2367 140.99,-59.9287 146.956,-63.5903\"/>\r\n",
       "</g>\r\n",
       "<!-- 7 -->\r\n",
       "<g id=\"node8\" class=\"node\"><title>7</title>\r\n",
       "<polygon fill=\"none\" stroke=\"black\" points=\"408,-149.5 304,-149.5 304,-96.5 408,-96.5 408,-149.5\"/>\r\n",
       "<text text-anchor=\"middle\" x=\"356\" y=\"-134.3\" font-family=\"Times New Roman,serif\" font-size=\"14.00\">gini = 0.466</text>\r\n",
       "<text text-anchor=\"middle\" x=\"356\" y=\"-119.3\" font-family=\"Times New Roman,serif\" font-size=\"14.00\">samples = 122</text>\r\n",
       "<text text-anchor=\"middle\" x=\"356\" y=\"-104.3\" font-family=\"Times New Roman,serif\" font-size=\"14.00\">value = [77, 45]</text>\r\n",
       "</g>\r\n",
       "<!-- 6&#45;&gt;7 -->\r\n",
       "<g id=\"edge7\" class=\"edge\"><title>6&#45;&gt;7</title>\r\n",
       "<path fill=\"none\" stroke=\"black\" d=\"M358.026,-192.884C357.712,-182.216 357.363,-170.352 357.045,-159.519\"/>\r\n",
       "<polygon fill=\"black\" stroke=\"black\" points=\"360.543,-159.413 356.751,-149.52 353.546,-159.619 360.543,-159.413\"/>\r\n",
       "</g>\r\n",
       "<!-- 8 -->\r\n",
       "<g id=\"node9\" class=\"node\"><title>8</title>\r\n",
       "<polygon fill=\"none\" stroke=\"black\" points=\"537.5,-157 426.5,-157 426.5,-89 537.5,-89 537.5,-157\"/>\r\n",
       "<text text-anchor=\"middle\" x=\"482\" y=\"-141.8\" font-family=\"Times New Roman,serif\" font-size=\"14.00\">Pclass &lt;= 2.5</text>\r\n",
       "<text text-anchor=\"middle\" x=\"482\" y=\"-126.8\" font-family=\"Times New Roman,serif\" font-size=\"14.00\">gini = 0.244</text>\r\n",
       "<text text-anchor=\"middle\" x=\"482\" y=\"-111.8\" font-family=\"Times New Roman,serif\" font-size=\"14.00\">samples = 451</text>\r\n",
       "<text text-anchor=\"middle\" x=\"482\" y=\"-96.8\" font-family=\"Times New Roman,serif\" font-size=\"14.00\">value = [387, 64]</text>\r\n",
       "</g>\r\n",
       "<!-- 6&#45;&gt;8 -->\r\n",
       "<g id=\"edge8\" class=\"edge\"><title>6&#45;&gt;8</title>\r\n",
       "<path fill=\"none\" stroke=\"black\" d=\"M398.935,-192.884C410.105,-183.62 422.363,-173.455 433.951,-163.845\"/>\r\n",
       "<polygon fill=\"black\" stroke=\"black\" points=\"436.381,-166.377 441.845,-157.299 431.913,-160.989 436.381,-166.377\"/>\r\n",
       "</g>\r\n",
       "<!-- 9 -->\r\n",
       "<g id=\"node10\" class=\"node\"><title>9</title>\r\n",
       "<polygon fill=\"none\" stroke=\"black\" points=\"471,-53 367,-53 367,-0 471,-0 471,-53\"/>\r\n",
       "<text text-anchor=\"middle\" x=\"419\" y=\"-37.8\" font-family=\"Times New Roman,serif\" font-size=\"14.00\">gini = 0.265</text>\r\n",
       "<text text-anchor=\"middle\" x=\"419\" y=\"-22.8\" font-family=\"Times New Roman,serif\" font-size=\"14.00\">samples = 108</text>\r\n",
       "<text text-anchor=\"middle\" x=\"419\" y=\"-7.8\" font-family=\"Times New Roman,serif\" font-size=\"14.00\">value = [91, 17]</text>\r\n",
       "</g>\r\n",
       "<!-- 8&#45;&gt;9 -->\r\n",
       "<g id=\"edge9\" class=\"edge\"><title>8&#45;&gt;9</title>\r\n",
       "<path fill=\"none\" stroke=\"black\" d=\"M459.966,-88.9485C454.111,-80.1664 447.775,-70.6629 441.877,-61.815\"/>\r\n",
       "<polygon fill=\"black\" stroke=\"black\" points=\"444.617,-59.6158 436.158,-53.2367 438.793,-63.4987 444.617,-59.6158\"/>\r\n",
       "</g>\r\n",
       "<!-- 10 -->\r\n",
       "<g id=\"node11\" class=\"node\"><title>10</title>\r\n",
       "<polygon fill=\"none\" stroke=\"black\" points=\"600.5,-53 489.5,-53 489.5,-0 600.5,-0 600.5,-53\"/>\r\n",
       "<text text-anchor=\"middle\" x=\"545\" y=\"-37.8\" font-family=\"Times New Roman,serif\" font-size=\"14.00\">gini = 0.237</text>\r\n",
       "<text text-anchor=\"middle\" x=\"545\" y=\"-22.8\" font-family=\"Times New Roman,serif\" font-size=\"14.00\">samples = 343</text>\r\n",
       "<text text-anchor=\"middle\" x=\"545\" y=\"-7.8\" font-family=\"Times New Roman,serif\" font-size=\"14.00\">value = [296, 47]</text>\r\n",
       "</g>\r\n",
       "<!-- 8&#45;&gt;10 -->\r\n",
       "<g id=\"edge10\" class=\"edge\"><title>8&#45;&gt;10</title>\r\n",
       "<path fill=\"none\" stroke=\"black\" d=\"M504.034,-88.9485C509.889,-80.1664 516.225,-70.6629 522.123,-61.815\"/>\r\n",
       "<polygon fill=\"black\" stroke=\"black\" points=\"525.207,-63.4987 527.842,-53.2367 519.383,-59.6158 525.207,-63.4987\"/>\r\n",
       "</g>\r\n",
       "</g>\r\n",
       "</svg>\r\n"
      ],
      "text/plain": [
       "<graphviz.files.Source at 0x1bd0a875dc0>"
      ]
     },
     "execution_count": 8,
     "metadata": {},
     "output_type": "execute_result"
    }
   ],
   "source": [
    "from sklearn.tree import export_graphviz\n",
    "import graphviz\n",
    "from IPython.display import Image\n",
    "\n",
    "feature_names = ['Pclass', 'male']\n",
    "X = df[feature_names].values\n",
    "y = df['Survived'].values\n",
    "\n",
    "dt = DecisionTreeClassifier()\n",
    "dt.fit(X, y)\n",
    "\n",
    "dot_file = export_graphviz(dt, feature_names=feature_names)\n",
    "graph = graphviz.Source(dot_file)\n",
    "graph.render(filename='tree', format='png', cleanup=True)\n",
    "graph"
   ]
  },
  {
   "cell_type": "markdown",
   "id": "d326bcb2",
   "metadata": {},
   "source": [
    "### Pre-Pruning"
   ]
  },
  {
   "cell_type": "code",
   "execution_count": null,
   "id": "41621a52",
   "metadata": {},
   "outputs": [],
   "source": [
    "dt = DecisionTreeClassifier(max_depth=3, min_samples_leaf=2, max_leaf_nodes=10)"
   ]
  },
  {
   "cell_type": "markdown",
   "id": "c41341fa",
   "metadata": {},
   "source": [
    "## Grid Search"
   ]
  },
  {
   "cell_type": "code",
   "execution_count": 12,
   "id": "212c3940",
   "metadata": {},
   "outputs": [
    {
     "name": "stdout",
     "output_type": "stream",
     "text": [
      "best params: {'max_depth': 15, 'max_leaf_nodes': 35, 'min_samples_leaf': 1}\n",
      "best score: 0.7746390877915417\n"
     ]
    }
   ],
   "source": [
    "from sklearn.model_selection import GridSearchCV\n",
    "df = pd.read_csv('https://sololearn.com/uploads/files/titanic.csv')\n",
    "df['male'] = df['Sex'] == 'male'\n",
    "X = df[['Pclass', 'male', 'Age', 'Siblings/Spouses', 'Parents/Children', 'Fare']].values\n",
    "y = df['Survived'].values\n",
    "param_grid = {\n",
    "    'max_depth': [5, 15, 25],\n",
    "    'min_samples_leaf': [1, 3],\n",
    "    'max_leaf_nodes': [10, 20, 35, 50]}\n",
    "dt = DecisionTreeClassifier()\n",
    "gs = GridSearchCV(dt, param_grid, scoring='f1', cv=5)\n",
    "gs.fit(X, y)\n",
    "print(\"best params:\", gs.best_params_)\n",
    "print(\"best score:\", gs.best_score_)"
   ]
  },
  {
   "cell_type": "code",
   "execution_count": null,
   "id": "cdd8a1a6",
   "metadata": {},
   "outputs": [],
   "source": []
  }
 ],
 "metadata": {
  "kernelspec": {
   "display_name": "Python [conda env:v-env]",
   "language": "python",
   "name": "conda-env-v-env-py"
  },
  "language_info": {
   "codemirror_mode": {
    "name": "ipython",
    "version": 3
   },
   "file_extension": ".py",
   "mimetype": "text/x-python",
   "name": "python",
   "nbconvert_exporter": "python",
   "pygments_lexer": "ipython3",
   "version": "3.8.10"
  }
 },
 "nbformat": 4,
 "nbformat_minor": 5
}
