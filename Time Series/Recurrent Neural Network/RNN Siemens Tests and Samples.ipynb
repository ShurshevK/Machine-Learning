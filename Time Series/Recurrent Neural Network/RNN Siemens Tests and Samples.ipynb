{
 "cells": [
  {
   "cell_type": "code",
   "execution_count": 115,
   "metadata": {
    "id": "nRSlxT4q5EHJ"
   },
   "outputs": [
    {
     "name": "stdout",
     "output_type": "stream",
     "text": [
      "ERROR! Session/line number was not unique in database. History logging moved to new session 417\n"
     ]
    }
   ],
   "source": [
    "from matplotlib.pylab import rcParams\n",
    "import xlrd\n",
    "import os"
   ]
  },
  {
   "cell_type": "code",
   "execution_count": 116,
   "metadata": {},
   "outputs": [],
   "source": [
    "import numpy as np\n",
    "import matplotlib.pyplot as plt\n",
    "import pandas as pd\n",
    "pd.set_option('display.float_format', lambda x: '%.4f' % x)\n",
    "import seaborn as sns\n",
    "sns.set_context(\"paper\", font_scale=1.3)\n",
    "sns.set_style('white')\n",
    "import warnings\n",
    "warnings.filterwarnings('ignore')\n",
    "from time import time\n",
    "import matplotlib.ticker as tkr\n",
    "from scipy import stats\n",
    "from statsmodels.tsa.stattools import adfuller\n",
    "from sklearn import preprocessing\n",
    "from statsmodels.tsa.stattools import pacf\n",
    "%matplotlib inline\n",
    "import math\n",
    "import keras\n",
    "from keras.models import Sequential\n",
    "from keras.layers import Dense\n",
    "from keras.layers import LSTM\n",
    "from keras.layers import Dropout\n",
    "from keras.layers import *\n",
    "from sklearn.preprocessing import MinMaxScaler\n",
    "from sklearn.metrics import mean_squared_error\n",
    "from sklearn.metrics import mean_absolute_error\n",
    "from keras.callbacks import EarlyStopping\n"
   ]
  },
  {
   "cell_type": "code",
   "execution_count": 117,
   "metadata": {},
   "outputs": [],
   "source": [
    "import plotly.graph_objs as go\n",
    "from plotly.offline import iplot\n",
    "\n",
    "def plot_dataset(df, title):\n",
    "    data = []\n",
    "    value = go.Scatter(\n",
    "        x=df.index,\n",
    "        y=df.value,\n",
    "        mode=\"lines\",\n",
    "        name=\"values\",\n",
    "        marker=dict(),\n",
    "        text=df.index,\n",
    "        line=dict(color=\"rgba(0,0,0, 0.3)\"),\n",
    "    )\n",
    "    data.append(value)\n",
    "\n",
    "    layout = dict(\n",
    "        title=title,\n",
    "        xaxis=dict(title=\"Date\", ticklen=5, zeroline=False),\n",
    "        yaxis=dict(title=\"Value\", ticklen=5, zeroline=False),\n",
    "    )\n",
    "\n",
    "    fig = dict(data=data, layout=layout)\n",
    "    iplot(fig)"
   ]
  },
  {
   "cell_type": "code",
   "execution_count": 118,
   "metadata": {
    "id": "2fRF6mEW5QbK"
   },
   "outputs": [
    {
     "data": {
      "text/html": [
       "<div>\n",
       "<style scoped>\n",
       "    .dataframe tbody tr th:only-of-type {\n",
       "        vertical-align: middle;\n",
       "    }\n",
       "\n",
       "    .dataframe tbody tr th {\n",
       "        vertical-align: top;\n",
       "    }\n",
       "\n",
       "    .dataframe thead th {\n",
       "        text-align: right;\n",
       "    }\n",
       "</style>\n",
       "<table border=\"1\" class=\"dataframe\">\n",
       "  <thead>\n",
       "    <tr style=\"text-align: right;\">\n",
       "      <th></th>\n",
       "      <th>Application Group</th>\n",
       "      <th>Case Complexity</th>\n",
       "      <th>Period</th>\n",
       "      <th>Application</th>\n",
       "      <th>Standard Case Equivalent</th>\n",
       "      <th>Case Count Country Factor</th>\n",
       "      <th>Case Count</th>\n",
       "    </tr>\n",
       "  </thead>\n",
       "  <tbody>\n",
       "    <tr>\n",
       "      <th>0</th>\n",
       "      <td>ACESFW</td>\n",
       "      <td>BASIC</td>\n",
       "      <td>2021-05-01</td>\n",
       "      <td>ACESFW</td>\n",
       "      <td>6.4000</td>\n",
       "      <td>25.6000</td>\n",
       "      <td>32</td>\n",
       "    </tr>\n",
       "    <tr>\n",
       "      <th>1</th>\n",
       "      <td>ACESFW</td>\n",
       "      <td>BASIC</td>\n",
       "      <td>2021-04-01</td>\n",
       "      <td>ACESFW</td>\n",
       "      <td>8.1000</td>\n",
       "      <td>32.4000</td>\n",
       "      <td>38</td>\n",
       "    </tr>\n",
       "    <tr>\n",
       "      <th>2</th>\n",
       "      <td>ACESFW</td>\n",
       "      <td>BASIC</td>\n",
       "      <td>2021-03-01</td>\n",
       "      <td>ACESFW</td>\n",
       "      <td>9.0000</td>\n",
       "      <td>36.0000</td>\n",
       "      <td>39</td>\n",
       "    </tr>\n",
       "    <tr>\n",
       "      <th>3</th>\n",
       "      <td>ACESFW</td>\n",
       "      <td>BASIC</td>\n",
       "      <td>2021-02-01</td>\n",
       "      <td>ACESFW</td>\n",
       "      <td>16.4500</td>\n",
       "      <td>65.8000</td>\n",
       "      <td>76</td>\n",
       "    </tr>\n",
       "    <tr>\n",
       "      <th>4</th>\n",
       "      <td>ACESFW</td>\n",
       "      <td>BASIC</td>\n",
       "      <td>2021-01-01</td>\n",
       "      <td>ACESFW</td>\n",
       "      <td>2.6500</td>\n",
       "      <td>10.6000</td>\n",
       "      <td>12</td>\n",
       "    </tr>\n",
       "    <tr>\n",
       "      <th>...</th>\n",
       "      <td>...</td>\n",
       "      <td>...</td>\n",
       "      <td>...</td>\n",
       "      <td>...</td>\n",
       "      <td>...</td>\n",
       "      <td>...</td>\n",
       "      <td>...</td>\n",
       "    </tr>\n",
       "    <tr>\n",
       "      <th>1662</th>\n",
       "      <td>UOM</td>\n",
       "      <td>STANDARD</td>\n",
       "      <td>2021-05-01</td>\n",
       "      <td>E2ESI</td>\n",
       "      <td>297.4000</td>\n",
       "      <td>297.4000</td>\n",
       "      <td>299</td>\n",
       "    </tr>\n",
       "    <tr>\n",
       "      <th>1663</th>\n",
       "      <td>UOM</td>\n",
       "      <td>STANDARD</td>\n",
       "      <td>2021-04-01</td>\n",
       "      <td>E2EDI</td>\n",
       "      <td>1712.0000</td>\n",
       "      <td>1712.0000</td>\n",
       "      <td>1744</td>\n",
       "    </tr>\n",
       "    <tr>\n",
       "      <th>1664</th>\n",
       "      <td>UOM</td>\n",
       "      <td>STANDARD</td>\n",
       "      <td>2021-04-01</td>\n",
       "      <td>E2ESI</td>\n",
       "      <td>376.2000</td>\n",
       "      <td>376.2000</td>\n",
       "      <td>381</td>\n",
       "    </tr>\n",
       "    <tr>\n",
       "      <th>1665</th>\n",
       "      <td>UOM</td>\n",
       "      <td>STANDARD</td>\n",
       "      <td>2021-03-01</td>\n",
       "      <td>E2EDI</td>\n",
       "      <td>882.4000</td>\n",
       "      <td>882.4000</td>\n",
       "      <td>904</td>\n",
       "    </tr>\n",
       "    <tr>\n",
       "      <th>1666</th>\n",
       "      <td>UOM</td>\n",
       "      <td>STANDARD</td>\n",
       "      <td>2021-03-01</td>\n",
       "      <td>E2ESI</td>\n",
       "      <td>234.8000</td>\n",
       "      <td>234.8000</td>\n",
       "      <td>237</td>\n",
       "    </tr>\n",
       "  </tbody>\n",
       "</table>\n",
       "<p>1667 rows × 7 columns</p>\n",
       "</div>"
      ],
      "text/plain": [
       "     Application Group Case Complexity     Period Application  \\\n",
       "0               ACESFW           BASIC 2021-05-01      ACESFW   \n",
       "1               ACESFW           BASIC 2021-04-01      ACESFW   \n",
       "2               ACESFW           BASIC 2021-03-01      ACESFW   \n",
       "3               ACESFW           BASIC 2021-02-01      ACESFW   \n",
       "4               ACESFW           BASIC 2021-01-01      ACESFW   \n",
       "...                ...             ...        ...         ...   \n",
       "1662               UOM        STANDARD 2021-05-01       E2ESI   \n",
       "1663               UOM        STANDARD 2021-04-01       E2EDI   \n",
       "1664               UOM        STANDARD 2021-04-01       E2ESI   \n",
       "1665               UOM        STANDARD 2021-03-01       E2EDI   \n",
       "1666               UOM        STANDARD 2021-03-01       E2ESI   \n",
       "\n",
       "      Standard Case Equivalent  Case Count Country Factor  Case Count  \n",
       "0                       6.4000                    25.6000          32  \n",
       "1                       8.1000                    32.4000          38  \n",
       "2                       9.0000                    36.0000          39  \n",
       "3                      16.4500                    65.8000          76  \n",
       "4                       2.6500                    10.6000          12  \n",
       "...                        ...                        ...         ...  \n",
       "1662                  297.4000                   297.4000         299  \n",
       "1663                 1712.0000                  1712.0000        1744  \n",
       "1664                  376.2000                   376.2000         381  \n",
       "1665                  882.4000                   882.4000         904  \n",
       "1666                  234.8000                   234.8000         237  \n",
       "\n",
       "[1667 rows x 7 columns]"
      ]
     },
     "execution_count": 118,
     "metadata": {},
     "output_type": "execute_result"
    }
   ],
   "source": [
    "rcParams[\"figure.figsize\"] = 10,10\n",
    "\n",
    "df = pd.read_excel(\n",
    "     os.path.join(\"Case_License_Volume_2021-06-01_08-43-48.xlsx\"),sheet_name=\"Data\", engine='openpyxl',\n",
    ")\n",
    "\n",
    "# set dtypes\n",
    "df[\"Period\"] = pd.to_datetime(df.Period)\n",
    "\n",
    "#dropna\n",
    "df.dropna(how=\"any\")"
   ]
  },
  {
   "cell_type": "code",
   "execution_count": 119,
   "metadata": {},
   "outputs": [],
   "source": [
    "#we group the AG and Period as a sum to get the distinctive variables and avoid duplicates.\n",
    "#here we create grouped Date Frame with out any index, in order to manipulate with AG and period later on.\n",
    "df = df.groupby([\"Application Group\", \"Period\"], as_index = False).sum()\n",
    "\n",
    "#to assign application groups to certain index we group them by App Gr.\n",
    "df[\"Index\"] = df.groupby([\"Application Group\"]).ngroup()"
   ]
  },
  {
   "cell_type": "code",
   "execution_count": 120,
   "metadata": {},
   "outputs": [
    {
     "data": {
      "text/html": [
       "<div>\n",
       "<style scoped>\n",
       "    .dataframe tbody tr th:only-of-type {\n",
       "        vertical-align: middle;\n",
       "    }\n",
       "\n",
       "    .dataframe tbody tr th {\n",
       "        vertical-align: top;\n",
       "    }\n",
       "\n",
       "    .dataframe thead th {\n",
       "        text-align: right;\n",
       "    }\n",
       "</style>\n",
       "<table border=\"1\" class=\"dataframe\">\n",
       "  <thead>\n",
       "    <tr style=\"text-align: right;\">\n",
       "      <th></th>\n",
       "      <th>Application Group</th>\n",
       "      <th>Period</th>\n",
       "      <th>Standard Case Equivalent</th>\n",
       "      <th>Case Count Country Factor</th>\n",
       "      <th>Case Count</th>\n",
       "      <th>Index</th>\n",
       "    </tr>\n",
       "  </thead>\n",
       "  <tbody>\n",
       "    <tr>\n",
       "      <th>0</th>\n",
       "      <td>ACESFW</td>\n",
       "      <td>2020-05-01</td>\n",
       "      <td>0.4500</td>\n",
       "      <td>1.8000</td>\n",
       "      <td>3</td>\n",
       "      <td>0</td>\n",
       "    </tr>\n",
       "    <tr>\n",
       "      <th>1</th>\n",
       "      <td>ACESFW</td>\n",
       "      <td>2020-12-01</td>\n",
       "      <td>0.5000</td>\n",
       "      <td>2.0000</td>\n",
       "      <td>2</td>\n",
       "      <td>0</td>\n",
       "    </tr>\n",
       "    <tr>\n",
       "      <th>2</th>\n",
       "      <td>ACESFW</td>\n",
       "      <td>2021-01-01</td>\n",
       "      <td>2.6500</td>\n",
       "      <td>10.6000</td>\n",
       "      <td>12</td>\n",
       "      <td>0</td>\n",
       "    </tr>\n",
       "    <tr>\n",
       "      <th>3</th>\n",
       "      <td>ACESFW</td>\n",
       "      <td>2021-02-01</td>\n",
       "      <td>16.4500</td>\n",
       "      <td>65.8000</td>\n",
       "      <td>76</td>\n",
       "      <td>0</td>\n",
       "    </tr>\n",
       "    <tr>\n",
       "      <th>4</th>\n",
       "      <td>ACESFW</td>\n",
       "      <td>2021-03-01</td>\n",
       "      <td>9.0000</td>\n",
       "      <td>36.0000</td>\n",
       "      <td>39</td>\n",
       "      <td>0</td>\n",
       "    </tr>\n",
       "    <tr>\n",
       "      <th>...</th>\n",
       "      <td>...</td>\n",
       "      <td>...</td>\n",
       "      <td>...</td>\n",
       "      <td>...</td>\n",
       "      <td>...</td>\n",
       "      <td>...</td>\n",
       "    </tr>\n",
       "    <tr>\n",
       "      <th>386</th>\n",
       "      <td>UOM</td>\n",
       "      <td>2021-01-01</td>\n",
       "      <td>8117.8000</td>\n",
       "      <td>8117.8000</td>\n",
       "      <td>9392</td>\n",
       "      <td>24</td>\n",
       "    </tr>\n",
       "    <tr>\n",
       "      <th>387</th>\n",
       "      <td>UOM</td>\n",
       "      <td>2021-02-01</td>\n",
       "      <td>12116.6000</td>\n",
       "      <td>12116.6000</td>\n",
       "      <td>14057</td>\n",
       "      <td>24</td>\n",
       "    </tr>\n",
       "    <tr>\n",
       "      <th>388</th>\n",
       "      <td>UOM</td>\n",
       "      <td>2021-03-01</td>\n",
       "      <td>10478.4000</td>\n",
       "      <td>10478.4000</td>\n",
       "      <td>12133</td>\n",
       "      <td>24</td>\n",
       "    </tr>\n",
       "    <tr>\n",
       "      <th>389</th>\n",
       "      <td>UOM</td>\n",
       "      <td>2021-04-01</td>\n",
       "      <td>9800.8000</td>\n",
       "      <td>9800.8000</td>\n",
       "      <td>10929</td>\n",
       "      <td>24</td>\n",
       "    </tr>\n",
       "    <tr>\n",
       "      <th>390</th>\n",
       "      <td>UOM</td>\n",
       "      <td>2021-05-01</td>\n",
       "      <td>9304.6000</td>\n",
       "      <td>9304.6000</td>\n",
       "      <td>10352</td>\n",
       "      <td>24</td>\n",
       "    </tr>\n",
       "  </tbody>\n",
       "</table>\n",
       "<p>391 rows × 6 columns</p>\n",
       "</div>"
      ],
      "text/plain": [
       "    Application Group     Period  Standard Case Equivalent  \\\n",
       "0              ACESFW 2020-05-01                    0.4500   \n",
       "1              ACESFW 2020-12-01                    0.5000   \n",
       "2              ACESFW 2021-01-01                    2.6500   \n",
       "3              ACESFW 2021-02-01                   16.4500   \n",
       "4              ACESFW 2021-03-01                    9.0000   \n",
       "..                ...        ...                       ...   \n",
       "386               UOM 2021-01-01                 8117.8000   \n",
       "387               UOM 2021-02-01                12116.6000   \n",
       "388               UOM 2021-03-01                10478.4000   \n",
       "389               UOM 2021-04-01                 9800.8000   \n",
       "390               UOM 2021-05-01                 9304.6000   \n",
       "\n",
       "     Case Count Country Factor  Case Count  Index  \n",
       "0                       1.8000           3      0  \n",
       "1                       2.0000           2      0  \n",
       "2                      10.6000          12      0  \n",
       "3                      65.8000          76      0  \n",
       "4                      36.0000          39      0  \n",
       "..                         ...         ...    ...  \n",
       "386                  8117.8000        9392     24  \n",
       "387                 12116.6000       14057     24  \n",
       "388                 10478.4000       12133     24  \n",
       "389                  9800.8000       10929     24  \n",
       "390                  9304.6000       10352     24  \n",
       "\n",
       "[391 rows x 6 columns]"
      ]
     },
     "execution_count": 120,
     "metadata": {},
     "output_type": "execute_result"
    }
   ],
   "source": [
    "df"
   ]
  },
  {
   "cell_type": "code",
   "execution_count": 121,
   "metadata": {},
   "outputs": [
    {
     "name": "stdout",
     "output_type": "stream",
     "text": [
      "Maximum of Datapoints: 19 \n",
      "Application Name: UOM \n",
      "Application Number: 24\n"
     ]
    }
   ],
   "source": [
    "#see the best fit application which corresponds max data points\n",
    "lst = []\n",
    "for i in range(0, 25):\n",
    "    filt = df[\"Index\"] == i\n",
    "    model = df.loc[filt,[\"Period\", \"Case Count\"]]\n",
    "    m = [len(model)]\n",
    "    lst = lst + m\n",
    "print(\"Maximum of Datapoints:\", max(lst),\"\\nApplication Name:\", df.loc[filt,[\"Application Group\"]].iloc[0,0], \n",
    "      \"\\nApplication Number:\", i)\n",
    "    \n"
   ]
  },
  {
   "cell_type": "code",
   "execution_count": 122,
   "metadata": {},
   "outputs": [
    {
     "data": {
      "text/html": [
       "<div>\n",
       "<style scoped>\n",
       "    .dataframe tbody tr th:only-of-type {\n",
       "        vertical-align: middle;\n",
       "    }\n",
       "\n",
       "    .dataframe tbody tr th {\n",
       "        vertical-align: top;\n",
       "    }\n",
       "\n",
       "    .dataframe thead th {\n",
       "        text-align: right;\n",
       "    }\n",
       "</style>\n",
       "<table border=\"1\" class=\"dataframe\">\n",
       "  <thead>\n",
       "    <tr style=\"text-align: right;\">\n",
       "      <th></th>\n",
       "      <th>Period</th>\n",
       "      <th>Case Count</th>\n",
       "    </tr>\n",
       "  </thead>\n",
       "  <tbody>\n",
       "    <tr>\n",
       "      <th>372</th>\n",
       "      <td>2019-10-01</td>\n",
       "      <td>892</td>\n",
       "    </tr>\n",
       "    <tr>\n",
       "      <th>373</th>\n",
       "      <td>2019-11-01</td>\n",
       "      <td>981</td>\n",
       "    </tr>\n",
       "    <tr>\n",
       "      <th>374</th>\n",
       "      <td>2019-12-01</td>\n",
       "      <td>873</td>\n",
       "    </tr>\n",
       "    <tr>\n",
       "      <th>375</th>\n",
       "      <td>2020-01-01</td>\n",
       "      <td>993</td>\n",
       "    </tr>\n",
       "    <tr>\n",
       "      <th>376</th>\n",
       "      <td>2020-02-01</td>\n",
       "      <td>1737</td>\n",
       "    </tr>\n",
       "    <tr>\n",
       "      <th>377</th>\n",
       "      <td>2020-03-01</td>\n",
       "      <td>1851</td>\n",
       "    </tr>\n",
       "    <tr>\n",
       "      <th>378</th>\n",
       "      <td>2020-04-01</td>\n",
       "      <td>1986</td>\n",
       "    </tr>\n",
       "    <tr>\n",
       "      <th>379</th>\n",
       "      <td>2020-05-01</td>\n",
       "      <td>1961</td>\n",
       "    </tr>\n",
       "    <tr>\n",
       "      <th>380</th>\n",
       "      <td>2020-06-01</td>\n",
       "      <td>2012</td>\n",
       "    </tr>\n",
       "    <tr>\n",
       "      <th>381</th>\n",
       "      <td>2020-07-01</td>\n",
       "      <td>2072</td>\n",
       "    </tr>\n",
       "    <tr>\n",
       "      <th>382</th>\n",
       "      <td>2020-08-01</td>\n",
       "      <td>1678</td>\n",
       "    </tr>\n",
       "    <tr>\n",
       "      <th>383</th>\n",
       "      <td>2020-10-01</td>\n",
       "      <td>3469</td>\n",
       "    </tr>\n",
       "    <tr>\n",
       "      <th>384</th>\n",
       "      <td>2020-11-01</td>\n",
       "      <td>5368</td>\n",
       "    </tr>\n",
       "    <tr>\n",
       "      <th>385</th>\n",
       "      <td>2020-12-01</td>\n",
       "      <td>7477</td>\n",
       "    </tr>\n",
       "    <tr>\n",
       "      <th>386</th>\n",
       "      <td>2021-01-01</td>\n",
       "      <td>9392</td>\n",
       "    </tr>\n",
       "    <tr>\n",
       "      <th>387</th>\n",
       "      <td>2021-02-01</td>\n",
       "      <td>14057</td>\n",
       "    </tr>\n",
       "    <tr>\n",
       "      <th>388</th>\n",
       "      <td>2021-03-01</td>\n",
       "      <td>12133</td>\n",
       "    </tr>\n",
       "    <tr>\n",
       "      <th>389</th>\n",
       "      <td>2021-04-01</td>\n",
       "      <td>10929</td>\n",
       "    </tr>\n",
       "    <tr>\n",
       "      <th>390</th>\n",
       "      <td>2021-05-01</td>\n",
       "      <td>10352</td>\n",
       "    </tr>\n",
       "  </tbody>\n",
       "</table>\n",
       "</div>"
      ],
      "text/plain": [
       "        Period  Case Count\n",
       "372 2019-10-01         892\n",
       "373 2019-11-01         981\n",
       "374 2019-12-01         873\n",
       "375 2020-01-01         993\n",
       "376 2020-02-01        1737\n",
       "377 2020-03-01        1851\n",
       "378 2020-04-01        1986\n",
       "379 2020-05-01        1961\n",
       "380 2020-06-01        2012\n",
       "381 2020-07-01        2072\n",
       "382 2020-08-01        1678\n",
       "383 2020-10-01        3469\n",
       "384 2020-11-01        5368\n",
       "385 2020-12-01        7477\n",
       "386 2021-01-01        9392\n",
       "387 2021-02-01       14057\n",
       "388 2021-03-01       12133\n",
       "389 2021-04-01       10929\n",
       "390 2021-05-01       10352"
      ]
     },
     "execution_count": 122,
     "metadata": {},
     "output_type": "execute_result"
    }
   ],
   "source": [
    "new_df = df[\"Index\"] == 24\n",
    "df = df.loc[filt,[\"Period\", \"Case Count\"]]\n",
    "df"
   ]
  },
  {
   "cell_type": "code",
   "execution_count": 123,
   "metadata": {},
   "outputs": [
    {
     "data": {
      "text/html": [
       "<div>\n",
       "<style scoped>\n",
       "    .dataframe tbody tr th:only-of-type {\n",
       "        vertical-align: middle;\n",
       "    }\n",
       "\n",
       "    .dataframe tbody tr th {\n",
       "        vertical-align: top;\n",
       "    }\n",
       "\n",
       "    .dataframe thead th {\n",
       "        text-align: right;\n",
       "    }\n",
       "</style>\n",
       "<table border=\"1\" class=\"dataframe\">\n",
       "  <thead>\n",
       "    <tr style=\"text-align: right;\">\n",
       "      <th></th>\n",
       "      <th>Case Count</th>\n",
       "    </tr>\n",
       "    <tr>\n",
       "      <th>Period</th>\n",
       "      <th></th>\n",
       "    </tr>\n",
       "  </thead>\n",
       "  <tbody>\n",
       "    <tr>\n",
       "      <th>2019-10-01</th>\n",
       "      <td>892</td>\n",
       "    </tr>\n",
       "    <tr>\n",
       "      <th>2019-11-01</th>\n",
       "      <td>981</td>\n",
       "    </tr>\n",
       "    <tr>\n",
       "      <th>2019-12-01</th>\n",
       "      <td>873</td>\n",
       "    </tr>\n",
       "    <tr>\n",
       "      <th>2020-01-01</th>\n",
       "      <td>993</td>\n",
       "    </tr>\n",
       "    <tr>\n",
       "      <th>2020-02-01</th>\n",
       "      <td>1737</td>\n",
       "    </tr>\n",
       "    <tr>\n",
       "      <th>2020-03-01</th>\n",
       "      <td>1851</td>\n",
       "    </tr>\n",
       "    <tr>\n",
       "      <th>2020-04-01</th>\n",
       "      <td>1986</td>\n",
       "    </tr>\n",
       "    <tr>\n",
       "      <th>2020-05-01</th>\n",
       "      <td>1961</td>\n",
       "    </tr>\n",
       "    <tr>\n",
       "      <th>2020-06-01</th>\n",
       "      <td>2012</td>\n",
       "    </tr>\n",
       "    <tr>\n",
       "      <th>2020-07-01</th>\n",
       "      <td>2072</td>\n",
       "    </tr>\n",
       "    <tr>\n",
       "      <th>2020-08-01</th>\n",
       "      <td>1678</td>\n",
       "    </tr>\n",
       "    <tr>\n",
       "      <th>2020-09-01</th>\n",
       "      <td>1678</td>\n",
       "    </tr>\n",
       "    <tr>\n",
       "      <th>2020-10-01</th>\n",
       "      <td>3469</td>\n",
       "    </tr>\n",
       "    <tr>\n",
       "      <th>2020-11-01</th>\n",
       "      <td>5368</td>\n",
       "    </tr>\n",
       "    <tr>\n",
       "      <th>2020-12-01</th>\n",
       "      <td>7477</td>\n",
       "    </tr>\n",
       "    <tr>\n",
       "      <th>2021-01-01</th>\n",
       "      <td>9392</td>\n",
       "    </tr>\n",
       "    <tr>\n",
       "      <th>2021-02-01</th>\n",
       "      <td>14057</td>\n",
       "    </tr>\n",
       "    <tr>\n",
       "      <th>2021-03-01</th>\n",
       "      <td>12133</td>\n",
       "    </tr>\n",
       "    <tr>\n",
       "      <th>2021-04-01</th>\n",
       "      <td>10929</td>\n",
       "    </tr>\n",
       "    <tr>\n",
       "      <th>2021-05-01</th>\n",
       "      <td>10352</td>\n",
       "    </tr>\n",
       "  </tbody>\n",
       "</table>\n",
       "</div>"
      ],
      "text/plain": [
       "            Case Count\n",
       "Period                \n",
       "2019-10-01         892\n",
       "2019-11-01         981\n",
       "2019-12-01         873\n",
       "2020-01-01         993\n",
       "2020-02-01        1737\n",
       "2020-03-01        1851\n",
       "2020-04-01        1986\n",
       "2020-05-01        1961\n",
       "2020-06-01        2012\n",
       "2020-07-01        2072\n",
       "2020-08-01        1678\n",
       "2020-09-01        1678\n",
       "2020-10-01        3469\n",
       "2020-11-01        5368\n",
       "2020-12-01        7477\n",
       "2021-01-01        9392\n",
       "2021-02-01       14057\n",
       "2021-03-01       12133\n",
       "2021-04-01       10929\n",
       "2021-05-01       10352"
      ]
     },
     "execution_count": 123,
     "metadata": {},
     "output_type": "execute_result"
    }
   ],
   "source": [
    "df = df.set_index('Period').resample('MS').ffill() # fill the years if necessary\n",
    "df"
   ]
  },
  {
   "cell_type": "code",
   "execution_count": 21,
   "metadata": {},
   "outputs": [
    {
     "data": {
      "text/html": [
       "<div>\n",
       "<style scoped>\n",
       "    .dataframe tbody tr th:only-of-type {\n",
       "        vertical-align: middle;\n",
       "    }\n",
       "\n",
       "    .dataframe tbody tr th {\n",
       "        vertical-align: top;\n",
       "    }\n",
       "\n",
       "    .dataframe thead th {\n",
       "        text-align: right;\n",
       "    }\n",
       "</style>\n",
       "<table border=\"1\" class=\"dataframe\">\n",
       "  <thead>\n",
       "    <tr style=\"text-align: right;\">\n",
       "      <th></th>\n",
       "      <th>Case Count</th>\n",
       "    </tr>\n",
       "    <tr>\n",
       "      <th>Period</th>\n",
       "      <th></th>\n",
       "    </tr>\n",
       "  </thead>\n",
       "  <tbody>\n",
       "    <tr>\n",
       "      <th>2019-10-01</th>\n",
       "      <td>892</td>\n",
       "    </tr>\n",
       "    <tr>\n",
       "      <th>2019-11-01</th>\n",
       "      <td>981</td>\n",
       "    </tr>\n",
       "    <tr>\n",
       "      <th>2019-12-01</th>\n",
       "      <td>873</td>\n",
       "    </tr>\n",
       "    <tr>\n",
       "      <th>2020-01-01</th>\n",
       "      <td>993</td>\n",
       "    </tr>\n",
       "    <tr>\n",
       "      <th>2020-02-01</th>\n",
       "      <td>1737</td>\n",
       "    </tr>\n",
       "    <tr>\n",
       "      <th>2020-03-01</th>\n",
       "      <td>1851</td>\n",
       "    </tr>\n",
       "    <tr>\n",
       "      <th>2020-04-01</th>\n",
       "      <td>1986</td>\n",
       "    </tr>\n",
       "    <tr>\n",
       "      <th>2020-05-01</th>\n",
       "      <td>1961</td>\n",
       "    </tr>\n",
       "    <tr>\n",
       "      <th>2020-06-01</th>\n",
       "      <td>2012</td>\n",
       "    </tr>\n",
       "    <tr>\n",
       "      <th>2020-07-01</th>\n",
       "      <td>2072</td>\n",
       "    </tr>\n",
       "    <tr>\n",
       "      <th>2020-08-01</th>\n",
       "      <td>1678</td>\n",
       "    </tr>\n",
       "    <tr>\n",
       "      <th>2020-09-01</th>\n",
       "      <td>1678</td>\n",
       "    </tr>\n",
       "    <tr>\n",
       "      <th>2020-10-01</th>\n",
       "      <td>3469</td>\n",
       "    </tr>\n",
       "    <tr>\n",
       "      <th>2020-11-01</th>\n",
       "      <td>5368</td>\n",
       "    </tr>\n",
       "    <tr>\n",
       "      <th>2020-12-01</th>\n",
       "      <td>7477</td>\n",
       "    </tr>\n",
       "    <tr>\n",
       "      <th>2021-01-01</th>\n",
       "      <td>9392</td>\n",
       "    </tr>\n",
       "    <tr>\n",
       "      <th>2021-02-01</th>\n",
       "      <td>14057</td>\n",
       "    </tr>\n",
       "    <tr>\n",
       "      <th>2021-03-01</th>\n",
       "      <td>12133</td>\n",
       "    </tr>\n",
       "    <tr>\n",
       "      <th>2021-04-01</th>\n",
       "      <td>10929</td>\n",
       "    </tr>\n",
       "    <tr>\n",
       "      <th>2021-05-01</th>\n",
       "      <td>10352</td>\n",
       "    </tr>\n",
       "  </tbody>\n",
       "</table>\n",
       "</div>"
      ],
      "text/plain": [
       "            Case Count\n",
       "Period                \n",
       "2019-10-01         892\n",
       "2019-11-01         981\n",
       "2019-12-01         873\n",
       "2020-01-01         993\n",
       "2020-02-01        1737\n",
       "2020-03-01        1851\n",
       "2020-04-01        1986\n",
       "2020-05-01        1961\n",
       "2020-06-01        2012\n",
       "2020-07-01        2072\n",
       "2020-08-01        1678\n",
       "2020-09-01        1678\n",
       "2020-10-01        3469\n",
       "2020-11-01        5368\n",
       "2020-12-01        7477\n",
       "2021-01-01        9392\n",
       "2021-02-01       14057\n",
       "2021-03-01       12133\n",
       "2021-04-01       10929\n",
       "2021-05-01       10352"
      ]
     },
     "execution_count": 21,
     "metadata": {},
     "output_type": "execute_result"
    }
   ],
   "source": [
    "df"
   ]
  },
  {
   "cell_type": "code",
   "execution_count": 22,
   "metadata": {},
   "outputs": [
    {
     "name": "stdout",
     "output_type": "stream",
     "text": [
      "Statistics=4.080, p=0.130\n",
      "Data looks Gaussian (fail to reject H0)\n"
     ]
    }
   ],
   "source": [
    "stat, p = stats.normaltest(df)\n",
    "print('Statistics=%.3f, p=%.3f' % (stat, p))\n",
    "alpha = 0.05\n",
    "if p > alpha:\n",
    "    print('Data looks Gaussian (fail to reject H0)')\n",
    "else:\n",
    "    print('Data does not look Gaussian (reject H0)')"
   ]
  },
  {
   "cell_type": "code",
   "execution_count": 23,
   "metadata": {},
   "outputs": [
    {
     "name": "stdout",
     "output_type": "stream",
     "text": [
      "Kurtosis of normal distribution: [-0.65131341]\n",
      "Skewness of normal distribution: [0.955243]\n"
     ]
    },
    {
     "data": {
      "image/png": "[encoded data removed]",
      "text/plain": [
       "<Figure size 720x720 with 1 Axes>"
      ]
     },
     "metadata": {
      "needs_background": "light"
     },
     "output_type": "display_data"
    }
   ],
   "source": [
    "sns.distplot(df);\n",
    "print( 'Kurtosis of normal distribution: {}'.format(stats.kurtosis(df)))\n",
    "print( 'Skewness of normal distribution: {}'.format(stats.skew(df)))"
   ]
  },
  {
   "cell_type": "code",
   "execution_count": 24,
   "metadata": {},
   "outputs": [
    {
     "data": {
      "image/png": "[encoded data removed]",
      "text/plain": [
       "<Figure size 720x720 with 1 Axes>"
      ]
     },
     "metadata": {
      "needs_background": "light"
     },
     "output_type": "display_data"
    }
   ],
   "source": [
    "df.plot(figsize=(10,10))\n",
    "plt.ylabel('Case Count')\n",
    "plt.legend().set_visible(False)\n",
    "plt.tight_layout()\n",
    "plt.title('Case Count')\n",
    "sns.despine(top=True)\n",
    "plt.show();"
   ]
  },
  {
   "cell_type": "code",
   "execution_count": 25,
   "metadata": {},
   "outputs": [
    {
     "data": {
      "text/html": [
       "<div>\n",
       "<style scoped>\n",
       "    .dataframe tbody tr th:only-of-type {\n",
       "        vertical-align: middle;\n",
       "    }\n",
       "\n",
       "    .dataframe tbody tr th {\n",
       "        vertical-align: top;\n",
       "    }\n",
       "\n",
       "    .dataframe thead th {\n",
       "        text-align: right;\n",
       "    }\n",
       "</style>\n",
       "<table border=\"1\" class=\"dataframe\">\n",
       "  <thead>\n",
       "    <tr style=\"text-align: right;\">\n",
       "      <th></th>\n",
       "      <th>count</th>\n",
       "      <th>mean</th>\n",
       "      <th>std</th>\n",
       "      <th>min</th>\n",
       "      <th>25%</th>\n",
       "      <th>50%</th>\n",
       "      <th>75%</th>\n",
       "      <th>max</th>\n",
       "    </tr>\n",
       "  </thead>\n",
       "  <tbody>\n",
       "    <tr>\n",
       "      <th>Case Count</th>\n",
       "      <td>20.0000</td>\n",
       "      <td>4594.5500</td>\n",
       "      <td>4388.3497</td>\n",
       "      <td>873.0000</td>\n",
       "      <td>1678.0000</td>\n",
       "      <td>1999.0000</td>\n",
       "      <td>7955.7500</td>\n",
       "      <td>14057.0000</td>\n",
       "    </tr>\n",
       "  </tbody>\n",
       "</table>\n",
       "</div>"
      ],
      "text/plain": [
       "             count      mean       std      min       25%       50%       75%  \\\n",
       "Case Count 20.0000 4594.5500 4388.3497 873.0000 1678.0000 1999.0000 7955.7500   \n",
       "\n",
       "                  max  \n",
       "Case Count 14057.0000  "
      ]
     },
     "execution_count": 25,
     "metadata": {},
     "output_type": "execute_result"
    },
    {
     "data": {
      "image/png": "[encoded data removed]",
      "text/plain": [
       "<Figure size 1008x432 with 2 Axes>"
      ]
     },
     "metadata": {
      "needs_background": "light"
     },
     "output_type": "display_data"
    }
   ],
   "source": [
    "plt.figure(figsize=(14,6))\n",
    "plt.subplot(1,2,1)\n",
    "df['Case Count'].hist(bins=50)\n",
    "plt.title('Case Count Distribution')\n",
    "plt.subplot(1,2,2)\n",
    "stats.probplot(df['Case Count'], plot=plt);\n",
    "df.describe().T"
   ]
  },
  {
   "cell_type": "code",
   "execution_count": 26,
   "metadata": {},
   "outputs": [
    {
     "data": {
      "image/png": "[encoded data removed]",
      "text/plain": [
       "<Figure size 1008x360 with 1 Axes>"
      ]
     },
     "metadata": {
      "needs_background": "light"
     },
     "output_type": "display_data"
    },
    {
     "name": "stdout",
     "output_type": "stream",
     "text": [
      "<Results of Dickey-Fuller Test>\n",
      "Test Statistic                 1.7436\n",
      "p-value                        0.9982\n",
      "#Lags Used                     8.0000\n",
      "Number of Observations Used   11.0000\n",
      "Critical Value (1%)           -4.2232\n",
      "Critical Value (5%)           -3.1894\n",
      "Critical Value (10%)          -2.7298\n",
      "dtype: float64\n"
     ]
    }
   ],
   "source": [
    "def test_stationarity(timeseries):\n",
    "    rolmean = timeseries.rolling(window=2).mean()\n",
    "    rolstd = timeseries.rolling(window=2).std()\n",
    "    \n",
    "    plt.figure(figsize=(14,5))\n",
    "    sns.despine(left=True)\n",
    "    orig = plt.plot(timeseries, color='blue',label='Original')\n",
    "    mean = plt.plot(rolmean, color='red', label='Rolling Mean')\n",
    "    std = plt.plot(rolstd, color='black', label = 'Rolling Std')\n",
    "\n",
    "    plt.legend(loc='best'); plt.title('Rolling Mean & Standard Deviation')\n",
    "    plt.show()\n",
    "    \n",
    "    print ('<Results of Dickey-Fuller Test>')\n",
    "    dftest = adfuller(timeseries, autolag='AIC')\n",
    "    dfoutput = pd.Series(dftest[0:4],\n",
    "                         index=['Test Statistic','p-value','#Lags Used','Number of Observations Used'])\n",
    "    for key,value in dftest[4].items():\n",
    "        dfoutput['Critical Value (%s)'%key] = value\n",
    "    print(dfoutput)\n",
    "test_stationarity(df)"
   ]
  },
  {
   "cell_type": "code",
   "execution_count": null,
   "metadata": {},
   "outputs": [
    {
     "name": "stderr",
     "output_type": "stream",
     "text": [
      "ERROR:root:Internal Python error in the inspect module.\n",
      "Below is the traceback from this internal error.\n",
      "\n",
      "ERROR:root:Internal Python error in the inspect module.\n",
      "Below is the traceback from this internal error.\n",
      "\n",
      "ERROR:root:Internal Python error in the inspect module.\n",
      "Below is the traceback from this internal error.\n",
      "\n"
     ]
    },
    {
     "name": "stdout",
     "output_type": "stream",
     "text": [
      "Traceback (most recent call last):\n",
      "  File \"C:\\Users\\shurk\\Anaconda3\\envs\\pytrch\\lib\\site-packages\\IPython\\core\\interactiveshell.py\", line 3343, in run_code\n",
      "    exec(code_obj, self.user_global_ns, self.user_ns)\n",
      "  File \"<ipython-input-114-4b9668228de3>\", line 1, in <module>\n",
      "    train_size = int(len(df) * 0.80)\n",
      "TypeError: object of type 'StandardScaler' has no len()\n",
      "\n",
      "During handling of the above exception, another exception occurred:\n",
      "\n",
      "Traceback (most recent call last):\n",
      "  File \"C:\\Users\\shurk\\Anaconda3\\envs\\pytrch\\lib\\site-packages\\IPython\\core\\interactiveshell.py\", line 2044, in showtraceback\n",
      "    stb = value._render_traceback_()\n",
      "AttributeError: 'TypeError' object has no attribute '_render_traceback_'\n",
      "\n",
      "During handling of the above exception, another exception occurred:\n",
      "\n",
      "Traceback (most recent call last):\n",
      "  File \"C:\\Users\\shurk\\Anaconda3\\envs\\pytrch\\lib\\site-packages\\IPython\\core\\ultratb.py\", line 1169, in get_records\n",
      "    return _fixed_getinnerframes(etb, number_of_lines_of_context, tb_offset)\n",
      "  File \"C:\\Users\\shurk\\Anaconda3\\envs\\pytrch\\lib\\site-packages\\IPython\\core\\ultratb.py\", line 316, in wrapped\n",
      "    return f(*args, **kwargs)\n",
      "  File \"C:\\Users\\shurk\\Anaconda3\\envs\\pytrch\\lib\\site-packages\\IPython\\core\\ultratb.py\", line 350, in _fixed_getinnerframes\n",
      "    records = fix_frame_records_filenames(inspect.getinnerframes(etb, context))\n",
      "  File \"C:\\Users\\shurk\\Anaconda3\\envs\\pytrch\\lib\\inspect.py\", line 1490, in getinnerframes\n",
      "    frameinfo = (tb.tb_frame,) + getframeinfo(tb, context)\n",
      "  File \"C:\\Users\\shurk\\Anaconda3\\envs\\pytrch\\lib\\inspect.py\", line 1448, in getframeinfo\n",
      "    filename = getsourcefile(frame) or getfile(frame)\n",
      "  File \"C:\\Users\\shurk\\Anaconda3\\envs\\pytrch\\lib\\inspect.py\", line 696, in getsourcefile\n",
      "    if getattr(getmodule(object, filename), '__loader__', None) is not None:\n",
      "  File \"C:\\Users\\shurk\\Anaconda3\\envs\\pytrch\\lib\\inspect.py\", line 733, in getmodule\n",
      "    if ismodule(module) and hasattr(module, '__file__'):\n",
      "  File \"C:\\Users\\shurk\\Anaconda3\\envs\\pytrch\\lib\\site-packages\\tensorflow\\__init__.py\", line 50, in __getattr__\n",
      "    module = self._load()\n",
      "  File \"C:\\Users\\shurk\\Anaconda3\\envs\\pytrch\\lib\\site-packages\\tensorflow\\__init__.py\", line 44, in _load\n",
      "    module = _importlib.import_module(self.__name__)\n",
      "  File \"C:\\Users\\shurk\\Anaconda3\\envs\\pytrch\\lib\\importlib\\__init__.py\", line 126, in import_module\n",
      "    return _bootstrap._gcd_import(name[level:], package, level)\n",
      "  File \"<frozen importlib._bootstrap>\", line 994, in _gcd_import\n",
      "  File \"<frozen importlib._bootstrap>\", line 971, in _find_and_load\n",
      "  File \"<frozen importlib._bootstrap>\", line 953, in _find_and_load_unlocked\n",
      "ModuleNotFoundError: No module named 'tensorflow_core.estimator'\n",
      "ERROR! Session/line number was not unique in database. History logging moved to new session 415\n",
      "Traceback (most recent call last):\n",
      "  File \"C:\\Users\\shurk\\Anaconda3\\envs\\pytrch\\lib\\site-packages\\IPython\\core\\interactiveshell.py\", line 3343, in run_code\n",
      "    exec(code_obj, self.user_global_ns, self.user_ns)\n",
      "  File \"<ipython-input-114-4b9668228de3>\", line 1, in <module>\n",
      "    train_size = int(len(df) * 0.80)\n",
      "TypeError: object of type 'StandardScaler' has no len()\n",
      "\n",
      "During handling of the above exception, another exception occurred:\n",
      "\n",
      "Traceback (most recent call last):\n",
      "  File \"C:\\Users\\shurk\\Anaconda3\\envs\\pytrch\\lib\\site-packages\\IPython\\core\\interactiveshell.py\", line 2044, in showtraceback\n",
      "    stb = value._render_traceback_()\n",
      "AttributeError: 'TypeError' object has no attribute '_render_traceback_'\n",
      "\n",
      "During handling of the above exception, another exception occurred:\n",
      "\n",
      "Traceback (most recent call last):\n",
      "  File \"C:\\Users\\shurk\\Anaconda3\\envs\\pytrch\\lib\\site-packages\\IPython\\core\\interactiveshell.py\", line 3263, in run_ast_nodes\n",
      "    if (await self.run_code(code, result,  async_=asy)):\n",
      "  File \"C:\\Users\\shurk\\Anaconda3\\envs\\pytrch\\lib\\site-packages\\IPython\\core\\interactiveshell.py\", line 3360, in run_code\n",
      "    self.showtraceback(running_compiled_code=True)\n",
      "  File \"C:\\Users\\shurk\\Anaconda3\\envs\\pytrch\\lib\\site-packages\\IPython\\core\\interactiveshell.py\", line 2047, in showtraceback\n",
      "    value, tb, tb_offset=tb_offset)\n",
      "  File \"C:\\Users\\shurk\\Anaconda3\\envs\\pytrch\\lib\\site-packages\\IPython\\core\\ultratb.py\", line 1436, in structured_traceback\n",
      "    self, etype, value, tb, tb_offset, number_of_lines_of_context)\n",
      "  File \"C:\\Users\\shurk\\Anaconda3\\envs\\pytrch\\lib\\site-packages\\IPython\\core\\ultratb.py\", line 1336, in structured_traceback\n",
      "    self, etype, value, tb, tb_offset, number_of_lines_of_context\n",
      "  File \"C:\\Users\\shurk\\Anaconda3\\envs\\pytrch\\lib\\site-packages\\IPython\\core\\ultratb.py\", line 1193, in structured_traceback\n",
      "    tb_offset)\n",
      "  File \"C:\\Users\\shurk\\Anaconda3\\envs\\pytrch\\lib\\site-packages\\IPython\\core\\ultratb.py\", line 1150, in format_exception_as_a_whole\n",
      "    last_unique, recursion_repeat = find_recursion(orig_etype, evalue, records)\n",
      "  File \"C:\\Users\\shurk\\Anaconda3\\envs\\pytrch\\lib\\site-packages\\IPython\\core\\ultratb.py\", line 451, in find_recursion\n",
      "    return len(records), 0\n",
      "TypeError: object of type 'NoneType' has no len()\n",
      "\n",
      "During handling of the above exception, another exception occurred:\n",
      "\n",
      "Traceback (most recent call last):\n",
      "  File \"C:\\Users\\shurk\\Anaconda3\\envs\\pytrch\\lib\\site-packages\\IPython\\core\\interactiveshell.py\", line 2044, in showtraceback\n",
      "    stb = value._render_traceback_()\n",
      "AttributeError: 'TypeError' object has no attribute '_render_traceback_'\n",
      "\n",
      "During handling of the above exception, another exception occurred:\n",
      "\n",
      "Traceback (most recent call last):\n",
      "  File \"C:\\Users\\shurk\\Anaconda3\\envs\\pytrch\\lib\\site-packages\\IPython\\core\\ultratb.py\", line 1169, in get_records\n",
      "    return _fixed_getinnerframes(etb, number_of_lines_of_context, tb_offset)\n",
      "  File \"C:\\Users\\shurk\\Anaconda3\\envs\\pytrch\\lib\\site-packages\\IPython\\core\\ultratb.py\", line 316, in wrapped\n",
      "    return f(*args, **kwargs)\n",
      "  File \"C:\\Users\\shurk\\Anaconda3\\envs\\pytrch\\lib\\site-packages\\IPython\\core\\ultratb.py\", line 350, in _fixed_getinnerframes\n",
      "    records = fix_frame_records_filenames(inspect.getinnerframes(etb, context))\n",
      "  File \"C:\\Users\\shurk\\Anaconda3\\envs\\pytrch\\lib\\inspect.py\", line 1490, in getinnerframes\n",
      "    frameinfo = (tb.tb_frame,) + getframeinfo(tb, context)\n",
      "  File \"C:\\Users\\shurk\\Anaconda3\\envs\\pytrch\\lib\\inspect.py\", line 1448, in getframeinfo\n",
      "    filename = getsourcefile(frame) or getfile(frame)\n",
      "  File \"C:\\Users\\shurk\\Anaconda3\\envs\\pytrch\\lib\\inspect.py\", line 696, in getsourcefile\n",
      "    if getattr(getmodule(object, filename), '__loader__', None) is not None:\n",
      "  File \"C:\\Users\\shurk\\Anaconda3\\envs\\pytrch\\lib\\inspect.py\", line 733, in getmodule\n",
      "    if ismodule(module) and hasattr(module, '__file__'):\n",
      "  File \"C:\\Users\\shurk\\Anaconda3\\envs\\pytrch\\lib\\site-packages\\tensorflow\\__init__.py\", line 50, in __getattr__\n",
      "    module = self._load()\n",
      "  File \"C:\\Users\\shurk\\Anaconda3\\envs\\pytrch\\lib\\site-packages\\tensorflow\\__init__.py\", line 44, in _load\n",
      "    module = _importlib.import_module(self.__name__)\n",
      "  File \"C:\\Users\\shurk\\Anaconda3\\envs\\pytrch\\lib\\importlib\\__init__.py\", line 126, in import_module\n",
      "    return _bootstrap._gcd_import(name[level:], package, level)\n",
      "  File \"<frozen importlib._bootstrap>\", line 994, in _gcd_import\n",
      "  File \"<frozen importlib._bootstrap>\", line 971, in _find_and_load\n",
      "  File \"<frozen importlib._bootstrap>\", line 953, in _find_and_load_unlocked\n",
      "ModuleNotFoundError: No module named 'tensorflow_core.estimator'\n",
      "Traceback (most recent call last):\n",
      "  File \"C:\\Users\\shurk\\Anaconda3\\envs\\pytrch\\lib\\site-packages\\IPython\\core\\interactiveshell.py\", line 3343, in run_code\n",
      "    exec(code_obj, self.user_global_ns, self.user_ns)\n",
      "  File \"<ipython-input-114-4b9668228de3>\", line 1, in <module>\n",
      "    train_size = int(len(df) * 0.80)\n",
      "TypeError: object of type 'StandardScaler' has no len()\n",
      "\n",
      "During handling of the above exception, another exception occurred:\n",
      "\n",
      "Traceback (most recent call last):\n",
      "  File \"C:\\Users\\shurk\\Anaconda3\\envs\\pytrch\\lib\\site-packages\\IPython\\core\\interactiveshell.py\", line 2044, in showtraceback\n",
      "    stb = value._render_traceback_()\n",
      "AttributeError: 'TypeError' object has no attribute '_render_traceback_'\n",
      "\n",
      "During handling of the above exception, another exception occurred:\n",
      "\n",
      "Traceback (most recent call last):\n",
      "  File \"C:\\Users\\shurk\\Anaconda3\\envs\\pytrch\\lib\\site-packages\\IPython\\core\\interactiveshell.py\", line 3263, in run_ast_nodes\n",
      "    if (await self.run_code(code, result,  async_=asy)):\n",
      "  File \"C:\\Users\\shurk\\Anaconda3\\envs\\pytrch\\lib\\site-packages\\IPython\\core\\interactiveshell.py\", line 3360, in run_code\n",
      "    self.showtraceback(running_compiled_code=True)\n",
      "  File \"C:\\Users\\shurk\\Anaconda3\\envs\\pytrch\\lib\\site-packages\\IPython\\core\\interactiveshell.py\", line 2047, in showtraceback\n",
      "    value, tb, tb_offset=tb_offset)\n",
      "  File \"C:\\Users\\shurk\\Anaconda3\\envs\\pytrch\\lib\\site-packages\\IPython\\core\\ultratb.py\", line 1436, in structured_traceback\n",
      "    self, etype, value, tb, tb_offset, number_of_lines_of_context)\n",
      "  File \"C:\\Users\\shurk\\Anaconda3\\envs\\pytrch\\lib\\site-packages\\IPython\\core\\ultratb.py\", line 1336, in structured_traceback\n",
      "    self, etype, value, tb, tb_offset, number_of_lines_of_context\n",
      "  File \"C:\\Users\\shurk\\Anaconda3\\envs\\pytrch\\lib\\site-packages\\IPython\\core\\ultratb.py\", line 1193, in structured_traceback\n",
      "    tb_offset)\n",
      "  File \"C:\\Users\\shurk\\Anaconda3\\envs\\pytrch\\lib\\site-packages\\IPython\\core\\ultratb.py\", line 1150, in format_exception_as_a_whole\n",
      "    last_unique, recursion_repeat = find_recursion(orig_etype, evalue, records)\n",
      "  File \"C:\\Users\\shurk\\Anaconda3\\envs\\pytrch\\lib\\site-packages\\IPython\\core\\ultratb.py\", line 451, in find_recursion\n",
      "    return len(records), 0\n",
      "TypeError: object of type 'NoneType' has no len()\n",
      "\n",
      "During handling of the above exception, another exception occurred:\n",
      "\n",
      "Traceback (most recent call last):\n",
      "  File \"C:\\Users\\shurk\\Anaconda3\\envs\\pytrch\\lib\\site-packages\\IPython\\core\\interactiveshell.py\", line 2044, in showtraceback\n",
      "    stb = value._render_traceback_()\n",
      "AttributeError: 'TypeError' object has no attribute '_render_traceback_'\n",
      "\n",
      "During handling of the above exception, another exception occurred:\n",
      "\n",
      "Traceback (most recent call last):\n",
      "  File \"C:\\Users\\shurk\\Anaconda3\\envs\\pytrch\\lib\\site-packages\\IPython\\core\\interactiveshell.py\", line 2895, in _run_cell\n",
      "    return runner(coro)\n",
      "  File \"C:\\Users\\shurk\\Anaconda3\\envs\\pytrch\\lib\\site-packages\\IPython\\core\\async_helpers.py\", line 68, in _pseudo_sync_runner\n",
      "    coro.send(None)\n",
      "  File \"C:\\Users\\shurk\\Anaconda3\\envs\\pytrch\\lib\\site-packages\\IPython\\core\\interactiveshell.py\", line 3072, in run_cell_async\n",
      "    interactivity=interactivity, compiler=compiler, result=result)\n",
      "  File \"C:\\Users\\shurk\\Anaconda3\\envs\\pytrch\\lib\\site-packages\\IPython\\core\\interactiveshell.py\", line 3282, in run_ast_nodes\n",
      "    self.showtraceback()\n",
      "  File \"C:\\Users\\shurk\\Anaconda3\\envs\\pytrch\\lib\\site-packages\\IPython\\core\\interactiveshell.py\", line 2047, in showtraceback\n",
      "    value, tb, tb_offset=tb_offset)\n",
      "  File \"C:\\Users\\shurk\\Anaconda3\\envs\\pytrch\\lib\\site-packages\\IPython\\core\\ultratb.py\", line 1436, in structured_traceback\n",
      "    self, etype, value, tb, tb_offset, number_of_lines_of_context)\n",
      "  File \"C:\\Users\\shurk\\Anaconda3\\envs\\pytrch\\lib\\site-packages\\IPython\\core\\ultratb.py\", line 1336, in structured_traceback\n",
      "    self, etype, value, tb, tb_offset, number_of_lines_of_context\n",
      "  File \"C:\\Users\\shurk\\Anaconda3\\envs\\pytrch\\lib\\site-packages\\IPython\\core\\ultratb.py\", line 1211, in structured_traceback\n",
      "    chained_exceptions_tb_offset)\n",
      "  File \"C:\\Users\\shurk\\Anaconda3\\envs\\pytrch\\lib\\site-packages\\IPython\\core\\ultratb.py\", line 1150, in format_exception_as_a_whole\n",
      "    last_unique, recursion_repeat = find_recursion(orig_etype, evalue, records)\n",
      "  File \"C:\\Users\\shurk\\Anaconda3\\envs\\pytrch\\lib\\site-packages\\IPython\\core\\ultratb.py\", line 451, in find_recursion\n",
      "    return len(records), 0\n",
      "TypeError: object of type 'NoneType' has no len()\n",
      "\n",
      "During handling of the above exception, another exception occurred:\n",
      "\n",
      "Traceback (most recent call last):\n",
      "  File \"C:\\Users\\shurk\\Anaconda3\\envs\\pytrch\\lib\\site-packages\\IPython\\core\\interactiveshell.py\", line 2044, in showtraceback\n",
      "    stb = value._render_traceback_()\n",
      "AttributeError: 'TypeError' object has no attribute '_render_traceback_'\n",
      "\n",
      "During handling of the above exception, another exception occurred:\n",
      "\n",
      "Traceback (most recent call last):\n",
      "  File \"C:\\Users\\shurk\\Anaconda3\\envs\\pytrch\\lib\\site-packages\\IPython\\core\\ultratb.py\", line 1169, in get_records\n",
      "    return _fixed_getinnerframes(etb, number_of_lines_of_context, tb_offset)\n",
      "  File \"C:\\Users\\shurk\\Anaconda3\\envs\\pytrch\\lib\\site-packages\\IPython\\core\\ultratb.py\", line 316, in wrapped\n",
      "    return f(*args, **kwargs)\n",
      "  File \"C:\\Users\\shurk\\Anaconda3\\envs\\pytrch\\lib\\site-packages\\IPython\\core\\ultratb.py\", line 350, in _fixed_getinnerframes\n",
      "    records = fix_frame_records_filenames(inspect.getinnerframes(etb, context))\n",
      "  File \"C:\\Users\\shurk\\Anaconda3\\envs\\pytrch\\lib\\inspect.py\", line 1490, in getinnerframes\n",
      "    frameinfo = (tb.tb_frame,) + getframeinfo(tb, context)\n",
      "  File \"C:\\Users\\shurk\\Anaconda3\\envs\\pytrch\\lib\\inspect.py\", line 1448, in getframeinfo\n",
      "    filename = getsourcefile(frame) or getfile(frame)\n",
      "  File \"C:\\Users\\shurk\\Anaconda3\\envs\\pytrch\\lib\\inspect.py\", line 696, in getsourcefile\n",
      "    if getattr(getmodule(object, filename), '__loader__', None) is not None:\n",
      "  File \"C:\\Users\\shurk\\Anaconda3\\envs\\pytrch\\lib\\inspect.py\", line 733, in getmodule\n",
      "    if ismodule(module) and hasattr(module, '__file__'):\n",
      "  File \"C:\\Users\\shurk\\Anaconda3\\envs\\pytrch\\lib\\site-packages\\tensorflow\\__init__.py\", line 50, in __getattr__\n",
      "    module = self._load()\n",
      "  File \"C:\\Users\\shurk\\Anaconda3\\envs\\pytrch\\lib\\site-packages\\tensorflow\\__init__.py\", line 44, in _load\n",
      "    module = _importlib.import_module(self.__name__)\n",
      "  File \"C:\\Users\\shurk\\Anaconda3\\envs\\pytrch\\lib\\importlib\\__init__.py\", line 126, in import_module\n",
      "    return _bootstrap._gcd_import(name[level:], package, level)\n",
      "  File \"<frozen importlib._bootstrap>\", line 994, in _gcd_import\n",
      "  File \"<frozen importlib._bootstrap>\", line 971, in _find_and_load\n",
      "  File \"<frozen importlib._bootstrap>\", line 953, in _find_and_load_unlocked\n",
      "ModuleNotFoundError: No module named 'tensorflow_core.estimator'\n"
     ]
    }
   ],
   "source": [
    "\n",
    "train_size = int(len(df) * 0.80)\n",
    "# dataset = df[\"Case Count\"] #numpy.ndarray\n",
    "\n",
    "from sklearn.preprocessing import StandardScaler\n",
    "\n",
    "scaler = StandardScaler()\n",
    "df = scaler.fit(df)\n"
   ]
  },
  {
   "cell_type": "markdown",
   "metadata": {},
   "source": [
    "## First way to prepare data"
   ]
  },
  {
   "cell_type": "code",
   "execution_count": null,
   "metadata": {},
   "outputs": [
    {
     "name": "stderr",
     "output_type": "stream",
     "text": [
      "ERROR:root:Internal Python error in the inspect module.\n",
      "Below is the traceback from this internal error.\n",
      "\n",
      "ERROR:root:Internal Python error in the inspect module.\n",
      "Below is the traceback from this internal error.\n",
      "\n",
      "ERROR:root:Internal Python error in the inspect module.\n",
      "Below is the traceback from this internal error.\n",
      "\n"
     ]
    },
    {
     "name": "stdout",
     "output_type": "stream",
     "text": [
      "Traceback (most recent call last):\n",
      "  File \"C:\\Users\\shurk\\Anaconda3\\envs\\pytrch\\lib\\site-packages\\IPython\\core\\interactiveshell.py\", line 3343, in run_code\n",
      "    exec(code_obj, self.user_global_ns, self.user_ns)\n",
      "  File \"<ipython-input-112-14a6c9fc5634>\", line 36, in <module>\n",
      "    X_train, Y_train = data_process(y, 0, train_size, past_history)\n",
      "  File \"<ipython-input-112-14a6c9fc5634>\", line 30, in data_process\n",
      "    data.append(np.reshape(dataset[indices], (sHistory, 1)))\n",
      "  File \"C:\\Users\\shurk\\Anaconda3\\envs\\pytrch\\lib\\site-packages\\tensorflow_core\\python\\ops\\array_ops.py\", line 862, in _slice_helper\n",
      "    _check_index(s)\n",
      "  File \"C:\\Users\\shurk\\Anaconda3\\envs\\pytrch\\lib\\site-packages\\tensorflow_core\\python\\ops\\array_ops.py\", line 752, in _check_index\n",
      "    raise TypeError(_SLICE_TYPE_ERROR + \", got {!r}\".format(idx))\n",
      "TypeError: Only integers, slices (`:`), ellipsis (`...`), tf.newaxis (`None`) and scalar tf.int32/tf.int64 tensors are valid indices, got range(-2, 0)\n",
      "\n",
      "During handling of the above exception, another exception occurred:\n",
      "\n",
      "Traceback (most recent call last):\n",
      "  File \"C:\\Users\\shurk\\Anaconda3\\envs\\pytrch\\lib\\site-packages\\IPython\\core\\interactiveshell.py\", line 2044, in showtraceback\n",
      "    stb = value._render_traceback_()\n",
      "AttributeError: 'TypeError' object has no attribute '_render_traceback_'\n",
      "\n",
      "During handling of the above exception, another exception occurred:\n",
      "\n",
      "Traceback (most recent call last):\n",
      "  File \"C:\\Users\\shurk\\Anaconda3\\envs\\pytrch\\lib\\site-packages\\IPython\\core\\ultratb.py\", line 1169, in get_records\n",
      "    return _fixed_getinnerframes(etb, number_of_lines_of_context, tb_offset)\n",
      "  File \"C:\\Users\\shurk\\Anaconda3\\envs\\pytrch\\lib\\site-packages\\IPython\\core\\ultratb.py\", line 316, in wrapped\n",
      "    return f(*args, **kwargs)\n",
      "  File \"C:\\Users\\shurk\\Anaconda3\\envs\\pytrch\\lib\\site-packages\\IPython\\core\\ultratb.py\", line 350, in _fixed_getinnerframes\n",
      "    records = fix_frame_records_filenames(inspect.getinnerframes(etb, context))\n",
      "  File \"C:\\Users\\shurk\\Anaconda3\\envs\\pytrch\\lib\\inspect.py\", line 1490, in getinnerframes\n",
      "    frameinfo = (tb.tb_frame,) + getframeinfo(tb, context)\n",
      "  File \"C:\\Users\\shurk\\Anaconda3\\envs\\pytrch\\lib\\inspect.py\", line 1448, in getframeinfo\n",
      "    filename = getsourcefile(frame) or getfile(frame)\n",
      "  File \"C:\\Users\\shurk\\Anaconda3\\envs\\pytrch\\lib\\inspect.py\", line 696, in getsourcefile\n",
      "    if getattr(getmodule(object, filename), '__loader__', None) is not None:\n",
      "  File \"C:\\Users\\shurk\\Anaconda3\\envs\\pytrch\\lib\\inspect.py\", line 733, in getmodule\n",
      "    if ismodule(module) and hasattr(module, '__file__'):\n",
      "  File \"C:\\Users\\shurk\\Anaconda3\\envs\\pytrch\\lib\\site-packages\\tensorflow\\__init__.py\", line 50, in __getattr__\n",
      "    module = self._load()\n",
      "  File \"C:\\Users\\shurk\\Anaconda3\\envs\\pytrch\\lib\\site-packages\\tensorflow\\__init__.py\", line 44, in _load\n",
      "    module = _importlib.import_module(self.__name__)\n",
      "  File \"C:\\Users\\shurk\\Anaconda3\\envs\\pytrch\\lib\\importlib\\__init__.py\", line 126, in import_module\n",
      "    return _bootstrap._gcd_import(name[level:], package, level)\n",
      "  File \"<frozen importlib._bootstrap>\", line 994, in _gcd_import\n",
      "  File \"<frozen importlib._bootstrap>\", line 971, in _find_and_load\n",
      "  File \"<frozen importlib._bootstrap>\", line 953, in _find_and_load_unlocked\n",
      "ModuleNotFoundError: No module named 'tensorflow_core.estimator'\n",
      "ERROR! Session/line number was not unique in database. History logging moved to new session 413\n",
      "Traceback (most recent call last):\n",
      "  File \"C:\\Users\\shurk\\Anaconda3\\envs\\pytrch\\lib\\site-packages\\IPython\\core\\interactiveshell.py\", line 3343, in run_code\n",
      "    exec(code_obj, self.user_global_ns, self.user_ns)\n",
      "  File \"<ipython-input-112-14a6c9fc5634>\", line 36, in <module>\n",
      "    X_train, Y_train = data_process(y, 0, train_size, past_history)\n",
      "  File \"<ipython-input-112-14a6c9fc5634>\", line 30, in data_process\n",
      "    data.append(np.reshape(dataset[indices], (sHistory, 1)))\n",
      "  File \"C:\\Users\\shurk\\Anaconda3\\envs\\pytrch\\lib\\site-packages\\tensorflow_core\\python\\ops\\array_ops.py\", line 862, in _slice_helper\n",
      "    _check_index(s)\n",
      "  File \"C:\\Users\\shurk\\Anaconda3\\envs\\pytrch\\lib\\site-packages\\tensorflow_core\\python\\ops\\array_ops.py\", line 752, in _check_index\n",
      "    raise TypeError(_SLICE_TYPE_ERROR + \", got {!r}\".format(idx))\n",
      "TypeError: Only integers, slices (`:`), ellipsis (`...`), tf.newaxis (`None`) and scalar tf.int32/tf.int64 tensors are valid indices, got range(-2, 0)\n",
      "\n",
      "During handling of the above exception, another exception occurred:\n",
      "\n",
      "Traceback (most recent call last):\n",
      "  File \"C:\\Users\\shurk\\Anaconda3\\envs\\pytrch\\lib\\site-packages\\IPython\\core\\interactiveshell.py\", line 2044, in showtraceback\n",
      "    stb = value._render_traceback_()\n",
      "AttributeError: 'TypeError' object has no attribute '_render_traceback_'\n",
      "\n",
      "During handling of the above exception, another exception occurred:\n",
      "\n",
      "Traceback (most recent call last):\n",
      "  File \"C:\\Users\\shurk\\Anaconda3\\envs\\pytrch\\lib\\site-packages\\IPython\\core\\interactiveshell.py\", line 3263, in run_ast_nodes\n",
      "    if (await self.run_code(code, result,  async_=asy)):\n",
      "  File \"C:\\Users\\shurk\\Anaconda3\\envs\\pytrch\\lib\\site-packages\\IPython\\core\\interactiveshell.py\", line 3360, in run_code\n",
      "    self.showtraceback(running_compiled_code=True)\n",
      "  File \"C:\\Users\\shurk\\Anaconda3\\envs\\pytrch\\lib\\site-packages\\IPython\\core\\interactiveshell.py\", line 2047, in showtraceback\n",
      "    value, tb, tb_offset=tb_offset)\n",
      "  File \"C:\\Users\\shurk\\Anaconda3\\envs\\pytrch\\lib\\site-packages\\IPython\\core\\ultratb.py\", line 1436, in structured_traceback\n",
      "    self, etype, value, tb, tb_offset, number_of_lines_of_context)\n",
      "  File \"C:\\Users\\shurk\\Anaconda3\\envs\\pytrch\\lib\\site-packages\\IPython\\core\\ultratb.py\", line 1336, in structured_traceback\n",
      "    self, etype, value, tb, tb_offset, number_of_lines_of_context\n",
      "  File \"C:\\Users\\shurk\\Anaconda3\\envs\\pytrch\\lib\\site-packages\\IPython\\core\\ultratb.py\", line 1193, in structured_traceback\n",
      "    tb_offset)\n",
      "  File \"C:\\Users\\shurk\\Anaconda3\\envs\\pytrch\\lib\\site-packages\\IPython\\core\\ultratb.py\", line 1150, in format_exception_as_a_whole\n",
      "    last_unique, recursion_repeat = find_recursion(orig_etype, evalue, records)\n",
      "  File \"C:\\Users\\shurk\\Anaconda3\\envs\\pytrch\\lib\\site-packages\\IPython\\core\\ultratb.py\", line 451, in find_recursion\n",
      "    return len(records), 0\n",
      "TypeError: object of type 'NoneType' has no len()\n",
      "\n",
      "During handling of the above exception, another exception occurred:\n",
      "\n",
      "Traceback (most recent call last):\n",
      "  File \"C:\\Users\\shurk\\Anaconda3\\envs\\pytrch\\lib\\site-packages\\IPython\\core\\interactiveshell.py\", line 2044, in showtraceback\n",
      "    stb = value._render_traceback_()\n",
      "AttributeError: 'TypeError' object has no attribute '_render_traceback_'\n",
      "\n",
      "During handling of the above exception, another exception occurred:\n",
      "\n",
      "Traceback (most recent call last):\n",
      "  File \"C:\\Users\\shurk\\Anaconda3\\envs\\pytrch\\lib\\site-packages\\IPython\\core\\ultratb.py\", line 1169, in get_records\n",
      "    return _fixed_getinnerframes(etb, number_of_lines_of_context, tb_offset)\n",
      "  File \"C:\\Users\\shurk\\Anaconda3\\envs\\pytrch\\lib\\site-packages\\IPython\\core\\ultratb.py\", line 316, in wrapped\n",
      "    return f(*args, **kwargs)\n",
      "  File \"C:\\Users\\shurk\\Anaconda3\\envs\\pytrch\\lib\\site-packages\\IPython\\core\\ultratb.py\", line 350, in _fixed_getinnerframes\n",
      "    records = fix_frame_records_filenames(inspect.getinnerframes(etb, context))\n",
      "  File \"C:\\Users\\shurk\\Anaconda3\\envs\\pytrch\\lib\\inspect.py\", line 1490, in getinnerframes\n",
      "    frameinfo = (tb.tb_frame,) + getframeinfo(tb, context)\n",
      "  File \"C:\\Users\\shurk\\Anaconda3\\envs\\pytrch\\lib\\inspect.py\", line 1448, in getframeinfo\n",
      "    filename = getsourcefile(frame) or getfile(frame)\n",
      "  File \"C:\\Users\\shurk\\Anaconda3\\envs\\pytrch\\lib\\inspect.py\", line 696, in getsourcefile\n",
      "    if getattr(getmodule(object, filename), '__loader__', None) is not None:\n",
      "  File \"C:\\Users\\shurk\\Anaconda3\\envs\\pytrch\\lib\\inspect.py\", line 733, in getmodule\n",
      "    if ismodule(module) and hasattr(module, '__file__'):\n",
      "  File \"C:\\Users\\shurk\\Anaconda3\\envs\\pytrch\\lib\\site-packages\\tensorflow\\__init__.py\", line 50, in __getattr__\n",
      "    module = self._load()\n",
      "  File \"C:\\Users\\shurk\\Anaconda3\\envs\\pytrch\\lib\\site-packages\\tensorflow\\__init__.py\", line 44, in _load\n",
      "    module = _importlib.import_module(self.__name__)\n",
      "  File \"C:\\Users\\shurk\\Anaconda3\\envs\\pytrch\\lib\\importlib\\__init__.py\", line 126, in import_module\n",
      "    return _bootstrap._gcd_import(name[level:], package, level)\n",
      "  File \"<frozen importlib._bootstrap>\", line 994, in _gcd_import\n",
      "  File \"<frozen importlib._bootstrap>\", line 971, in _find_and_load\n",
      "  File \"<frozen importlib._bootstrap>\", line 953, in _find_and_load_unlocked\n",
      "ModuleNotFoundError: No module named 'tensorflow_core.estimator'\n",
      "Traceback (most recent call last):\n",
      "  File \"C:\\Users\\shurk\\Anaconda3\\envs\\pytrch\\lib\\site-packages\\IPython\\core\\interactiveshell.py\", line 3343, in run_code\n",
      "    exec(code_obj, self.user_global_ns, self.user_ns)\n",
      "  File \"<ipython-input-112-14a6c9fc5634>\", line 36, in <module>\n",
      "    X_train, Y_train = data_process(y, 0, train_size, past_history)\n",
      "  File \"<ipython-input-112-14a6c9fc5634>\", line 30, in data_process\n",
      "    data.append(np.reshape(dataset[indices], (sHistory, 1)))\n",
      "  File \"C:\\Users\\shurk\\Anaconda3\\envs\\pytrch\\lib\\site-packages\\tensorflow_core\\python\\ops\\array_ops.py\", line 862, in _slice_helper\n",
      "    _check_index(s)\n",
      "  File \"C:\\Users\\shurk\\Anaconda3\\envs\\pytrch\\lib\\site-packages\\tensorflow_core\\python\\ops\\array_ops.py\", line 752, in _check_index\n",
      "    raise TypeError(_SLICE_TYPE_ERROR + \", got {!r}\".format(idx))\n",
      "TypeError: Only integers, slices (`:`), ellipsis (`...`), tf.newaxis (`None`) and scalar tf.int32/tf.int64 tensors are valid indices, got range(-2, 0)\n",
      "\n",
      "During handling of the above exception, another exception occurred:\n",
      "\n",
      "Traceback (most recent call last):\n",
      "  File \"C:\\Users\\shurk\\Anaconda3\\envs\\pytrch\\lib\\site-packages\\IPython\\core\\interactiveshell.py\", line 2044, in showtraceback\n",
      "    stb = value._render_traceback_()\n",
      "AttributeError: 'TypeError' object has no attribute '_render_traceback_'\n",
      "\n",
      "During handling of the above exception, another exception occurred:\n",
      "\n",
      "Traceback (most recent call last):\n",
      "  File \"C:\\Users\\shurk\\Anaconda3\\envs\\pytrch\\lib\\site-packages\\IPython\\core\\interactiveshell.py\", line 3263, in run_ast_nodes\n",
      "    if (await self.run_code(code, result,  async_=asy)):\n",
      "  File \"C:\\Users\\shurk\\Anaconda3\\envs\\pytrch\\lib\\site-packages\\IPython\\core\\interactiveshell.py\", line 3360, in run_code\n",
      "    self.showtraceback(running_compiled_code=True)\n",
      "  File \"C:\\Users\\shurk\\Anaconda3\\envs\\pytrch\\lib\\site-packages\\IPython\\core\\interactiveshell.py\", line 2047, in showtraceback\n",
      "    value, tb, tb_offset=tb_offset)\n",
      "  File \"C:\\Users\\shurk\\Anaconda3\\envs\\pytrch\\lib\\site-packages\\IPython\\core\\ultratb.py\", line 1436, in structured_traceback\n",
      "    self, etype, value, tb, tb_offset, number_of_lines_of_context)\n",
      "  File \"C:\\Users\\shurk\\Anaconda3\\envs\\pytrch\\lib\\site-packages\\IPython\\core\\ultratb.py\", line 1336, in structured_traceback\n",
      "    self, etype, value, tb, tb_offset, number_of_lines_of_context\n",
      "  File \"C:\\Users\\shurk\\Anaconda3\\envs\\pytrch\\lib\\site-packages\\IPython\\core\\ultratb.py\", line 1193, in structured_traceback\n",
      "    tb_offset)\n",
      "  File \"C:\\Users\\shurk\\Anaconda3\\envs\\pytrch\\lib\\site-packages\\IPython\\core\\ultratb.py\", line 1150, in format_exception_as_a_whole\n",
      "    last_unique, recursion_repeat = find_recursion(orig_etype, evalue, records)\n",
      "  File \"C:\\Users\\shurk\\Anaconda3\\envs\\pytrch\\lib\\site-packages\\IPython\\core\\ultratb.py\", line 451, in find_recursion\n",
      "    return len(records), 0\n",
      "TypeError: object of type 'NoneType' has no len()\n",
      "\n",
      "During handling of the above exception, another exception occurred:\n",
      "\n",
      "Traceback (most recent call last):\n",
      "  File \"C:\\Users\\shurk\\Anaconda3\\envs\\pytrch\\lib\\site-packages\\IPython\\core\\interactiveshell.py\", line 2044, in showtraceback\n",
      "    stb = value._render_traceback_()\n",
      "AttributeError: 'TypeError' object has no attribute '_render_traceback_'\n",
      "\n",
      "During handling of the above exception, another exception occurred:\n",
      "\n",
      "Traceback (most recent call last):\n",
      "  File \"C:\\Users\\shurk\\Anaconda3\\envs\\pytrch\\lib\\site-packages\\IPython\\core\\interactiveshell.py\", line 2895, in _run_cell\n",
      "    return runner(coro)\n",
      "  File \"C:\\Users\\shurk\\Anaconda3\\envs\\pytrch\\lib\\site-packages\\IPython\\core\\async_helpers.py\", line 68, in _pseudo_sync_runner\n",
      "    coro.send(None)\n",
      "  File \"C:\\Users\\shurk\\Anaconda3\\envs\\pytrch\\lib\\site-packages\\IPython\\core\\interactiveshell.py\", line 3072, in run_cell_async\n",
      "    interactivity=interactivity, compiler=compiler, result=result)\n",
      "  File \"C:\\Users\\shurk\\Anaconda3\\envs\\pytrch\\lib\\site-packages\\IPython\\core\\interactiveshell.py\", line 3282, in run_ast_nodes\n",
      "    self.showtraceback()\n",
      "  File \"C:\\Users\\shurk\\Anaconda3\\envs\\pytrch\\lib\\site-packages\\IPython\\core\\interactiveshell.py\", line 2047, in showtraceback\n",
      "    value, tb, tb_offset=tb_offset)\n",
      "  File \"C:\\Users\\shurk\\Anaconda3\\envs\\pytrch\\lib\\site-packages\\IPython\\core\\ultratb.py\", line 1436, in structured_traceback\n",
      "    self, etype, value, tb, tb_offset, number_of_lines_of_context)\n",
      "  File \"C:\\Users\\shurk\\Anaconda3\\envs\\pytrch\\lib\\site-packages\\IPython\\core\\ultratb.py\", line 1336, in structured_traceback\n",
      "    self, etype, value, tb, tb_offset, number_of_lines_of_context\n",
      "  File \"C:\\Users\\shurk\\Anaconda3\\envs\\pytrch\\lib\\site-packages\\IPython\\core\\ultratb.py\", line 1211, in structured_traceback\n",
      "    chained_exceptions_tb_offset)\n",
      "  File \"C:\\Users\\shurk\\Anaconda3\\envs\\pytrch\\lib\\site-packages\\IPython\\core\\ultratb.py\", line 1150, in format_exception_as_a_whole\n",
      "    last_unique, recursion_repeat = find_recursion(orig_etype, evalue, records)\n",
      "  File \"C:\\Users\\shurk\\Anaconda3\\envs\\pytrch\\lib\\site-packages\\IPython\\core\\ultratb.py\", line 451, in find_recursion\n",
      "    return len(records), 0\n",
      "TypeError: object of type 'NoneType' has no len()\n",
      "\n",
      "During handling of the above exception, another exception occurred:\n",
      "\n",
      "Traceback (most recent call last):\n",
      "  File \"C:\\Users\\shurk\\Anaconda3\\envs\\pytrch\\lib\\site-packages\\IPython\\core\\interactiveshell.py\", line 2044, in showtraceback\n",
      "    stb = value._render_traceback_()\n",
      "AttributeError: 'TypeError' object has no attribute '_render_traceback_'\n",
      "\n",
      "During handling of the above exception, another exception occurred:\n",
      "\n",
      "Traceback (most recent call last):\n",
      "  File \"C:\\Users\\shurk\\Anaconda3\\envs\\pytrch\\lib\\site-packages\\IPython\\core\\ultratb.py\", line 1169, in get_records\n",
      "    return _fixed_getinnerframes(etb, number_of_lines_of_context, tb_offset)\n",
      "  File \"C:\\Users\\shurk\\Anaconda3\\envs\\pytrch\\lib\\site-packages\\IPython\\core\\ultratb.py\", line 316, in wrapped\n",
      "    return f(*args, **kwargs)\n",
      "  File \"C:\\Users\\shurk\\Anaconda3\\envs\\pytrch\\lib\\site-packages\\IPython\\core\\ultratb.py\", line 350, in _fixed_getinnerframes\n",
      "    records = fix_frame_records_filenames(inspect.getinnerframes(etb, context))\n",
      "  File \"C:\\Users\\shurk\\Anaconda3\\envs\\pytrch\\lib\\inspect.py\", line 1490, in getinnerframes\n",
      "    frameinfo = (tb.tb_frame,) + getframeinfo(tb, context)\n",
      "  File \"C:\\Users\\shurk\\Anaconda3\\envs\\pytrch\\lib\\inspect.py\", line 1448, in getframeinfo\n",
      "    filename = getsourcefile(frame) or getfile(frame)\n",
      "  File \"C:\\Users\\shurk\\Anaconda3\\envs\\pytrch\\lib\\inspect.py\", line 696, in getsourcefile\n",
      "    if getattr(getmodule(object, filename), '__loader__', None) is not None:\n",
      "  File \"C:\\Users\\shurk\\Anaconda3\\envs\\pytrch\\lib\\inspect.py\", line 733, in getmodule\n",
      "    if ismodule(module) and hasattr(module, '__file__'):\n",
      "  File \"C:\\Users\\shurk\\Anaconda3\\envs\\pytrch\\lib\\site-packages\\tensorflow\\__init__.py\", line 50, in __getattr__\n",
      "    module = self._load()\n",
      "  File \"C:\\Users\\shurk\\Anaconda3\\envs\\pytrch\\lib\\site-packages\\tensorflow\\__init__.py\", line 44, in _load\n",
      "    module = _importlib.import_module(self.__name__)\n",
      "  File \"C:\\Users\\shurk\\Anaconda3\\envs\\pytrch\\lib\\importlib\\__init__.py\", line 126, in import_module\n",
      "    return _bootstrap._gcd_import(name[level:], package, level)\n",
      "  File \"<frozen importlib._bootstrap>\", line 994, in _gcd_import\n",
      "  File \"<frozen importlib._bootstrap>\", line 971, in _find_and_load\n",
      "  File \"<frozen importlib._bootstrap>\", line 953, in _find_and_load_unlocked\n",
      "ModuleNotFoundError: No module named 'tensorflow_core.estimator'\n"
     ]
    }
   ],
   "source": [
    "# data normalization\n",
    "\n",
    "train_size = int(len(df) * 0.80)\n",
    "dataset = df[\"Case Count\"] #numpy.ndarray\n",
    "\n",
    "training_mean = dataset[:train_size].mean()\n",
    "training_std = dataset[:train_size].std()\n",
    "\n",
    "#standarize the data\n",
    "y = (dataset-training_mean)/training_std\n",
    "\n",
    "\n",
    "#define the function to prepare data.\n",
    "#reorganize the data to form feature vectors and target values.\n",
    "\n",
    "def data_process(dataset, iStart, iEnd, sHistory):\n",
    "    data = []\n",
    "    target = []\n",
    "    if iEnd is None:\n",
    "        iEnd = len(dataset)\n",
    "    for i in range(iStart, iEnd):\n",
    "        indices = range(i-sHistory,i)\n",
    "        data.append(np.reshape(dataset[indices], (sHistory, 1)))\n",
    "        target.append(dataset[i])\n",
    "    return np.array(data), np.array(target)\n",
    "\n",
    "# #lets define number of history data for training an dsplit data into training and testing datasets\n",
    "past_history = 2\n",
    "X_train, Y_train = data_process(y, 0, train_size, past_history)\n",
    "X_test, Y_test = data_process(y, train_size, None, past_history)\n",
    "\n"
   ]
  },
  {
   "cell_type": "code",
   "execution_count": 98,
   "metadata": {},
   "outputs": [
    {
     "data": {
      "text/plain": [
       "array([[[1.94606392],\n",
       "        [2.73885494]],\n",
       "\n",
       "       [[2.73885494],\n",
       "        [4.67011872]],\n",
       "\n",
       "       [[4.67011872],\n",
       "        [3.87360178]],\n",
       "\n",
       "       [[3.87360178],\n",
       "        [3.37515771]]])"
      ]
     },
     "execution_count": 98,
     "metadata": {},
     "output_type": "execute_result"
    }
   ],
   "source": [
    "X_test"
   ]
  },
  {
   "cell_type": "code",
   "execution_count": 91,
   "metadata": {},
   "outputs": [],
   "source": [
    "import tensorflow as tf\n",
    "#setting seed to ensure reproducibility\n",
    "tf.random.set_seed(8888)\n",
    "model = tf.keras.models.Sequential([\n",
    "    tf.keras.layers.LSTM(8, input_shape=X_train.shape[-2:]),\n",
    "    tf.keras.layers.Dense(1)\n",
    "])"
   ]
  },
  {
   "cell_type": "code",
   "execution_count": 100,
   "metadata": {},
   "outputs": [
    {
     "name": "stdout",
     "output_type": "stream",
     "text": [
      "Model: \"sequential_2\"\n",
      "_________________________________________________________________\n",
      "Layer (type)                 Output Shape              Param #   \n",
      "=================================================================\n",
      "lstm_2 (LSTM)                (None, 8)                 320       \n",
      "_________________________________________________________________\n",
      "dense_2 (Dense)              (None, 1)                 9         \n",
      "=================================================================\n",
      "Total params: 329\n",
      "Trainable params: 329\n",
      "Non-trainable params: 0\n",
      "_________________________________________________________________\n"
     ]
    }
   ],
   "source": [
    "model.summary()"
   ]
  },
  {
   "cell_type": "code",
   "execution_count": 101,
   "metadata": {},
   "outputs": [],
   "source": [
    "model.compile(optimizer=\"Adam\",\n",
    "             loss =\"mse\")"
   ]
  },
  {
   "cell_type": "code",
   "execution_count": 102,
   "metadata": {},
   "outputs": [],
   "source": [
    "BATCH_SIZE = 4\n",
    "BUFFER_SIZE = 10000\n",
    "\n",
    "p_train = tf.data.Dataset.from_tensor_slices((X_train, Y_train))\n",
    "p_train = p_train.cache().shuffle(BATCH_SIZE).batch(BATCH_SIZE).repeat()\n",
    "\n",
    "p_test = tf.data.Dataset.from_tensor_slices((X_test, Y_test))\n",
    "p_test = p_test.batch(BATCH_SIZE).repeat()"
   ]
  },
  {
   "cell_type": "code",
   "execution_count": 104,
   "metadata": {},
   "outputs": [
    {
     "name": "stdout",
     "output_type": "stream",
     "text": [
      "Train for 200 steps, validate for 50 stepsERROR! Session/line number was not unique in database. History logging moved to new session \n",
      "Epoch 1/10\n",
      "409\n",
      "200/200 [==============================] - 0s 2ms/step - loss: 0.0241 - val_loss: 16.1054\n",
      "Epoch 2/10\n",
      "200/200 [==============================] - 0s 2ms/step - loss: 0.0238 - val_loss: 16.2013\n",
      "Epoch 3/10\n",
      "200/200 [==============================] - 0s 2ms/step - loss: 0.0235 - val_loss: 16.3053\n",
      "Epoch 4/10\n",
      "200/200 [==============================] - 0s 2ms/step - loss: 0.0233 - val_loss: 16.3945\n",
      "Epoch 5/10\n",
      "200/200 [==============================] - 1s 3ms/step - loss: 0.0231 - val_loss: 16.4772\n",
      "Epoch 6/10\n",
      "200/200 [==============================] - 0s 2ms/step - loss: 0.0229 - val_loss: 16.5424\n",
      "Epoch 7/10\n",
      "200/200 [==============================] - 0s 2ms/step - loss: 0.0226 - val_loss: 16.6217\n",
      "Epoch 8/10\n",
      "200/200 [==============================] - 0s 2ms/step - loss: 0.0224 - val_loss: 16.6813\n",
      "Epoch 9/10\n",
      "200/200 [==============================] - 0s 2ms/step - loss: 0.0222 - val_loss: 16.7459\n",
      "Epoch 10/10\n",
      "200/200 [==============================] - 0s 2ms/step - loss: 0.0221 - val_loss: 16.8090\n"
     ]
    }
   ],
   "source": [
    "history = model.fit(p_train, epochs = 10, steps_per_epoch=200, validation_data=p_test, validation_steps=50)"
   ]
  },
  {
   "cell_type": "code",
   "execution_count": 105,
   "metadata": {},
   "outputs": [
    {
     "data": {
      "text/plain": [
       "<AxesSubplot:>"
      ]
     },
     "execution_count": 105,
     "metadata": {},
     "output_type": "execute_result"
    },
    {
     "data": {
      "image/png": "[encoded data removed]",
      "text/plain": [
       "<Figure size 720x720 with 1 Axes>"
      ]
     },
     "metadata": {
      "needs_background": "light"
     },
     "output_type": "display_data"
    }
   ],
   "source": [
    "hist = pd.DataFrame(history.history)\n",
    "hist.head()\n",
    "hist.plot()"
   ]
  },
  {
   "cell_type": "code",
   "execution_count": 107,
   "metadata": {},
   "outputs": [],
   "source": [
    "predicted_value = []\n",
    "y_orig = []\n",
    "count = 0;\n",
    "for x, y in p_train.take(20):\n",
    "    y_orig.append(y[0].numpy())\n",
    "    t_pred = model.predict(x)\n",
    "    predicted_value.append(t_pred[0])"
   ]
  },
  {
   "cell_type": "code",
   "execution_count": null,
   "metadata": {},
   "outputs": [],
   "source": []
  },
  {
   "cell_type": "code",
   "execution_count": 110,
   "metadata": {},
   "outputs": [
    {
     "name": "stdout",
     "output_type": "stream",
     "text": [
      "ERROR! Session/line number was not unique in database. History logging moved to new session 410\n"
     ]
    }
   ],
   "source": [
    "#plot the values\n",
    "y_pred = [predicted_value[i][0] for i in range (len(predicted_value))]\n",
    "result = pd.DataFrame({\"predicted\":y_pred, \"target\": y_orig})\n"
   ]
  },
  {
   "cell_type": "code",
   "execution_count": 111,
   "metadata": {},
   "outputs": [
    {
     "data": {
      "text/plain": [
       "[-0.7792001,\n",
       " -0.19112843,\n",
       " -0.3494185,\n",
       " -0.6369004,\n",
       " -0.5948723,\n",
       " -0.36493653,\n",
       " -0.6494796,\n",
       " -0.5000028,\n",
       " -0.6369004,\n",
       " -0.743872,\n",
       " -0.2983273,\n",
       " 2.7359552,\n",
       " -0.5948723,\n",
       " -0.36493653,\n",
       " -0.3494185,\n",
       " 2.7359552,\n",
       " -0.6369004,\n",
       " -0.13880047,\n",
       " -0.33852834,\n",
       " -0.14548215]"
      ]
     },
     "execution_count": 111,
     "metadata": {},
     "output_type": "execute_result"
    }
   ],
   "source": [
    "y_pred = \n",
    "\n",
    "train_predict = scaler.inverse_transform(train_predict)\n",
    "\n",
    "Y_train = scaler.inverse_transform(Y_train.reshape(-1,1)).reshape(Y_train.shape)\n",
    "\n",
    "test_predict = scaler.inverse_transform(test_predict)\n",
    "Y_test = scaler.inverse_transform(Y_test.reshape(-1,1)).reshape(Y_test.shape)\n",
    "\n",
    "\n"
   ]
  },
  {
   "cell_type": "code",
   "execution_count": 109,
   "metadata": {},
   "outputs": [
    {
     "data": {
      "text/plain": [
       "<AxesSubplot:>"
      ]
     },
     "execution_count": 109,
     "metadata": {},
     "output_type": "execute_result"
    },
    {
     "data": {
      "image/png": "[encoded data removed]",
      "text/plain": [
       "<Figure size 720x720 with 1 Axes>"
      ]
     },
     "metadata": {
      "needs_background": "light"
     },
     "output_type": "display_data"
    }
   ],
   "source": [
    "result.plot()"
   ]
  },
  {
   "cell_type": "code",
   "execution_count": null,
   "metadata": {},
   "outputs": [],
   "source": []
  },
  {
   "cell_type": "markdown",
   "metadata": {},
   "source": [
    "## Second Data Preparations"
   ]
  },
  {
   "cell_type": "code",
   "execution_count": 84,
   "metadata": {},
   "outputs": [],
   "source": [
    "dataset = df[\"Case Count\"].values #numpy.ndarray\n",
    "dataset = dataset.astype('float32')\n",
    "dataset = np.reshape(dataset, (-1, 1))\n",
    "\n",
    "scaler = MinMaxScaler(feature_range=(0, 1))\n",
    "dataset = scaler.fit_transform(dataset)\n",
    "\n",
    "train_size = int(len(dataset) * 0.80)\n",
    "test_size = len(dataset) - train_size\n",
    "train, test = dataset[0:train_size,:], dataset[train_size:len(dataset),:]\n",
    "\n",
    "\n",
    "def create_dataset(dataset, look_back=1):\n",
    "    X, Y = [], []\n",
    "    for i in range(len(dataset)-look_back-1):\n",
    "        a = dataset[i:(i+look_back), ]\n",
    "        X.append(a)\n",
    "        Y.append(dataset[i + look_back, ])\n",
    "    return np.array(X), np.array(Y)\n",
    "    \n",
    "look_back = 1\n",
    "X_train, Y_train = create_dataset(train, look_back)\n",
    "X_test, Y_test = create_dataset(test, look_back)\n",
    "\n",
    "# reshape input to be [samples, time steps, features]\n",
    "X_train = np.reshape(X_train, (X_train.shape[0], 1, X_train.shape[1]))\n",
    "X_test = np.reshape(X_test, (X_test.shape[0], 1, X_test.shape[1]))\n"
   ]
  },
  {
   "cell_type": "code",
   "execution_count": 85,
   "metadata": {},
   "outputs": [
    {
     "data": {
      "text/plain": [
       "2"
      ]
     },
     "execution_count": 85,
     "metadata": {},
     "output_type": "execute_result"
    }
   ],
   "source": [
    "len(X_test)\n"
   ]
  },
  {
   "cell_type": "code",
   "execution_count": 86,
   "metadata": {},
   "outputs": [
    {
     "name": "stdout",
     "output_type": "stream",
     "text": [
      "Train on 14 samples, validate on 2 samples\n",
      "Epoch 1/2000\n",
      "14/14 [==============================] - 0s 23ms/step - loss: 0.0315 - val_loss: 0.6542\n",
      "Epoch 2/2000\n",
      "14/14 [==============================] - 0s 497us/step - loss: 0.0292 - val_loss: 0.6254\n",
      "Epoch 3/2000\n",
      "14/14 [==============================] - 0s 573us/step - loss: 0.0271 - val_loss: 0.5980\n",
      "Epoch 4/2000\n",
      "14/14 [==============================] - 0s 567us/step - loss: 0.0251 - val_loss: 0.5717\n",
      "Epoch 5/2000\n",
      "14/14 [==============================] - 0s 570us/step - loss: 0.0230 - val_loss: 0.5464\n",
      "Epoch 6/2000\n",
      "14/14 [==============================] - 0s 499us/step - loss: 0.0215 - val_loss: 0.5224\n",
      "Epoch 7/2000\n",
      "14/14 [==============================] - 0s 499us/step - loss: 0.0201 - val_loss: 0.4998\n",
      "Epoch 8/2000\n",
      "14/14 [==============================] - 0s 427us/step - loss: 0.0199 - val_loss: 0.4784\n",
      "Epoch 9/2000\n",
      "14/14 [==============================] - 0s 570us/step - loss: 0.0185 - val_loss: 0.4582\n",
      "Epoch 10/2000\n",
      "14/14 [==============================] - 0s 641us/step - loss: 0.0171 - val_loss: 0.4393\n",
      "Epoch 11/2000\n",
      "14/14 [==============================] - 0s 566us/step - loss: 0.0162 - val_loss: 0.4215\n",
      "Epoch 12/2000\n",
      "14/14 [==============================] - 0s 499us/step - loss: 0.0157 - val_loss: 0.4047\n",
      "Epoch 13/2000\n",
      "14/14 [==============================] - 0s 570us/step - loss: 0.0162 - val_loss: 0.3891\n",
      "Epoch 14/2000\n",
      "14/14 [==============================] - 0s 641us/step - loss: 0.0168 - val_loss: 0.3748\n",
      "Epoch 15/2000\n",
      "14/14 [==============================] - 0s 570us/step - loss: 0.0158 - val_loss: 0.3617\n",
      "Epoch 16/2000\n",
      "14/14 [==============================] - 0s 428us/step - loss: 0.0154 - val_loss: 0.3497\n",
      "Epoch 17/2000\n",
      "14/14 [==============================] - 0s 499us/step - loss: 0.0159 - val_loss: 0.3387\n",
      "Epoch 18/2000\n",
      "14/14 [==============================] - 0s 499us/step - loss: 0.0160 - val_loss: 0.3288\n",
      "Epoch 19/2000\n",
      "14/14 [==============================] - 0s 784us/step - loss: 0.0156 - val_loss: 0.3198\n",
      "Epoch 20/2000\n",
      "14/14 [==============================] - 0s 570us/step - loss: 0.0167 - val_loss: 0.3116\n",
      "Epoch 21/2000\n",
      "14/14 [==============================] - 0s 427us/step - loss: 0.0155 - val_loss: 0.3041\n",
      "Epoch 22/2000\n",
      "14/14 [==============================] - 0s 428us/step - loss: 0.0150 - val_loss: 0.2969\n",
      "Epoch 23/2000\n",
      "14/14 [==============================] - 0s 427us/step - loss: 0.0158 - val_loss: 0.2904\n",
      "Epoch 24/2000\n",
      "14/14 [==============================] - 0s 499us/step - loss: 0.0153 - val_loss: 0.2841\n",
      "Epoch 25/2000\n",
      "14/14 [==============================] - 0s 641us/step - loss: 0.0150 - val_loss: 0.2782\n",
      "Epoch 26/2000\n",
      "14/14 [==============================] - 0s 499us/step - loss: 0.0153 - val_loss: 0.2723\n",
      "Epoch 27/2000\n",
      "14/14 [==============================] - 0s 427us/step - loss: 0.0153 - val_loss: 0.2665\n",
      "Epoch 28/2000\n",
      "14/14 [==============================] - 0s 427us/step - loss: 0.0140 - val_loss: 0.2608\n",
      "Epoch 29/2000\n",
      "14/14 [==============================] - 0s 427us/step - loss: 0.0146 - val_loss: 0.2554\n",
      "Epoch 30/2000\n",
      "14/14 [==============================] - 0s 498us/step - loss: 0.0141 - val_loss: 0.2499\n",
      "Epoch 31/2000\n",
      "14/14 [==============================] - 0s 570us/step - loss: 0.0145 - val_loss: 0.2444\n",
      "Epoch 32/2000\n",
      "14/14 [==============================] - 0s 499us/step - loss: 0.0137 - val_loss: 0.2388\n",
      "Epoch 33/2000\n",
      "14/14 [==============================] - 0s 570us/step - loss: 0.0146 - val_loss: 0.2333\n",
      "Epoch 34/2000\n",
      "14/14 [==============================] - 0s 498us/step - loss: 0.0145 - val_loss: 0.2279\n",
      "Epoch 35/2000\n",
      "14/14 [==============================] - 0s 570us/step - loss: 0.0145 - val_loss: 0.2225\n",
      "Epoch 36/2000\n",
      "14/14 [==============================] - 0s 499us/step - loss: 0.0142 - val_loss: 0.2173\n",
      "Epoch 37/2000\n",
      "14/14 [==============================] - 0s 427us/step - loss: 0.0131 - val_loss: 0.2121\n",
      "Epoch 38/2000\n",
      "14/14 [==============================] - 0s 570us/step - loss: 0.0151 - val_loss: 0.2069\n",
      "Epoch 39/2000\n",
      "14/14 [==============================] - 0s 641us/step - loss: 0.0132 - val_loss: 0.2018\n",
      "Epoch 40/2000\n",
      "14/14 [==============================] - 0s 499us/step - loss: 0.0130 - val_loss: 0.1964\n",
      "Epoch 41/2000\n",
      "14/14 [==============================] - 0s 427us/step - loss: 0.0127 - val_loss: 0.1909\n",
      "Epoch 42/2000\n",
      "14/14 [==============================] - 0s 427us/step - loss: 0.0134 - val_loss: 0.1854\n",
      "Epoch 43/2000\n",
      "14/14 [==============================] - 0s 427us/step - loss: 0.0131 - val_loss: 0.1801\n",
      "Epoch 44/2000\n",
      "14/14 [==============================] - 0s 570us/step - loss: 0.0129 - val_loss: 0.1748\n",
      "Epoch 45/2000\n",
      "14/14 [==============================] - 0s 498us/step - loss: 0.0128 - val_loss: 0.1697\n",
      "Epoch 46/2000\n",
      "14/14 [==============================] - 0s 570us/step - loss: 0.0131 - val_loss: 0.1645\n",
      "Epoch 47/2000\n",
      "14/14 [==============================] - 0s 427us/step - loss: 0.0130 - val_loss: 0.1592\n",
      "Epoch 48/2000\n",
      "14/14 [==============================] - 0s 428us/step - loss: 0.0112 - val_loss: 0.1541\n",
      "Epoch 49/2000\n",
      "14/14 [==============================] - 0s 427us/step - loss: 0.0120 - val_loss: 0.1489\n",
      "Epoch 50/2000\n",
      "14/14 [==============================] - 0s 641us/step - loss: 0.0129 - val_loss: 0.1438\n",
      "Epoch 51/2000\n",
      "14/14 [==============================] - 0s 499us/step - loss: 0.0126 - val_loss: 0.1388\n",
      "Epoch 52/2000\n",
      "14/14 [==============================] - 0s 499us/step - loss: 0.0115 - val_loss: 0.1338\n",
      "Epoch 53/2000\n",
      "14/14 [==============================] - 0s 570us/step - loss: 0.0122 - val_loss: 0.1288\n",
      "Epoch 54/2000\n",
      "14/14 [==============================] - 0s 427us/step - loss: 0.0118 - val_loss: 0.1237\n",
      "Epoch 55/2000\n",
      "14/14 [==============================] - 0s 499us/step - loss: 0.0127 - val_loss: 0.1188\n",
      "Epoch 56/2000\n",
      "14/14 [==============================] - 0s 641us/step - loss: 0.0111 - val_loss: 0.1138\n",
      "Epoch 57/2000\n",
      "14/14 [==============================] - 0s 499us/step - loss: 0.0110 - val_loss: 0.1088\n",
      "Epoch 58/2000\n",
      "14/14 [==============================] - 0s 427us/step - loss: 0.0111 - val_loss: 0.1040\n",
      "Epoch 59/2000\n",
      "14/14 [==============================] - 0s 499us/step - loss: 0.0107 - val_loss: 0.0995\n",
      "Epoch 60/2000\n",
      "14/14 [==============================] - 0s 356us/step - loss: 0.0115 - val_loss: 0.0952\n",
      "Epoch 61/2000\n",
      "14/14 [==============================] - 0s 499us/step - loss: 0.0101 - val_loss: 0.0910\n",
      "Epoch 62/2000\n",
      "14/14 [==============================] - 0s 499us/step - loss: 0.0103 - val_loss: 0.0867\n",
      "Epoch 63/2000\n",
      "14/14 [==============================] - 0s 570us/step - loss: 0.0107 - val_loss: 0.0824\n",
      "Epoch 64/2000\n",
      "14/14 [==============================] - 0s 427us/step - loss: 0.0108 - val_loss: 0.0782\n",
      "Epoch 65/2000\n",
      "14/14 [==============================] - 0s 499us/step - loss: 0.0094 - val_loss: 0.0740\n",
      "Epoch 66/2000\n",
      "14/14 [==============================] - 0s 499us/step - loss: 0.0093 - val_loss: 0.0698\n",
      "Epoch 67/2000\n",
      "14/14 [==============================] - 0s 499us/step - loss: 0.0087 - val_loss: 0.0657\n",
      "Epoch 68/2000\n",
      "14/14 [==============================] - 0s 499us/step - loss: 0.0087 - val_loss: 0.0616\n",
      "Epoch 69/2000\n",
      "14/14 [==============================] - 0s 499us/step - loss: 0.0093 - val_loss: 0.0575\n",
      "Epoch 70/2000\n",
      "14/14 [==============================] - 0s 712us/step - loss: 0.0100 - val_loss: 0.0535\n",
      "Epoch 71/2000\n",
      "14/14 [==============================] - 0s 427us/step - loss: 0.0090 - val_loss: 0.0496\n",
      "Epoch 72/2000\n",
      "14/14 [==============================] - 0s 641us/step - loss: 0.0098 - val_loss: 0.0461\n",
      "Epoch 73/2000\n",
      "14/14 [==============================] - 0s 570us/step - loss: 0.0111 - val_loss: 0.0427\n",
      "Epoch 74/2000\n",
      "14/14 [==============================] - 0s 427us/step - loss: 0.0094 - val_loss: 0.0394\n",
      "Epoch 75/2000\n",
      "14/14 [==============================] - 0s 427us/step - loss: 0.0093 - val_loss: 0.0361\n",
      "Epoch 76/2000\n",
      "14/14 [==============================] - 0s 570us/step - loss: 0.0096 - val_loss: 0.0329\n",
      "Epoch 77/2000\n",
      "14/14 [==============================] - 0s 427us/step - loss: 0.0081 - val_loss: 0.0298\n",
      "Epoch 78/2000\n",
      "14/14 [==============================] - 0s 641us/step - loss: 0.0091 - val_loss: 0.0270\n",
      "Epoch 79/2000\n",
      "14/14 [==============================] - 0s 570us/step - loss: 0.0080 - val_loss: 0.0242\n",
      "Epoch 80/2000\n",
      "14/14 [==============================] - 0s 499us/step - loss: 0.0097 - val_loss: 0.0216\n",
      "Epoch 81/2000\n",
      "14/14 [==============================] - 0s 499us/step - loss: 0.0082 - val_loss: 0.0191\n",
      "Epoch 82/2000\n",
      "14/14 [==============================] - 0s 570us/step - loss: 0.0082 - val_loss: 0.0167\n",
      "Epoch 83/2000\n",
      "14/14 [==============================] - 0s 570us/step - loss: 0.0084 - val_loss: 0.0144\n",
      "Epoch 84/2000\n",
      "14/14 [==============================] - 0s 641us/step - loss: 0.0089 - val_loss: 0.0124\n",
      "Epoch 85/2000\n",
      "14/14 [==============================] - 0s 570us/step - loss: 0.0079 - val_loss: 0.0105\n",
      "Epoch 86/2000\n",
      "14/14 [==============================] - 0s 427us/step - loss: 0.0070 - val_loss: 0.0088\n",
      "Epoch 87/2000\n",
      "14/14 [==============================] - 0s 570us/step - loss: 0.0079 - val_loss: 0.0072\n",
      "Epoch 88/2000\n",
      "14/14 [==============================] - 0s 499us/step - loss: 0.0078 - val_loss: 0.0058\n",
      "Epoch 89/2000\n",
      "14/14 [==============================] - 0s 499us/step - loss: 0.0074 - val_loss: 0.0046\n",
      "Epoch 90/2000\n",
      "14/14 [==============================] - 0s 499us/step - loss: 0.0066 - val_loss: 0.0035\n",
      "Epoch 91/2000\n",
      "14/14 [==============================] - 0s 712us/step - loss: 0.0058 - val_loss: 0.0025\n",
      "Epoch 92/2000\n",
      "14/14 [==============================] - 0s 570us/step - loss: 0.0067 - val_loss: 0.0018\n",
      "Epoch 93/2000\n",
      "14/14 [==============================] - 0s 570us/step - loss: 0.0058 - val_loss: 0.0011\n",
      "Epoch 94/2000\n",
      "14/14 [==============================] - 0s 641us/step - loss: 0.0070 - val_loss: 6.9441e-04\n",
      "Epoch 95/2000\n",
      "14/14 [==============================] - 0s 570us/step - loss: 0.0068 - val_loss: 4.2453e-04\n",
      "Epoch 96/2000\n",
      "14/14 [==============================] - 0s 570us/step - loss: 0.0053 - val_loss: 3.3200e-04\n",
      "Epoch 97/2000\n",
      "14/14 [==============================] - 0s 641us/step - loss: 0.0060 - val_loss: 4.1956e-04\n",
      "Epoch 98/2000\n",
      "14/14 [==============================] - 0s 499us/step - loss: 0.0058 - val_loss: 6.9646e-04\n",
      "Epoch 99/2000\n",
      "14/14 [==============================] - 0s 570us/step - loss: 0.0060 - val_loss: 0.0012\n",
      "Epoch 100/2000\n",
      "14/14 [==============================] - 0s 499us/step - loss: 0.0053 - val_loss: 0.0018\n",
      "Epoch 101/2000\n",
      "14/14 [==============================] - 0s 569us/step - loss: 0.0065 - val_loss: 0.0026\n",
      "Epoch 102/2000\n",
      "14/14 [==============================] - 0s 499us/step - loss: 0.0057 - val_loss: 0.0037\n",
      "Epoch 103/2000\n",
      "14/14 [==============================] - 0s 570us/step - loss: 0.0047 - val_loss: 0.0050\n",
      "Epoch 104/2000\n",
      "14/14 [==============================] - 0s 641us/step - loss: 0.0057 - val_loss: 0.0066\n",
      "Epoch 105/2000\n",
      "14/14 [==============================] - 0s 641us/step - loss: 0.0051 - val_loss: 0.0084\n",
      "Epoch 106/2000\n",
      "14/14 [==============================] - 0s 570us/step - loss: 0.0059 - val_loss: 0.0103\n",
      "Model: \"sequential_3\"\n",
      "_________________________________________________________________\n",
      "Layer (type)                 Output Shape              Param #   \n",
      "=================================================================\n",
      "lstm_3 (LSTM)                (None, 100)               40800     \n",
      "_________________________________________________________________\n",
      "dropout_1 (Dropout)          (None, 100)               0         \n",
      "_________________________________________________________________\n",
      "dense_3 (Dense)              (None, 1)                 101       \n",
      "=================================================================\n",
      "Total params: 40,901\n",
      "Trainable params: 40,901\n",
      "Non-trainable params: 0\n",
      "_________________________________________________________________\n"
     ]
    }
   ],
   "source": [
    "model = Sequential()\n",
    "model.add(LSTM(100, input_shape=(X_train.shape[1], X_train.shape[2])))\n",
    "model.add(Dropout(0.2))\n",
    "model.add(Dense(1))\n",
    "model.compile(loss='mean_squared_error', optimizer='adam')\n",
    "\n",
    "history = model.fit(X_train, Y_train, epochs=2000, batch_size=5, validation_data=(X_test, Y_test), \n",
    "                    callbacks=[EarlyStopping(monitor='val_loss', patience=10)], verbose=1, shuffle=False)\n",
    "\n",
    "model.summary()"
   ]
  },
  {
   "cell_type": "code",
   "execution_count": 688,
   "metadata": {},
   "outputs": [],
   "source": [
    "train_predict = model.predict(X_train)\n",
    "test_predict = model.predict(X_test)\n",
    "# # invert predictions\n",
    "train_predict = scaler.inverse_transform(train_predict)\n",
    "\n",
    "Y_train = scaler.inverse_transform(Y_train.reshape(-1,1)).reshape(Y_train.shape)\n",
    "\n",
    "test_predict = scaler.inverse_transform(test_predict)\n",
    "Y_test = scaler.inverse_transform(Y_test.reshape(-1,1)).reshape(Y_test.shape)\n",
    "\n"
   ]
  },
  {
   "cell_type": "code",
   "execution_count": null,
   "metadata": {},
   "outputs": [
    {
     "name": "stderr",
     "output_type": "stream",
     "text": [
      "ERROR:root:Internal Python error in the inspect module.\n",
      "Below is the traceback from this internal error.\n",
      "\n",
      "ERROR:root:Internal Python error in the inspect module.\n",
      "Below is the traceback from this internal error.\n",
      "\n",
      "ERROR:root:Internal Python error in the inspect module.\n",
      "Below is the traceback from this internal error.\n",
      "\n"
     ]
    },
    {
     "name": "stdout",
     "output_type": "stream",
     "text": [
      "Train Mean Absolute Error: 799.4225\n",
      "Train Root Mean Squared Error: 930.4796\n",
      "Test Mean Absolute Error: 1349.1294\n",
      "Traceback (most recent call last):\n",
      "  File \"C:\\Users\\shurk\\Anaconda3\\envs\\pytrch\\lib\\site-packages\\IPython\\core\\interactiveshell.py\", line 3343, in run_code\n",
      "    exec(code_obj, self.user_global_ns, self.user_ns)\n",
      "  File \"<ipython-input-689-012fe31302e1>\", line 4, in <module>\n",
      "    print('Test Root Mean Squared Error:',np.sqrt(mean_squared_error(Y_test[0], test_predict[0,0])))\n",
      "  File \"C:\\Users\\shurk\\Anaconda3\\envs\\pytrch\\lib\\site-packages\\sklearn\\utils\\validation.py\", line 63, in inner_f\n",
      "    return f(*args, **kwargs)\n",
      "  File \"C:\\Users\\shurk\\Anaconda3\\envs\\pytrch\\lib\\site-packages\\sklearn\\metrics\\_regression.py\", line 336, in mean_squared_error\n",
      "    y_true, y_pred, multioutput)\n",
      "  File \"C:\\Users\\shurk\\Anaconda3\\envs\\pytrch\\lib\\site-packages\\sklearn\\metrics\\_regression.py\", line 88, in _check_reg_targets\n",
      "    check_consistent_length(y_true, y_pred)\n",
      "  File \"C:\\Users\\shurk\\Anaconda3\\envs\\pytrch\\lib\\site-packages\\sklearn\\utils\\validation.py\", line 316, in check_consistent_length\n",
      "    lengths = [_num_samples(X) for X in arrays if X is not None]\n",
      "  File \"C:\\Users\\shurk\\Anaconda3\\envs\\pytrch\\lib\\site-packages\\sklearn\\utils\\validation.py\", line 316, in <listcomp>\n",
      "    lengths = [_num_samples(X) for X in arrays if X is not None]\n",
      "  File \"C:\\Users\\shurk\\Anaconda3\\envs\\pytrch\\lib\\site-packages\\sklearn\\utils\\validation.py\", line 260, in _num_samples\n",
      "    \" a valid collection.\" % x)\n",
      "TypeError: Singleton array 13854.3125 cannot be considered a valid collection.\n",
      "\n",
      "During handling of the above exception, another exception occurred:\n",
      "\n",
      "Traceback (most recent call last):\n",
      "  File \"C:\\Users\\shurk\\Anaconda3\\envs\\pytrch\\lib\\site-packages\\IPython\\core\\interactiveshell.py\", line 2044, in showtraceback\n",
      "    stb = value._render_traceback_()\n",
      "AttributeError: 'TypeError' object has no attribute '_render_traceback_'\n",
      "\n",
      "During handling of the above exception, another exception occurred:\n",
      "\n",
      "Traceback (most recent call last):\n",
      "  File \"C:\\Users\\shurk\\Anaconda3\\envs\\pytrch\\lib\\site-packages\\IPython\\core\\ultratb.py\", line 1169, in get_records\n",
      "    return _fixed_getinnerframes(etb, number_of_lines_of_context, tb_offset)\n",
      "  File \"C:\\Users\\shurk\\Anaconda3\\envs\\pytrch\\lib\\site-packages\\IPython\\core\\ultratb.py\", line 316, in wrapped\n",
      "    return f(*args, **kwargs)\n",
      "  File \"C:\\Users\\shurk\\Anaconda3\\envs\\pytrch\\lib\\site-packages\\IPython\\core\\ultratb.py\", line 350, in _fixed_getinnerframes\n",
      "    records = fix_frame_records_filenames(inspect.getinnerframes(etb, context))\n",
      "  File \"C:\\Users\\shurk\\Anaconda3\\envs\\pytrch\\lib\\inspect.py\", line 1490, in getinnerframes\n",
      "    frameinfo = (tb.tb_frame,) + getframeinfo(tb, context)\n",
      "  File \"C:\\Users\\shurk\\Anaconda3\\envs\\pytrch\\lib\\inspect.py\", line 1448, in getframeinfo\n",
      "    filename = getsourcefile(frame) or getfile(frame)\n",
      "  File \"C:\\Users\\shurk\\Anaconda3\\envs\\pytrch\\lib\\inspect.py\", line 696, in getsourcefile\n",
      "    if getattr(getmodule(object, filename), '__loader__', None) is not None:\n",
      "  File \"C:\\Users\\shurk\\Anaconda3\\envs\\pytrch\\lib\\inspect.py\", line 733, in getmodule\n",
      "    if ismodule(module) and hasattr(module, '__file__'):\n",
      "  File \"C:\\Users\\shurk\\Anaconda3\\envs\\pytrch\\lib\\site-packages\\tensorflow\\__init__.py\", line 50, in __getattr__\n",
      "    module = self._load()\n",
      "  File \"C:\\Users\\shurk\\Anaconda3\\envs\\pytrch\\lib\\site-packages\\tensorflow\\__init__.py\", line 44, in _load\n",
      "    module = _importlib.import_module(self.__name__)\n",
      "  File \"C:\\Users\\shurk\\Anaconda3\\envs\\pytrch\\lib\\importlib\\__init__.py\", line 126, in import_module\n",
      "    return _bootstrap._gcd_import(name[level:], package, level)\n",
      "  File \"<frozen importlib._bootstrap>\", line 994, in _gcd_import\n",
      "  File \"<frozen importlib._bootstrap>\", line 971, in _find_and_load\n",
      "  File \"<frozen importlib._bootstrap>\", line 953, in _find_and_load_unlocked\n",
      "ModuleNotFoundError: No module named 'tensorflow_core.estimator'\n",
      "Traceback (most recent call last):\n",
      "  File \"C:\\Users\\shurk\\Anaconda3\\envs\\pytrch\\lib\\site-packages\\IPython\\core\\interactiveshell.py\", line 3343, in run_code\n",
      "    exec(code_obj, self.user_global_ns, self.user_ns)\n",
      "  File \"<ipython-input-689-012fe31302e1>\", line 4, in <module>\n",
      "    print('Test Root Mean Squared Error:',np.sqrt(mean_squared_error(Y_test[0], test_predict[0,0])))\n",
      "  File \"C:\\Users\\shurk\\Anaconda3\\envs\\pytrch\\lib\\site-packages\\sklearn\\utils\\validation.py\", line 63, in inner_f\n",
      "    return f(*args, **kwargs)\n",
      "  File \"C:\\Users\\shurk\\Anaconda3\\envs\\pytrch\\lib\\site-packages\\sklearn\\metrics\\_regression.py\", line 336, in mean_squared_error\n",
      "    y_true, y_pred, multioutput)\n",
      "  File \"C:\\Users\\shurk\\Anaconda3\\envs\\pytrch\\lib\\site-packages\\sklearn\\metrics\\_regression.py\", line 88, in _check_reg_targets\n",
      "    check_consistent_length(y_true, y_pred)\n",
      "  File \"C:\\Users\\shurk\\Anaconda3\\envs\\pytrch\\lib\\site-packages\\sklearn\\utils\\validation.py\", line 316, in check_consistent_length\n",
      "    lengths = [_num_samples(X) for X in arrays if X is not None]\n",
      "  File \"C:\\Users\\shurk\\Anaconda3\\envs\\pytrch\\lib\\site-packages\\sklearn\\utils\\validation.py\", line 316, in <listcomp>\n",
      "    lengths = [_num_samples(X) for X in arrays if X is not None]\n",
      "  File \"C:\\Users\\shurk\\Anaconda3\\envs\\pytrch\\lib\\site-packages\\sklearn\\utils\\validation.py\", line 260, in _num_samples\n",
      "    \" a valid collection.\" % x)\n",
      "TypeError: Singleton array 13854.3125 cannot be considered a valid collection.\n",
      "\n",
      "During handling of the above exception, another exception occurred:\n",
      "\n",
      "Traceback (most recent call last):\n",
      "  File \"C:\\Users\\shurk\\Anaconda3\\envs\\pytrch\\lib\\site-packages\\IPython\\core\\interactiveshell.py\", line 2044, in showtraceback\n",
      "    stb = value._render_traceback_()\n",
      "AttributeError: 'TypeError' object has no attribute '_render_traceback_'\n",
      "\n",
      "During handling of the above exception, another exception occurred:\n",
      "\n",
      "Traceback (most recent call last):\n",
      "  File \"C:\\Users\\shurk\\Anaconda3\\envs\\pytrch\\lib\\site-packages\\IPython\\core\\interactiveshell.py\", line 3263, in run_ast_nodes\n",
      "    if (await self.run_code(code, result,  async_=asy)):\n",
      "  File \"C:\\Users\\shurk\\Anaconda3\\envs\\pytrch\\lib\\site-packages\\IPython\\core\\interactiveshell.py\", line 3360, in run_code\n",
      "    self.showtraceback(running_compiled_code=True)\n",
      "  File \"C:\\Users\\shurk\\Anaconda3\\envs\\pytrch\\lib\\site-packages\\IPython\\core\\interactiveshell.py\", line 2047, in showtraceback\n",
      "    value, tb, tb_offset=tb_offset)\n",
      "  File \"C:\\Users\\shurk\\Anaconda3\\envs\\pytrch\\lib\\site-packages\\IPython\\core\\ultratb.py\", line 1436, in structured_traceback\n",
      "    self, etype, value, tb, tb_offset, number_of_lines_of_context)\n",
      "  File \"C:\\Users\\shurk\\Anaconda3\\envs\\pytrch\\lib\\site-packages\\IPython\\core\\ultratb.py\", line 1336, in structured_traceback\n",
      "    self, etype, value, tb, tb_offset, number_of_lines_of_context\n",
      "  File \"C:\\Users\\shurk\\Anaconda3\\envs\\pytrch\\lib\\site-packages\\IPython\\core\\ultratb.py\", line 1193, in structured_traceback\n",
      "    tb_offset)\n",
      "  File \"C:\\Users\\shurk\\Anaconda3\\envs\\pytrch\\lib\\site-packages\\IPython\\core\\ultratb.py\", line 1150, in format_exception_as_a_whole\n",
      "    last_unique, recursion_repeat = find_recursion(orig_etype, evalue, records)\n",
      "  File \"C:\\Users\\shurk\\Anaconda3\\envs\\pytrch\\lib\\site-packages\\IPython\\core\\ultratb.py\", line 451, in find_recursion\n",
      "    return len(records), 0\n",
      "TypeError: object of type 'NoneType' has no len()\n",
      "\n",
      "During handling of the above exception, another exception occurred:\n",
      "\n",
      "Traceback (most recent call last):\n",
      "  File \"C:\\Users\\shurk\\Anaconda3\\envs\\pytrch\\lib\\site-packages\\IPython\\core\\interactiveshell.py\", line 2044, in showtraceback\n",
      "    stb = value._render_traceback_()\n",
      "AttributeError: 'TypeError' object has no attribute '_render_traceback_'\n",
      "\n",
      "During handling of the above exception, another exception occurred:\n",
      "\n",
      "Traceback (most recent call last):\n",
      "  File \"C:\\Users\\shurk\\Anaconda3\\envs\\pytrch\\lib\\site-packages\\IPython\\core\\ultratb.py\", line 1169, in get_records\n",
      "    return _fixed_getinnerframes(etb, number_of_lines_of_context, tb_offset)\n",
      "  File \"C:\\Users\\shurk\\Anaconda3\\envs\\pytrch\\lib\\site-packages\\IPython\\core\\ultratb.py\", line 316, in wrapped\n",
      "    return f(*args, **kwargs)\n",
      "  File \"C:\\Users\\shurk\\Anaconda3\\envs\\pytrch\\lib\\site-packages\\IPython\\core\\ultratb.py\", line 350, in _fixed_getinnerframes\n",
      "    records = fix_frame_records_filenames(inspect.getinnerframes(etb, context))\n",
      "  File \"C:\\Users\\shurk\\Anaconda3\\envs\\pytrch\\lib\\inspect.py\", line 1490, in getinnerframes\n",
      "    frameinfo = (tb.tb_frame,) + getframeinfo(tb, context)\n",
      "  File \"C:\\Users\\shurk\\Anaconda3\\envs\\pytrch\\lib\\inspect.py\", line 1448, in getframeinfo\n",
      "    filename = getsourcefile(frame) or getfile(frame)\n",
      "  File \"C:\\Users\\shurk\\Anaconda3\\envs\\pytrch\\lib\\inspect.py\", line 696, in getsourcefile\n",
      "    if getattr(getmodule(object, filename), '__loader__', None) is not None:\n",
      "  File \"C:\\Users\\shurk\\Anaconda3\\envs\\pytrch\\lib\\inspect.py\", line 733, in getmodule\n",
      "    if ismodule(module) and hasattr(module, '__file__'):\n",
      "  File \"C:\\Users\\shurk\\Anaconda3\\envs\\pytrch\\lib\\site-packages\\tensorflow\\__init__.py\", line 50, in __getattr__\n",
      "    module = self._load()\n",
      "  File \"C:\\Users\\shurk\\Anaconda3\\envs\\pytrch\\lib\\site-packages\\tensorflow\\__init__.py\", line 44, in _load\n",
      "    module = _importlib.import_module(self.__name__)\n",
      "  File \"C:\\Users\\shurk\\Anaconda3\\envs\\pytrch\\lib\\importlib\\__init__.py\", line 126, in import_module\n",
      "    return _bootstrap._gcd_import(name[level:], package, level)\n",
      "  File \"<frozen importlib._bootstrap>\", line 994, in _gcd_import\n",
      "  File \"<frozen importlib._bootstrap>\", line 971, in _find_and_load\n",
      "  File \"<frozen importlib._bootstrap>\", line 953, in _find_and_load_unlocked\n",
      "ModuleNotFoundError: No module named 'tensorflow_core.estimator'\n",
      "Traceback (most recent call last):\n",
      "  File \"C:\\Users\\shurk\\Anaconda3\\envs\\pytrch\\lib\\site-packages\\IPython\\core\\interactiveshell.py\", line 3343, in run_code\n",
      "    exec(code_obj, self.user_global_ns, self.user_ns)\n",
      "  File \"<ipython-input-689-012fe31302e1>\", line 4, in <module>\n",
      "    print('Test Root Mean Squared Error:',np.sqrt(mean_squared_error(Y_test[0], test_predict[0,0])))\n",
      "  File \"C:\\Users\\shurk\\Anaconda3\\envs\\pytrch\\lib\\site-packages\\sklearn\\utils\\validation.py\", line 63, in inner_f\n",
      "    return f(*args, **kwargs)\n",
      "  File \"C:\\Users\\shurk\\Anaconda3\\envs\\pytrch\\lib\\site-packages\\sklearn\\metrics\\_regression.py\", line 336, in mean_squared_error\n",
      "    y_true, y_pred, multioutput)\n",
      "  File \"C:\\Users\\shurk\\Anaconda3\\envs\\pytrch\\lib\\site-packages\\sklearn\\metrics\\_regression.py\", line 88, in _check_reg_targets\n",
      "    check_consistent_length(y_true, y_pred)\n",
      "  File \"C:\\Users\\shurk\\Anaconda3\\envs\\pytrch\\lib\\site-packages\\sklearn\\utils\\validation.py\", line 316, in check_consistent_length\n",
      "    lengths = [_num_samples(X) for X in arrays if X is not None]\n",
      "  File \"C:\\Users\\shurk\\Anaconda3\\envs\\pytrch\\lib\\site-packages\\sklearn\\utils\\validation.py\", line 316, in <listcomp>\n",
      "    lengths = [_num_samples(X) for X in arrays if X is not None]\n",
      "  File \"C:\\Users\\shurk\\Anaconda3\\envs\\pytrch\\lib\\site-packages\\sklearn\\utils\\validation.py\", line 260, in _num_samples\n",
      "    \" a valid collection.\" % x)\n",
      "TypeError: Singleton array 13854.3125 cannot be considered a valid collection.\n",
      "\n",
      "During handling of the above exception, another exception occurred:\n",
      "\n",
      "Traceback (most recent call last):\n",
      "  File \"C:\\Users\\shurk\\Anaconda3\\envs\\pytrch\\lib\\site-packages\\IPython\\core\\interactiveshell.py\", line 2044, in showtraceback\n",
      "    stb = value._render_traceback_()\n",
      "AttributeError: 'TypeError' object has no attribute '_render_traceback_'\n",
      "\n",
      "During handling of the above exception, another exception occurred:\n",
      "\n",
      "Traceback (most recent call last):\n",
      "  File \"C:\\Users\\shurk\\Anaconda3\\envs\\pytrch\\lib\\site-packages\\IPython\\core\\interactiveshell.py\", line 3263, in run_ast_nodes\n",
      "    if (await self.run_code(code, result,  async_=asy)):\n",
      "  File \"C:\\Users\\shurk\\Anaconda3\\envs\\pytrch\\lib\\site-packages\\IPython\\core\\interactiveshell.py\", line 3360, in run_code\n",
      "    self.showtraceback(running_compiled_code=True)\n",
      "  File \"C:\\Users\\shurk\\Anaconda3\\envs\\pytrch\\lib\\site-packages\\IPython\\core\\interactiveshell.py\", line 2047, in showtraceback\n",
      "    value, tb, tb_offset=tb_offset)\n",
      "  File \"C:\\Users\\shurk\\Anaconda3\\envs\\pytrch\\lib\\site-packages\\IPython\\core\\ultratb.py\", line 1436, in structured_traceback\n",
      "    self, etype, value, tb, tb_offset, number_of_lines_of_context)\n",
      "  File \"C:\\Users\\shurk\\Anaconda3\\envs\\pytrch\\lib\\site-packages\\IPython\\core\\ultratb.py\", line 1336, in structured_traceback\n",
      "    self, etype, value, tb, tb_offset, number_of_lines_of_context\n",
      "  File \"C:\\Users\\shurk\\Anaconda3\\envs\\pytrch\\lib\\site-packages\\IPython\\core\\ultratb.py\", line 1193, in structured_traceback\n",
      "    tb_offset)\n",
      "  File \"C:\\Users\\shurk\\Anaconda3\\envs\\pytrch\\lib\\site-packages\\IPython\\core\\ultratb.py\", line 1150, in format_exception_as_a_whole\n",
      "    last_unique, recursion_repeat = find_recursion(orig_etype, evalue, records)\n",
      "  File \"C:\\Users\\shurk\\Anaconda3\\envs\\pytrch\\lib\\site-packages\\IPython\\core\\ultratb.py\", line 451, in find_recursion\n",
      "    return len(records), 0\n",
      "TypeError: object of type 'NoneType' has no len()\n",
      "\n",
      "During handling of the above exception, another exception occurred:\n",
      "\n",
      "Traceback (most recent call last):\n",
      "  File \"C:\\Users\\shurk\\Anaconda3\\envs\\pytrch\\lib\\site-packages\\IPython\\core\\interactiveshell.py\", line 2044, in showtraceback\n",
      "    stb = value._render_traceback_()\n",
      "AttributeError: 'TypeError' object has no attribute '_render_traceback_'\n",
      "\n",
      "During handling of the above exception, another exception occurred:\n",
      "\n",
      "Traceback (most recent call last):\n",
      "  File \"C:\\Users\\shurk\\Anaconda3\\envs\\pytrch\\lib\\site-packages\\IPython\\core\\interactiveshell.py\", line 2895, in _run_cell\n",
      "    return runner(coro)\n",
      "  File \"C:\\Users\\shurk\\Anaconda3\\envs\\pytrch\\lib\\site-packages\\IPython\\core\\async_helpers.py\", line 68, in _pseudo_sync_runner\n",
      "    coro.send(None)\n",
      "  File \"C:\\Users\\shurk\\Anaconda3\\envs\\pytrch\\lib\\site-packages\\IPython\\core\\interactiveshell.py\", line 3072, in run_cell_async\n",
      "    interactivity=interactivity, compiler=compiler, result=result)\n",
      "  File \"C:\\Users\\shurk\\Anaconda3\\envs\\pytrch\\lib\\site-packages\\IPython\\core\\interactiveshell.py\", line 3282, in run_ast_nodes\n",
      "    self.showtraceback()\n",
      "  File \"C:\\Users\\shurk\\Anaconda3\\envs\\pytrch\\lib\\site-packages\\IPython\\core\\interactiveshell.py\", line 2047, in showtraceback\n",
      "    value, tb, tb_offset=tb_offset)\n",
      "  File \"C:\\Users\\shurk\\Anaconda3\\envs\\pytrch\\lib\\site-packages\\IPython\\core\\ultratb.py\", line 1436, in structured_traceback\n",
      "    self, etype, value, tb, tb_offset, number_of_lines_of_context)\n",
      "  File \"C:\\Users\\shurk\\Anaconda3\\envs\\pytrch\\lib\\site-packages\\IPython\\core\\ultratb.py\", line 1336, in structured_traceback\n",
      "    self, etype, value, tb, tb_offset, number_of_lines_of_context\n",
      "  File \"C:\\Users\\shurk\\Anaconda3\\envs\\pytrch\\lib\\site-packages\\IPython\\core\\ultratb.py\", line 1211, in structured_traceback\n",
      "    chained_exceptions_tb_offset)\n",
      "  File \"C:\\Users\\shurk\\Anaconda3\\envs\\pytrch\\lib\\site-packages\\IPython\\core\\ultratb.py\", line 1150, in format_exception_as_a_whole\n",
      "    last_unique, recursion_repeat = find_recursion(orig_etype, evalue, records)\n",
      "  File \"C:\\Users\\shurk\\Anaconda3\\envs\\pytrch\\lib\\site-packages\\IPython\\core\\ultratb.py\", line 451, in find_recursion\n",
      "    return len(records), 0\n",
      "TypeError: object of type 'NoneType' has no len()\n",
      "\n",
      "During handling of the above exception, another exception occurred:\n",
      "\n",
      "Traceback (most recent call last):\n",
      "  File \"C:\\Users\\shurk\\Anaconda3\\envs\\pytrch\\lib\\site-packages\\IPython\\core\\interactiveshell.py\", line 2044, in showtraceback\n",
      "    stb = value._render_traceback_()\n",
      "AttributeError: 'TypeError' object has no attribute '_render_traceback_'\n",
      "\n",
      "During handling of the above exception, another exception occurred:\n",
      "\n",
      "Traceback (most recent call last):\n",
      "  File \"C:\\Users\\shurk\\Anaconda3\\envs\\pytrch\\lib\\site-packages\\IPython\\core\\ultratb.py\", line 1169, in get_records\n",
      "    return _fixed_getinnerframes(etb, number_of_lines_of_context, tb_offset)\n",
      "  File \"C:\\Users\\shurk\\Anaconda3\\envs\\pytrch\\lib\\site-packages\\IPython\\core\\ultratb.py\", line 316, in wrapped\n",
      "    return f(*args, **kwargs)\n",
      "  File \"C:\\Users\\shurk\\Anaconda3\\envs\\pytrch\\lib\\site-packages\\IPython\\core\\ultratb.py\", line 350, in _fixed_getinnerframes\n",
      "    records = fix_frame_records_filenames(inspect.getinnerframes(etb, context))\n",
      "  File \"C:\\Users\\shurk\\Anaconda3\\envs\\pytrch\\lib\\inspect.py\", line 1490, in getinnerframes\n",
      "    frameinfo = (tb.tb_frame,) + getframeinfo(tb, context)\n",
      "  File \"C:\\Users\\shurk\\Anaconda3\\envs\\pytrch\\lib\\inspect.py\", line 1448, in getframeinfo\n",
      "    filename = getsourcefile(frame) or getfile(frame)\n",
      "  File \"C:\\Users\\shurk\\Anaconda3\\envs\\pytrch\\lib\\inspect.py\", line 696, in getsourcefile\n",
      "    if getattr(getmodule(object, filename), '__loader__', None) is not None:\n",
      "  File \"C:\\Users\\shurk\\Anaconda3\\envs\\pytrch\\lib\\inspect.py\", line 733, in getmodule\n",
      "    if ismodule(module) and hasattr(module, '__file__'):\n",
      "  File \"C:\\Users\\shurk\\Anaconda3\\envs\\pytrch\\lib\\site-packages\\tensorflow\\__init__.py\", line 50, in __getattr__\n",
      "    module = self._load()\n",
      "  File \"C:\\Users\\shurk\\Anaconda3\\envs\\pytrch\\lib\\site-packages\\tensorflow\\__init__.py\", line 44, in _load\n",
      "    module = _importlib.import_module(self.__name__)\n",
      "  File \"C:\\Users\\shurk\\Anaconda3\\envs\\pytrch\\lib\\importlib\\__init__.py\", line 126, in import_module\n",
      "    return _bootstrap._gcd_import(name[level:], package, level)\n",
      "  File \"<frozen importlib._bootstrap>\", line 994, in _gcd_import\n",
      "  File \"<frozen importlib._bootstrap>\", line 971, in _find_and_load\n",
      "  File \"<frozen importlib._bootstrap>\", line 953, in _find_and_load_unlocked\n",
      "ModuleNotFoundError: No module named 'tensorflow_core.estimator'\n"
     ]
    }
   ],
   "source": [
    "print('Train Mean Absolute Error:', mean_absolute_error(Y_train[:,:], train_predict[:,:]))\n",
    "print('Train Root Mean Squared Error:',np.sqrt(mean_squared_error(Y_train[:,:], train_predict[:,:]))) #(predicted_values[:,-1,:],...)\n",
    "print('Test Mean Absolute Error:', mean_absolute_error(Y_test[:,:], test_predict[:,:]))\n",
    "print('Test Root Mean Squared Error:',np.sqrt(mean_squared_error(Y_test[0], test_predict[0,0])))"
   ]
  },
  {
   "cell_type": "code",
   "execution_count": 689,
   "metadata": {},
   "outputs": [
    {
     "name": "stdout",
     "output_type": "stream",
     "text": [
      "(14, 1)\n",
      "(14, 1)\n",
      "[13854.3125 11905.946 ]\n",
      "(2, 1)\n",
      "[12133.]\n",
      "ERROR! Session/line number was not unique in database. History logging moved to new session 379\n"
     ]
    }
   ],
   "source": [
    "print (train_predict.shape) # (540, 4196)\n",
    "print (Y_train.shape) # (136, 4196)\n",
    "print (test_predict[:,0]) # (540,)\n",
    "print (Y_test.shape)\n",
    "print (Y_test[0])"
   ]
  },
  {
   "cell_type": "markdown",
   "metadata": {},
   "source": [
    "## plot model loss"
   ]
  },
  {
   "cell_type": "code",
   "execution_count": 690,
   "metadata": {},
   "outputs": [
    {
     "data": {
      "image/png": "[encoded data removed]",
      "text/plain": [
       "<Figure size 576x288 with 1 Axes>"
      ]
     },
     "metadata": {
      "needs_background": "light"
     },
     "output_type": "display_data"
    }
   ],
   "source": [
    "plt.figure(figsize=(8,4))\n",
    "plt.plot(history.history['loss'], label='Train Loss')\n",
    "plt.plot(history.history['val_loss'], label='Test Loss')\n",
    "plt.title('model loss')\n",
    "plt.ylabel('loss')\n",
    "plt.xlabel('epochs')\n",
    "plt.legend(loc='upper right')\n",
    "plt.show();"
   ]
  },
  {
   "cell_type": "code",
   "execution_count": 709,
   "metadata": {},
   "outputs": [
    {
     "name": "stdout",
     "output_type": "stream",
     "text": [
      "[13854.3125 11905.946 ]\n",
      "[12133. 10929.]\n"
     ]
    }
   ],
   "source": [
    "print(test_predict[:,0][:])\n",
    "print(Y_test[:,0][:])"
   ]
  },
  {
   "cell_type": "code",
   "execution_count": 710,
   "metadata": {},
   "outputs": [
    {
     "data": {
      "image/png": "[encoded data removed]",
      "text/plain": [
       "<Figure size 576x288 with 1 Axes>"
      ]
     },
     "metadata": {
      "needs_background": "light"
     },
     "output_type": "display_data"
    }
   ],
   "source": [
    "aa=[x for x in range(2)]\n",
    "plt.figure(figsize=(8,4))\n",
    "plt.plot(aa, Y_test[:,0][:], marker='.', label=\"actual\")\n",
    "plt.plot(aa, test_predict[:,0][:], 'r', label=\"prediction\")\n",
    "# plt.tick_params(left=False, labelleft=True) #remove ticks\n",
    "plt.tight_layout()\n",
    "sns.despine(top=True)\n",
    "plt.subplots_adjust(left=0.07)\n",
    "plt.ylabel('Global_active_power', size=15)\n",
    "plt.xlabel('Time step', size=15)\n",
    "plt.legend(fontsize=15)\n",
    "plt.show();"
   ]
  },
  {
   "cell_type": "code",
   "execution_count": 648,
   "metadata": {},
   "outputs": [
    {
     "data": {
      "text/plain": [
       "[0]"
      ]
     },
     "execution_count": 648,
     "metadata": {},
     "output_type": "execute_result"
    },
    {
     "name": "stdout",
     "output_type": "stream",
     "text": [
      "ERROR! Session/line number was not unique in database. History logging moved to new session 369\n"
     ]
    }
   ],
   "source": [
    "aa"
   ]
  },
  {
   "cell_type": "code",
   "execution_count": null,
   "metadata": {},
   "outputs": [
    {
     "name": "stderr",
     "output_type": "stream",
     "text": [
      "ERROR:root:Internal Python error in the inspect module.\n",
      "Below is the traceback from this internal error.\n",
      "\n",
      "ERROR:root:Internal Python error in the inspect module.\n",
      "Below is the traceback from this internal error.\n",
      "\n",
      "ERROR:root:Internal Python error in the inspect module.\n",
      "Below is the traceback from this internal error.\n",
      "\n"
     ]
    },
    {
     "name": "stdout",
     "output_type": "stream",
     "text": [
      "Traceback (most recent call last):\n",
      "  File \"C:\\Users\\shurk\\Anaconda3\\envs\\pytrch\\lib\\site-packages\\IPython\\core\\interactiveshell.py\", line 3343, in run_code\n",
      "    exec(code_obj, self.user_global_ns, self.user_ns)\n",
      "  File \"<ipython-input-112-21b86a0299d3>\", line 2, in <module>\n",
      "    train_predict = scaler.inverse_transform(p_train)\n",
      "  File \"C:\\Users\\shurk\\Anaconda3\\envs\\pytrch\\lib\\site-packages\\sklearn\\preprocessing\\_data.py\", line 459, in inverse_transform\n",
      "    force_all_finite=\"allow-nan\")\n",
      "  File \"C:\\Users\\shurk\\Anaconda3\\envs\\pytrch\\lib\\site-packages\\sklearn\\utils\\validation.py\", line 63, in inner_f\n",
      "    return f(*args, **kwargs)\n",
      "  File \"C:\\Users\\shurk\\Anaconda3\\envs\\pytrch\\lib\\site-packages\\sklearn\\utils\\validation.py\", line 673, in check_array\n",
      "    array = np.asarray(array, order=order, dtype=dtype)\n",
      "  File \"C:\\Users\\shurk\\Anaconda3\\envs\\pytrch\\lib\\site-packages\\numpy\\core\\_asarray.py\", line 83, in asarray\n",
      "    return array(a, dtype, copy=False, order=order)\n",
      "TypeError: float() argument must be a string or a number, not 'RepeatDataset'\n",
      "\n",
      "During handling of the above exception, another exception occurred:\n",
      "\n",
      "Traceback (most recent call last):\n",
      "  File \"C:\\Users\\shurk\\Anaconda3\\envs\\pytrch\\lib\\site-packages\\IPython\\core\\interactiveshell.py\", line 2044, in showtraceback\n",
      "    stb = value._render_traceback_()\n",
      "AttributeError: 'TypeError' object has no attribute '_render_traceback_'\n",
      "\n",
      "During handling of the above exception, another exception occurred:\n",
      "\n",
      "Traceback (most recent call last):\n",
      "  File \"C:\\Users\\shurk\\Anaconda3\\envs\\pytrch\\lib\\site-packages\\IPython\\core\\ultratb.py\", line 1169, in get_records\n",
      "    return _fixed_getinnerframes(etb, number_of_lines_of_context, tb_offset)\n",
      "  File \"C:\\Users\\shurk\\Anaconda3\\envs\\pytrch\\lib\\site-packages\\IPython\\core\\ultratb.py\", line 316, in wrapped\n",
      "    return f(*args, **kwargs)\n",
      "  File \"C:\\Users\\shurk\\Anaconda3\\envs\\pytrch\\lib\\site-packages\\IPython\\core\\ultratb.py\", line 350, in _fixed_getinnerframes\n",
      "    records = fix_frame_records_filenames(inspect.getinnerframes(etb, context))\n",
      "  File \"C:\\Users\\shurk\\Anaconda3\\envs\\pytrch\\lib\\inspect.py\", line 1490, in getinnerframes\n",
      "    frameinfo = (tb.tb_frame,) + getframeinfo(tb, context)\n",
      "  File \"C:\\Users\\shurk\\Anaconda3\\envs\\pytrch\\lib\\inspect.py\", line 1448, in getframeinfo\n",
      "    filename = getsourcefile(frame) or getfile(frame)\n",
      "  File \"C:\\Users\\shurk\\Anaconda3\\envs\\pytrch\\lib\\inspect.py\", line 696, in getsourcefile\n",
      "    if getattr(getmodule(object, filename), '__loader__', None) is not None:\n",
      "  File \"C:\\Users\\shurk\\Anaconda3\\envs\\pytrch\\lib\\inspect.py\", line 733, in getmodule\n",
      "    if ismodule(module) and hasattr(module, '__file__'):\n",
      "  File \"C:\\Users\\shurk\\Anaconda3\\envs\\pytrch\\lib\\site-packages\\tensorflow\\__init__.py\", line 50, in __getattr__\n",
      "    module = self._load()\n",
      "  File \"C:\\Users\\shurk\\Anaconda3\\envs\\pytrch\\lib\\site-packages\\tensorflow\\__init__.py\", line 44, in _load\n",
      "    module = _importlib.import_module(self.__name__)\n",
      "  File \"C:\\Users\\shurk\\Anaconda3\\envs\\pytrch\\lib\\importlib\\__init__.py\", line 126, in import_module\n",
      "    return _bootstrap._gcd_import(name[level:], package, level)\n",
      "  File \"<frozen importlib._bootstrap>\", line 994, in _gcd_import\n",
      "  File \"<frozen importlib._bootstrap>\", line 971, in _find_and_load\n",
      "  File \"<frozen importlib._bootstrap>\", line 953, in _find_and_load_unlocked\n",
      "ModuleNotFoundError: No module named 'tensorflow_core.estimator'\n",
      "Traceback (most recent call last):\n",
      "  File \"C:\\Users\\shurk\\Anaconda3\\envs\\pytrch\\lib\\site-packages\\IPython\\core\\interactiveshell.py\", line 3343, in run_code\n",
      "    exec(code_obj, self.user_global_ns, self.user_ns)\n",
      "  File \"<ipython-input-112-21b86a0299d3>\", line 2, in <module>\n",
      "    train_predict = scaler.inverse_transform(p_train)\n",
      "  File \"C:\\Users\\shurk\\Anaconda3\\envs\\pytrch\\lib\\site-packages\\sklearn\\preprocessing\\_data.py\", line 459, in inverse_transform\n",
      "    force_all_finite=\"allow-nan\")\n",
      "  File \"C:\\Users\\shurk\\Anaconda3\\envs\\pytrch\\lib\\site-packages\\sklearn\\utils\\validation.py\", line 63, in inner_f\n",
      "    return f(*args, **kwargs)\n",
      "  File \"C:\\Users\\shurk\\Anaconda3\\envs\\pytrch\\lib\\site-packages\\sklearn\\utils\\validation.py\", line 673, in check_array\n",
      "    array = np.asarray(array, order=order, dtype=dtype)\n",
      "  File \"C:\\Users\\shurk\\Anaconda3\\envs\\pytrch\\lib\\site-packages\\numpy\\core\\_asarray.py\", line 83, in asarray\n",
      "    return array(a, dtype, copy=False, order=order)\n",
      "TypeError: float() argument must be a string or a number, not 'RepeatDataset'\n",
      "\n",
      "During handling of the above exception, another exception occurred:\n",
      "\n",
      "Traceback (most recent call last):\n",
      "  File \"C:\\Users\\shurk\\Anaconda3\\envs\\pytrch\\lib\\site-packages\\IPython\\core\\interactiveshell.py\", line 2044, in showtraceback\n",
      "    stb = value._render_traceback_()\n",
      "AttributeError: 'TypeError' object has no attribute '_render_traceback_'\n",
      "\n",
      "During handling of the above exception, another exception occurred:\n",
      "\n",
      "Traceback (most recent call last):\n",
      "  File \"C:\\Users\\shurk\\Anaconda3\\envs\\pytrch\\lib\\site-packages\\IPython\\core\\interactiveshell.py\", line 3263, in run_ast_nodes\n",
      "    if (await self.run_code(code, result,  async_=asy)):\n",
      "  File \"C:\\Users\\shurk\\Anaconda3\\envs\\pytrch\\lib\\site-packages\\IPython\\core\\interactiveshell.py\", line 3360, in run_code\n",
      "    self.showtraceback(running_compiled_code=True)\n",
      "  File \"C:\\Users\\shurk\\Anaconda3\\envs\\pytrch\\lib\\site-packages\\IPython\\core\\interactiveshell.py\", line 2047, in showtraceback\n",
      "    value, tb, tb_offset=tb_offset)\n",
      "  File \"C:\\Users\\shurk\\Anaconda3\\envs\\pytrch\\lib\\site-packages\\IPython\\core\\ultratb.py\", line 1436, in structured_traceback\n",
      "    self, etype, value, tb, tb_offset, number_of_lines_of_context)\n",
      "  File \"C:\\Users\\shurk\\Anaconda3\\envs\\pytrch\\lib\\site-packages\\IPython\\core\\ultratb.py\", line 1336, in structured_traceback\n",
      "    self, etype, value, tb, tb_offset, number_of_lines_of_context\n",
      "  File \"C:\\Users\\shurk\\Anaconda3\\envs\\pytrch\\lib\\site-packages\\IPython\\core\\ultratb.py\", line 1193, in structured_traceback\n",
      "    tb_offset)\n",
      "  File \"C:\\Users\\shurk\\Anaconda3\\envs\\pytrch\\lib\\site-packages\\IPython\\core\\ultratb.py\", line 1150, in format_exception_as_a_whole\n",
      "    last_unique, recursion_repeat = find_recursion(orig_etype, evalue, records)\n",
      "  File \"C:\\Users\\shurk\\Anaconda3\\envs\\pytrch\\lib\\site-packages\\IPython\\core\\ultratb.py\", line 451, in find_recursion\n",
      "    return len(records), 0\n",
      "TypeError: object of type 'NoneType' has no len()\n",
      "\n",
      "During handling of the above exception, another exception occurred:\n",
      "\n",
      "Traceback (most recent call last):\n",
      "  File \"C:\\Users\\shurk\\Anaconda3\\envs\\pytrch\\lib\\site-packages\\IPython\\core\\interactiveshell.py\", line 2044, in showtraceback\n",
      "    stb = value._render_traceback_()\n",
      "AttributeError: 'TypeError' object has no attribute '_render_traceback_'\n",
      "\n",
      "During handling of the above exception, another exception occurred:\n",
      "\n",
      "Traceback (most recent call last):\n",
      "  File \"C:\\Users\\shurk\\Anaconda3\\envs\\pytrch\\lib\\site-packages\\IPython\\core\\ultratb.py\", line 1169, in get_records\n",
      "    return _fixed_getinnerframes(etb, number_of_lines_of_context, tb_offset)\n",
      "  File \"C:\\Users\\shurk\\Anaconda3\\envs\\pytrch\\lib\\site-packages\\IPython\\core\\ultratb.py\", line 316, in wrapped\n",
      "    return f(*args, **kwargs)\n",
      "  File \"C:\\Users\\shurk\\Anaconda3\\envs\\pytrch\\lib\\site-packages\\IPython\\core\\ultratb.py\", line 350, in _fixed_getinnerframes\n",
      "    records = fix_frame_records_filenames(inspect.getinnerframes(etb, context))\n",
      "  File \"C:\\Users\\shurk\\Anaconda3\\envs\\pytrch\\lib\\inspect.py\", line 1490, in getinnerframes\n",
      "    frameinfo = (tb.tb_frame,) + getframeinfo(tb, context)\n",
      "  File \"C:\\Users\\shurk\\Anaconda3\\envs\\pytrch\\lib\\inspect.py\", line 1448, in getframeinfo\n",
      "    filename = getsourcefile(frame) or getfile(frame)\n",
      "  File \"C:\\Users\\shurk\\Anaconda3\\envs\\pytrch\\lib\\inspect.py\", line 696, in getsourcefile\n",
      "    if getattr(getmodule(object, filename), '__loader__', None) is not None:\n",
      "  File \"C:\\Users\\shurk\\Anaconda3\\envs\\pytrch\\lib\\inspect.py\", line 733, in getmodule\n",
      "    if ismodule(module) and hasattr(module, '__file__'):\n",
      "  File \"C:\\Users\\shurk\\Anaconda3\\envs\\pytrch\\lib\\site-packages\\tensorflow\\__init__.py\", line 50, in __getattr__\n",
      "    module = self._load()\n",
      "  File \"C:\\Users\\shurk\\Anaconda3\\envs\\pytrch\\lib\\site-packages\\tensorflow\\__init__.py\", line 44, in _load\n",
      "    module = _importlib.import_module(self.__name__)\n",
      "  File \"C:\\Users\\shurk\\Anaconda3\\envs\\pytrch\\lib\\importlib\\__init__.py\", line 126, in import_module\n",
      "    return _bootstrap._gcd_import(name[level:], package, level)\n",
      "  File \"<frozen importlib._bootstrap>\", line 994, in _gcd_import\n",
      "  File \"<frozen importlib._bootstrap>\", line 971, in _find_and_load\n",
      "  File \"<frozen importlib._bootstrap>\", line 953, in _find_and_load_unlocked\n",
      "ModuleNotFoundError: No module named 'tensorflow_core.estimator'\n",
      "Traceback (most recent call last):\n",
      "  File \"C:\\Users\\shurk\\Anaconda3\\envs\\pytrch\\lib\\site-packages\\IPython\\core\\interactiveshell.py\", line 3343, in run_code\n",
      "    exec(code_obj, self.user_global_ns, self.user_ns)\n",
      "  File \"<ipython-input-112-21b86a0299d3>\", line 2, in <module>\n",
      "    train_predict = scaler.inverse_transform(p_train)\n",
      "  File \"C:\\Users\\shurk\\Anaconda3\\envs\\pytrch\\lib\\site-packages\\sklearn\\preprocessing\\_data.py\", line 459, in inverse_transform\n",
      "    force_all_finite=\"allow-nan\")\n",
      "  File \"C:\\Users\\shurk\\Anaconda3\\envs\\pytrch\\lib\\site-packages\\sklearn\\utils\\validation.py\", line 63, in inner_f\n",
      "    return f(*args, **kwargs)\n",
      "  File \"C:\\Users\\shurk\\Anaconda3\\envs\\pytrch\\lib\\site-packages\\sklearn\\utils\\validation.py\", line 673, in check_array\n",
      "    array = np.asarray(array, order=order, dtype=dtype)\n",
      "  File \"C:\\Users\\shurk\\Anaconda3\\envs\\pytrch\\lib\\site-packages\\numpy\\core\\_asarray.py\", line 83, in asarray\n",
      "    return array(a, dtype, copy=False, order=order)\n",
      "TypeError: float() argument must be a string or a number, not 'RepeatDataset'\n",
      "\n",
      "During handling of the above exception, another exception occurred:\n",
      "\n",
      "Traceback (most recent call last):\n",
      "  File \"C:\\Users\\shurk\\Anaconda3\\envs\\pytrch\\lib\\site-packages\\IPython\\core\\interactiveshell.py\", line 2044, in showtraceback\n",
      "    stb = value._render_traceback_()\n",
      "AttributeError: 'TypeError' object has no attribute '_render_traceback_'\n",
      "\n",
      "During handling of the above exception, another exception occurred:\n",
      "\n",
      "Traceback (most recent call last):\n",
      "  File \"C:\\Users\\shurk\\Anaconda3\\envs\\pytrch\\lib\\site-packages\\IPython\\core\\interactiveshell.py\", line 3263, in run_ast_nodes\n",
      "    if (await self.run_code(code, result,  async_=asy)):\n",
      "  File \"C:\\Users\\shurk\\Anaconda3\\envs\\pytrch\\lib\\site-packages\\IPython\\core\\interactiveshell.py\", line 3360, in run_code\n",
      "    self.showtraceback(running_compiled_code=True)\n",
      "  File \"C:\\Users\\shurk\\Anaconda3\\envs\\pytrch\\lib\\site-packages\\IPython\\core\\interactiveshell.py\", line 2047, in showtraceback\n",
      "    value, tb, tb_offset=tb_offset)\n",
      "  File \"C:\\Users\\shurk\\Anaconda3\\envs\\pytrch\\lib\\site-packages\\IPython\\core\\ultratb.py\", line 1436, in structured_traceback\n",
      "    self, etype, value, tb, tb_offset, number_of_lines_of_context)\n",
      "  File \"C:\\Users\\shurk\\Anaconda3\\envs\\pytrch\\lib\\site-packages\\IPython\\core\\ultratb.py\", line 1336, in structured_traceback\n",
      "    self, etype, value, tb, tb_offset, number_of_lines_of_context\n",
      "  File \"C:\\Users\\shurk\\Anaconda3\\envs\\pytrch\\lib\\site-packages\\IPython\\core\\ultratb.py\", line 1193, in structured_traceback\n",
      "    tb_offset)\n",
      "  File \"C:\\Users\\shurk\\Anaconda3\\envs\\pytrch\\lib\\site-packages\\IPython\\core\\ultratb.py\", line 1150, in format_exception_as_a_whole\n",
      "    last_unique, recursion_repeat = find_recursion(orig_etype, evalue, records)\n",
      "  File \"C:\\Users\\shurk\\Anaconda3\\envs\\pytrch\\lib\\site-packages\\IPython\\core\\ultratb.py\", line 451, in find_recursion\n",
      "    return len(records), 0\n",
      "TypeError: object of type 'NoneType' has no len()\n",
      "\n",
      "During handling of the above exception, another exception occurred:\n",
      "\n",
      "Traceback (most recent call last):\n",
      "  File \"C:\\Users\\shurk\\Anaconda3\\envs\\pytrch\\lib\\site-packages\\IPython\\core\\interactiveshell.py\", line 2044, in showtraceback\n",
      "    stb = value._render_traceback_()\n",
      "AttributeError: 'TypeError' object has no attribute '_render_traceback_'\n",
      "\n",
      "During handling of the above exception, another exception occurred:\n",
      "\n",
      "Traceback (most recent call last):\n",
      "  File \"C:\\Users\\shurk\\Anaconda3\\envs\\pytrch\\lib\\site-packages\\IPython\\core\\interactiveshell.py\", line 2895, in _run_cell\n",
      "    return runner(coro)\n",
      "  File \"C:\\Users\\shurk\\Anaconda3\\envs\\pytrch\\lib\\site-packages\\IPython\\core\\async_helpers.py\", line 68, in _pseudo_sync_runner\n",
      "    coro.send(None)\n",
      "  File \"C:\\Users\\shurk\\Anaconda3\\envs\\pytrch\\lib\\site-packages\\IPython\\core\\interactiveshell.py\", line 3072, in run_cell_async\n",
      "    interactivity=interactivity, compiler=compiler, result=result)\n",
      "  File \"C:\\Users\\shurk\\Anaconda3\\envs\\pytrch\\lib\\site-packages\\IPython\\core\\interactiveshell.py\", line 3282, in run_ast_nodes\n",
      "    self.showtraceback()\n",
      "  File \"C:\\Users\\shurk\\Anaconda3\\envs\\pytrch\\lib\\site-packages\\IPython\\core\\interactiveshell.py\", line 2047, in showtraceback\n",
      "    value, tb, tb_offset=tb_offset)\n",
      "  File \"C:\\Users\\shurk\\Anaconda3\\envs\\pytrch\\lib\\site-packages\\IPython\\core\\ultratb.py\", line 1436, in structured_traceback\n",
      "    self, etype, value, tb, tb_offset, number_of_lines_of_context)\n",
      "  File \"C:\\Users\\shurk\\Anaconda3\\envs\\pytrch\\lib\\site-packages\\IPython\\core\\ultratb.py\", line 1336, in structured_traceback\n",
      "    self, etype, value, tb, tb_offset, number_of_lines_of_context\n",
      "  File \"C:\\Users\\shurk\\Anaconda3\\envs\\pytrch\\lib\\site-packages\\IPython\\core\\ultratb.py\", line 1211, in structured_traceback\n",
      "    chained_exceptions_tb_offset)\n",
      "  File \"C:\\Users\\shurk\\Anaconda3\\envs\\pytrch\\lib\\site-packages\\IPython\\core\\ultratb.py\", line 1150, in format_exception_as_a_whole\n",
      "    last_unique, recursion_repeat = find_recursion(orig_etype, evalue, records)\n",
      "  File \"C:\\Users\\shurk\\Anaconda3\\envs\\pytrch\\lib\\site-packages\\IPython\\core\\ultratb.py\", line 451, in find_recursion\n",
      "    return len(records), 0\n",
      "TypeError: object of type 'NoneType' has no len()\n",
      "\n",
      "During handling of the above exception, another exception occurred:\n",
      "\n",
      "Traceback (most recent call last):\n",
      "  File \"C:\\Users\\shurk\\Anaconda3\\envs\\pytrch\\lib\\site-packages\\IPython\\core\\interactiveshell.py\", line 2044, in showtraceback\n",
      "    stb = value._render_traceback_()\n",
      "AttributeError: 'TypeError' object has no attribute '_render_traceback_'\n",
      "\n",
      "During handling of the above exception, another exception occurred:\n",
      "\n",
      "Traceback (most recent call last):\n",
      "  File \"C:\\Users\\shurk\\Anaconda3\\envs\\pytrch\\lib\\site-packages\\IPython\\core\\ultratb.py\", line 1169, in get_records\n",
      "    return _fixed_getinnerframes(etb, number_of_lines_of_context, tb_offset)\n",
      "  File \"C:\\Users\\shurk\\Anaconda3\\envs\\pytrch\\lib\\site-packages\\IPython\\core\\ultratb.py\", line 316, in wrapped\n",
      "    return f(*args, **kwargs)\n",
      "  File \"C:\\Users\\shurk\\Anaconda3\\envs\\pytrch\\lib\\site-packages\\IPython\\core\\ultratb.py\", line 350, in _fixed_getinnerframes\n",
      "    records = fix_frame_records_filenames(inspect.getinnerframes(etb, context))\n",
      "  File \"C:\\Users\\shurk\\Anaconda3\\envs\\pytrch\\lib\\inspect.py\", line 1490, in getinnerframes\n",
      "    frameinfo = (tb.tb_frame,) + getframeinfo(tb, context)\n",
      "  File \"C:\\Users\\shurk\\Anaconda3\\envs\\pytrch\\lib\\inspect.py\", line 1448, in getframeinfo\n",
      "    filename = getsourcefile(frame) or getfile(frame)\n",
      "  File \"C:\\Users\\shurk\\Anaconda3\\envs\\pytrch\\lib\\inspect.py\", line 696, in getsourcefile\n",
      "    if getattr(getmodule(object, filename), '__loader__', None) is not None:\n",
      "  File \"C:\\Users\\shurk\\Anaconda3\\envs\\pytrch\\lib\\inspect.py\", line 733, in getmodule\n",
      "    if ismodule(module) and hasattr(module, '__file__'):\n",
      "  File \"C:\\Users\\shurk\\Anaconda3\\envs\\pytrch\\lib\\site-packages\\tensorflow\\__init__.py\", line 50, in __getattr__\n",
      "    module = self._load()\n",
      "  File \"C:\\Users\\shurk\\Anaconda3\\envs\\pytrch\\lib\\site-packages\\tensorflow\\__init__.py\", line 44, in _load\n",
      "    module = _importlib.import_module(self.__name__)\n",
      "  File \"C:\\Users\\shurk\\Anaconda3\\envs\\pytrch\\lib\\importlib\\__init__.py\", line 126, in import_module\n",
      "    return _bootstrap._gcd_import(name[level:], package, level)\n",
      "  File \"<frozen importlib._bootstrap>\", line 994, in _gcd_import\n",
      "  File \"<frozen importlib._bootstrap>\", line 971, in _find_and_load\n",
      "  File \"<frozen importlib._bootstrap>\", line 953, in _find_and_load_unlocked\n",
      "ModuleNotFoundError: No module named 'tensorflow_core.estimator'\n"
     ]
    }
   ],
   "source": [
    "# invert predictions\n",
    "train_predict = scaler.inverse_transform(p_train)\n",
    "Y_train = scaler.inverse_transform([Y_train])\n",
    "test_predict = scaler.inverse_transform(p_test)\n",
    "Y_test = scaler.inverse_transform([Y_test])\n",
    "print('Train Mean Absolute Error:', mean_absolute_error(Y_train[0], train_predict[:,0]))\n",
    "print('Train Root Mean Squared Error:',np.sqrt(mean_squared_error(Y_train[0], train_predict[:,0])))\n",
    "print('Test Mean Absolute Error:', mean_absolute_error(Y_test[0], test_predict[:,0]))\n",
    "print('Test Root Mean Squared Error:',np.sqrt(mean_squared_error(Y_test[0], test_predict[:,0])))"
   ]
  },
  {
   "cell_type": "code",
   "execution_count": null,
   "metadata": {},
   "outputs": [],
   "source": []
  },
  {
   "cell_type": "code",
   "execution_count": null,
   "metadata": {},
   "outputs": [],
   "source": []
  },
  {
   "cell_type": "code",
   "execution_count": null,
   "metadata": {},
   "outputs": [],
   "source": []
  },
  {
   "cell_type": "code",
   "execution_count": null,
   "metadata": {},
   "outputs": [],
   "source": []
  },
  {
   "cell_type": "markdown",
   "metadata": {},
   "source": [
    "## Easiest way to do it"
   ]
  },
  {
   "cell_type": "code",
   "execution_count": 290,
   "metadata": {
    "id": "jcew1g4f6L_X"
   },
   "outputs": [],
   "source": [
    "from statsmodels.tsa.seasonal import seasonal_decompose"
   ]
  },
  {
   "cell_type": "code",
   "execution_count": 291,
   "metadata": {
    "colab": {
     "base_uri": "https://localhost:8080/",
     "height": 297
    },
    "id": "zfTZaeEH6Wpn",
    "outputId": "3f6120dd-ff89-4c21-bce1-32dc4d01b02c"
   },
   "outputs": [],
   "source": [
    "# results = seasonal_decompose(df)\n",
    "# results.plot();"
   ]
  },
  {
   "cell_type": "code",
   "execution_count": 582,
   "metadata": {
    "colab": {
     "base_uri": "https://localhost:8080/"
    },
    "id": "IzkqCHh_6lfn",
    "outputId": "79c7a98c-acaf-4ad7-a807-70898e3b83e1"
   },
   "outputs": [
    {
     "data": {
      "text/plain": [
       "20"
      ]
     },
     "execution_count": 582,
     "metadata": {},
     "output_type": "execute_result"
    }
   ],
   "source": [
    "len(df)"
   ]
  },
  {
   "cell_type": "code",
   "execution_count": 48,
   "metadata": {
    "id": "1NoWcZEK6rPb"
   },
   "outputs": [],
   "source": [
    "train = df.iloc[:18]\n",
    "test = df.iloc[12:]\n",
    "# train_size = int(len(dataset) * 0.80)\n",
    "# test_size = len(dataset) - train_size\n",
    "# train, test = dataset[0:train_size,:], dataset[train_size:len(dataset),:]"
   ]
  },
  {
   "cell_type": "code",
   "execution_count": 49,
   "metadata": {},
   "outputs": [
    {
     "data": {
      "text/plain": [
       "8"
      ]
     },
     "execution_count": 49,
     "metadata": {},
     "output_type": "execute_result"
    }
   ],
   "source": [
    "len(test)"
   ]
  },
  {
   "cell_type": "code",
   "execution_count": 50,
   "metadata": {
    "id": "dtAgIrE66u6x"
   },
   "outputs": [],
   "source": [
    "from sklearn.preprocessing import MinMaxScaler\n",
    "scaler = MinMaxScaler()\n"
   ]
  },
  {
   "cell_type": "code",
   "execution_count": 51,
   "metadata": {},
   "outputs": [],
   "source": [
    "scaler.fit(train, test)\n",
    "scaled_train = scaler.transform(train)\n",
    "scaled_test = scaler.transform(test)"
   ]
  },
  {
   "cell_type": "code",
   "execution_count": 52,
   "metadata": {},
   "outputs": [
    {
     "data": {
      "text/plain": [
       "array([[0.19690534],\n",
       "       [0.34094357],\n",
       "       [0.50091019],\n",
       "       [0.64616201],\n",
       "       [1.        ],\n",
       "       [0.85406553],\n",
       "       [0.76274272],\n",
       "       [0.71897755]])"
      ]
     },
     "execution_count": 52,
     "metadata": {},
     "output_type": "execute_result"
    }
   ],
   "source": [
    "\n",
    "scaled_test[:]"
   ]
  },
  {
   "cell_type": "code",
   "execution_count": 53,
   "metadata": {
    "id": "0xryZ7rR62y5"
   },
   "outputs": [],
   "source": [
    "from keras.preprocessing.sequence import TimeseriesGenerator"
   ]
  },
  {
   "cell_type": "code",
   "execution_count": 60,
   "metadata": {
    "id": "CqyTKCVt69Z9"
   },
   "outputs": [],
   "source": [
    "# define generator\n",
    "n_input = 8\n",
    "n_features = 1\n",
    "generator = TimeseriesGenerator(scaled_train, scaled_train, length=n_input, batch_size=1)"
   ]
  },
  {
   "cell_type": "code",
   "execution_count": 61,
   "metadata": {
    "colab": {
     "base_uri": "https://localhost:8080/"
    },
    "id": "ip6y5Ene7OM7",
    "outputId": "f8405e12-f285-4394-b2a4-d84b6e6dfec4"
   },
   "outputs": [
    {
     "name": "stdout",
     "output_type": "stream",
     "text": [
      "Given the Array: \n",
      "[0.00144114 0.00819175 0.         0.00910194 0.06553398 0.07418083\n",
      " 0.08442051 0.08252427]\n",
      "Predict this y: \n",
      " [[0.0863926]]\n"
     ]
    }
   ],
   "source": [
    "X,y = generator[0]\n",
    "print(f'Given the Array: \\n{X.flatten()}')\n",
    "print(f'Predict this y: \\n {y}')"
   ]
  },
  {
   "cell_type": "code",
   "execution_count": 62,
   "metadata": {
    "colab": {
     "base_uri": "https://localhost:8080/"
    },
    "id": "bQyGmvsi8HyR",
    "outputId": "2124feb3-263f-46ce-cb56-7b564bc3298c"
   },
   "outputs": [
    {
     "data": {
      "text/plain": [
       "(1, 8, 1)"
      ]
     },
     "execution_count": 62,
     "metadata": {},
     "output_type": "execute_result"
    }
   ],
   "source": [
    "X.shape"
   ]
  },
  {
   "cell_type": "code",
   "execution_count": 63,
   "metadata": {
    "id": "bzIs_l_k7Zqg"
   },
   "outputs": [],
   "source": [
    "from keras.models import Sequential\n",
    "from keras.layers import Dense\n",
    "from keras.layers import LSTM"
   ]
  },
  {
   "cell_type": "code",
   "execution_count": 64,
   "metadata": {
    "id": "eJa-wFQf7jw6"
   },
   "outputs": [],
   "source": [
    "# define model\n",
    "model = Sequential()\n",
    "model.add(LSTM(100, activation='relu', input_shape=(n_input, n_features)))\n",
    "model.add(Dense(1))\n",
    "model.compile(optimizer='adam', loss='mse')"
   ]
  },
  {
   "cell_type": "code",
   "execution_count": 65,
   "metadata": {
    "colab": {
     "base_uri": "https://localhost:8080/"
    },
    "id": "7i4ucUNv7lbk",
    "outputId": "7f66fb4d-f3af-4d9c-ae3a-9eb97a722ea6"
   },
   "outputs": [
    {
     "name": "stdout",
     "output_type": "stream",
     "text": [
      "Model: \"sequential_2\"\n",
      "_________________________________________________________________\n",
      "Layer (type)                 Output Shape              Param #   \n",
      "=================================================================\n",
      "lstm_2 (LSTM)                (None, 100)               40800     \n",
      "_________________________________________________________________\n",
      "dense_2 (Dense)              (None, 1)                 101       \n",
      "=================================================================\n",
      "Total params: 40,901\n",
      "Trainable params: 40,901\n",
      "Non-trainable params: 0\n",
      "_________________________________________________________________\n"
     ]
    }
   ],
   "source": [
    "model.summary()"
   ]
  },
  {
   "cell_type": "code",
   "execution_count": 66,
   "metadata": {
    "colab": {
     "base_uri": "https://localhost:8080/"
    },
    "id": "p8yqUZaz7nwp",
    "outputId": "94c9f117-53be-438c-ba31-d7c7fa546f42",
    "scrolled": true
   },
   "outputs": [
    {
     "name": "stdout",
     "output_type": "stream",
     "text": [
      "Epoch 1/50\n",
      "10/10 [==============================] - 0s 36ms/step - loss: 0.2198\n",
      "Epoch 2/50\n",
      "10/10 [==============================] - 0s 5ms/step - loss: 0.1710\n",
      "Epoch 3/50\n",
      "10/10 [==============================] - 0s 5ms/step - loss: 0.1220\n",
      "Epoch 4/50\n",
      "10/10 [==============================] - 0s 4ms/step - loss: 0.0831\n",
      "Epoch 5/50\n",
      "10/10 [==============================] - 0s 4ms/step - loss: 0.0717\n",
      "Epoch 6/50\n",
      "10/10 [==============================] - 0s 5ms/step - loss: 0.0655\n",
      "Epoch 7/50\n",
      "10/10 [==============================] - 0s 5ms/step - loss: 0.0633\n",
      "Epoch 8/50\n",
      "10/10 [==============================] - 0s 4ms/step - loss: 0.0604\n",
      "Epoch 9/50\n",
      "10/10 [==============================] - 0s 5ms/step - loss: 0.0579\n",
      "Epoch 10/50\n",
      "10/10 [==============================] - 0s 5ms/step - loss: 0.0498\n",
      "Epoch 11/50\n",
      "10/10 [==============================] - 0s 5ms/step - loss: 0.0476\n",
      "Epoch 12/50\n",
      "10/10 [==============================] - 0s 4ms/step - loss: 0.0401\n",
      "Epoch 13/50\n",
      "10/10 [==============================] - 0s 4ms/step - loss: 0.0431\n",
      "Epoch 14/50\n",
      "10/10 [==============================] - 0s 5ms/step - loss: 0.0371\n",
      "Epoch 15/50\n",
      "10/10 [==============================] - 0s 4ms/step - loss: 0.0347\n",
      "Epoch 16/50\n",
      "10/10 [==============================] - 0s 4ms/step - loss: 0.0323\n",
      "Epoch 17/50\n",
      "10/10 [==============================] - 0s 5ms/step - loss: 0.0281\n",
      "Epoch 18/50\n",
      "10/10 [==============================] - 0s 5ms/step - loss: 0.0270\n",
      "Epoch 19/50\n",
      "10/10 [==============================] - 0s 5ms/step - loss: 0.0274\n",
      "Epoch 20/50\n",
      "10/10 [==============================] - 0s 4ms/step - loss: 0.0314\n",
      "Epoch 21/50\n",
      "10/10 [==============================] - 0s 5ms/step - loss: 0.0240\n",
      "Epoch 22/50\n",
      "10/10 [==============================] - 0s 5ms/step - loss: 0.0287\n",
      "Epoch 23/50\n",
      "10/10 [==============================] - 0s 5ms/step - loss: 0.0193\n",
      "Epoch 24/50\n",
      "10/10 [==============================] - 0s 5ms/step - loss: 0.0247\n",
      "Epoch 25/50\n",
      "10/10 [==============================] - 0s 4ms/step - loss: 0.0233\n",
      "Epoch 26/50\n",
      "10/10 [==============================] - 0s 4ms/step - loss: 0.0250\n",
      "Epoch 27/50\n",
      "10/10 [==============================] - 0s 4ms/step - loss: 0.0289\n",
      "Epoch 28/50\n",
      "10/10 [==============================] - 0s 4ms/step - loss: 0.0251\n",
      "Epoch 29/50\n",
      "10/10 [==============================] - 0s 5ms/step - loss: 0.0241\n",
      "Epoch 30/50\n",
      "10/10 [==============================] - 0s 5ms/step - loss: 0.0284\n",
      "Epoch 31/50\n",
      "10/10 [==============================] - 0s 4ms/step - loss: 0.0261\n",
      "Epoch 32/50\n",
      "10/10 [==============================] - 0s 4ms/step - loss: 0.0249\n",
      "Epoch 33/50\n",
      "10/10 [==============================] - 0s 5ms/step - loss: 0.0199\n",
      "Epoch 34/50\n",
      "10/10 [==============================] - 0s 4ms/step - loss: 0.0188\n",
      "Epoch 35/50\n",
      "10/10 [==============================] - 0s 4ms/step - loss: 0.0198\n",
      "Epoch 36/50\n",
      "10/10 [==============================] - 0s 5ms/step - loss: 0.0195\n",
      "Epoch 37/50\n",
      "10/10 [==============================] - 0s 5ms/step - loss: 0.0241\n",
      "Epoch 38/50\n",
      "10/10 [==============================] - 0s 5ms/step - loss: 0.0198\n",
      "Epoch 39/50\n",
      "10/10 [==============================] - 0s 4ms/step - loss: 0.0257\n",
      "Epoch 40/50\n",
      "10/10 [==============================] - 0s 5ms/step - loss: 0.0165\n",
      "Epoch 41/50\n",
      "10/10 [==============================] - 0s 5ms/step - loss: 0.0200\n",
      "Epoch 42/50\n",
      "10/10 [==============================] - 0s 4ms/step - loss: 0.0212\n",
      "Epoch 43/50\n",
      "10/10 [==============================] - 0s 6ms/step - loss: 0.0238\n",
      "Epoch 44/50\n",
      "10/10 [==============================] - 0s 5ms/step - loss: 0.0186\n",
      "Epoch 45/50\n",
      "10/10 [==============================] - 0s 4ms/step - loss: 0.0195\n",
      "Epoch 46/50\n",
      "10/10 [==============================] - 0s 4ms/step - loss: 0.0186\n",
      "Epoch 47/50\n",
      "10/10 [==============================] - 0s 4ms/step - loss: 0.0168\n",
      "Epoch 48/50\n",
      "10/10 [==============================] - 0s 4ms/step - loss: 0.0171\n",
      "Epoch 49/50\n",
      "10/10 [==============================] - 0s 5ms/step - loss: 0.0201\n",
      "Epoch 50/50\n",
      "10/10 [==============================] - 0s 4ms/step - loss: 0.0190\n"
     ]
    },
    {
     "data": {
      "text/plain": [
       "<keras.callbacks.callbacks.History at 0x211f68b6cf8>"
      ]
     },
     "execution_count": 66,
     "metadata": {},
     "output_type": "execute_result"
    }
   ],
   "source": [
    "# fit model\n",
    "model.fit(generator,epochs=50)"
   ]
  },
  {
   "cell_type": "code",
   "execution_count": 67,
   "metadata": {
    "colab": {
     "base_uri": "https://localhost:8080/",
     "height": 282
    },
    "id": "OjDsOKR67rs8",
    "outputId": "46a3d438-6cea-4a47-f4bf-b60f2246561d"
   },
   "outputs": [
    {
     "data": {
      "text/plain": [
       "[<matplotlib.lines.Line2D at 0x211f94a68d0>]"
      ]
     },
     "execution_count": 67,
     "metadata": {},
     "output_type": "execute_result"
    },
    {
     "data": {
      "image/png": "[encoded data removed]",
      "text/plain": [
       "<Figure size 720x720 with 1 Axes>"
      ]
     },
     "metadata": {
      "needs_background": "light"
     },
     "output_type": "display_data"
    }
   ],
   "source": [
    "loss_per_epoch = model.history.history['loss']\n",
    "plt.plot(range(len(loss_per_epoch)),loss_per_epoch)"
   ]
  },
  {
   "cell_type": "code",
   "execution_count": 68,
   "metadata": {
    "id": "h6h-fell70_S"
   },
   "outputs": [],
   "source": [
    "last_train_batch = scaled_train[-8:]"
   ]
  },
  {
   "cell_type": "code",
   "execution_count": 69,
   "metadata": {
    "id": "cwwv8O-p79bN"
   },
   "outputs": [],
   "source": [
    "last_train_batch = last_train_batch.reshape((1, n_input, n_features))"
   ]
  },
  {
   "cell_type": "code",
   "execution_count": 70,
   "metadata": {
    "colab": {
     "base_uri": "https://localhost:8080/"
    },
    "id": "v-4WD4t78MpJ",
    "outputId": "6f5ab088-0933-41e7-cf6a-239dc4236d6d"
   },
   "outputs": [
    {
     "data": {
      "text/plain": [
       "array([[1.3506896]], dtype=float32)"
      ]
     },
     "execution_count": 70,
     "metadata": {},
     "output_type": "execute_result"
    }
   ],
   "source": [
    "model.predict(last_train_batch)"
   ]
  },
  {
   "cell_type": "code",
   "execution_count": 71,
   "metadata": {
    "colab": {
     "base_uri": "https://localhost:8080/"
    },
    "id": "ZbojFADE8StA",
    "outputId": "e708a2e2-ccf1-48e7-cace-a3b7a6202de1"
   },
   "outputs": [
    {
     "data": {
      "text/plain": [
       "array([0.19690534])"
      ]
     },
     "execution_count": 71,
     "metadata": {},
     "output_type": "execute_result"
    }
   ],
   "source": [
    "scaled_test[0]"
   ]
  },
  {
   "cell_type": "code",
   "execution_count": 72,
   "metadata": {
    "id": "_MP-5Wez8jbY"
   },
   "outputs": [],
   "source": [
    "test_predictions = []\n",
    "\n",
    "first_eval_batch = scaled_train[-n_input:]\n",
    "current_batch = first_eval_batch.reshape((1, n_input, n_features))\n",
    "\n",
    "for i in range(len(test)):\n",
    "    \n",
    "    # get the prediction value for the first batch\n",
    "    current_pred = model.predict(current_batch)[0]\n",
    "    \n",
    "    # append the prediction into the array\n",
    "    test_predictions.append(current_pred) \n",
    "    \n",
    "    # use the prediction to update the batch and remove the first value\n",
    "    current_batch = np.append(current_batch[:,1:,:],[[current_pred]],axis=1)"
   ]
  },
  {
   "cell_type": "code",
   "execution_count": 73,
   "metadata": {
    "colab": {
     "base_uri": "https://localhost:8080/"
    },
    "id": "_mhvFuEy8sB7",
    "outputId": "e65693ce-1c66-46b1-91e2-069e239ca984"
   },
   "outputs": [
    {
     "data": {
      "text/plain": [
       "[array([1.3506896], dtype=float32),\n",
       " array([1.9503222], dtype=float32),\n",
       " array([3.0202785], dtype=float32),\n",
       " array([4.942058], dtype=float32),\n",
       " array([9.095465], dtype=float32),\n",
       " array([19.518362], dtype=float32),\n",
       " array([47.32686], dtype=float32),\n",
       " array([116.68559], dtype=float32)]"
      ]
     },
     "execution_count": 73,
     "metadata": {},
     "output_type": "execute_result"
    }
   ],
   "source": [
    "test_predictions"
   ]
  },
  {
   "cell_type": "code",
   "execution_count": 74,
   "metadata": {
    "colab": {
     "base_uri": "https://localhost:8080/",
     "height": 228
    },
    "id": "YYSqV10E9hlO",
    "outputId": "fe8ed427-3d97-429e-9349-115ba1168bc0",
    "scrolled": true
   },
   "outputs": [
    {
     "data": {
      "text/html": [
       "<div>\n",
       "<style scoped>\n",
       "    .dataframe tbody tr th:only-of-type {\n",
       "        vertical-align: middle;\n",
       "    }\n",
       "\n",
       "    .dataframe tbody tr th {\n",
       "        vertical-align: top;\n",
       "    }\n",
       "\n",
       "    .dataframe thead th {\n",
       "        text-align: right;\n",
       "    }\n",
       "</style>\n",
       "<table border=\"1\" class=\"dataframe\">\n",
       "  <thead>\n",
       "    <tr style=\"text-align: right;\">\n",
       "      <th></th>\n",
       "      <th>Case Count</th>\n",
       "    </tr>\n",
       "    <tr>\n",
       "      <th>Period</th>\n",
       "      <th></th>\n",
       "    </tr>\n",
       "  </thead>\n",
       "  <tbody>\n",
       "    <tr>\n",
       "      <th>2020-10-01</th>\n",
       "      <td>3469</td>\n",
       "    </tr>\n",
       "    <tr>\n",
       "      <th>2020-11-01</th>\n",
       "      <td>5368</td>\n",
       "    </tr>\n",
       "    <tr>\n",
       "      <th>2020-12-01</th>\n",
       "      <td>7477</td>\n",
       "    </tr>\n",
       "    <tr>\n",
       "      <th>2021-01-01</th>\n",
       "      <td>9392</td>\n",
       "    </tr>\n",
       "    <tr>\n",
       "      <th>2021-02-01</th>\n",
       "      <td>14057</td>\n",
       "    </tr>\n",
       "    <tr>\n",
       "      <th>2021-03-01</th>\n",
       "      <td>12133</td>\n",
       "    </tr>\n",
       "    <tr>\n",
       "      <th>2021-04-01</th>\n",
       "      <td>10929</td>\n",
       "    </tr>\n",
       "    <tr>\n",
       "      <th>2021-05-01</th>\n",
       "      <td>10352</td>\n",
       "    </tr>\n",
       "  </tbody>\n",
       "</table>\n",
       "</div>"
      ],
      "text/plain": [
       "            Case Count\n",
       "Period                \n",
       "2020-10-01        3469\n",
       "2020-11-01        5368\n",
       "2020-12-01        7477\n",
       "2021-01-01        9392\n",
       "2021-02-01       14057\n",
       "2021-03-01       12133\n",
       "2021-04-01       10929\n",
       "2021-05-01       10352"
      ]
     },
     "execution_count": 74,
     "metadata": {},
     "output_type": "execute_result"
    }
   ],
   "source": [
    "test"
   ]
  },
  {
   "cell_type": "code",
   "execution_count": 76,
   "metadata": {},
   "outputs": [
    {
     "data": {
      "text/plain": [
       "array([[  18680.49234009],\n",
       "       [  26586.04724121],\n",
       "       [  40692.35113525],\n",
       "       [  66029.09381104],\n",
       "       [ 120787.60668945],\n",
       "       [ 258203.08520508],\n",
       "       [ 624830.30273438],\n",
       "       [1539255.85351562]])"
      ]
     },
     "execution_count": 76,
     "metadata": {},
     "output_type": "execute_result"
    }
   ],
   "source": [
    "true_predictions"
   ]
  },
  {
   "cell_type": "code",
   "execution_count": 77,
   "metadata": {
    "id": "BHHzjNDK9EJZ"
   },
   "outputs": [],
   "source": [
    "true_predictions = scaler.inverse_transform(test_predictions)"
   ]
  },
  {
   "cell_type": "code",
   "execution_count": 78,
   "metadata": {
    "id": "0dsN45zf9I9u"
   },
   "outputs": [],
   "source": [
    "test['Predictions'] = true_predictions"
   ]
  },
  {
   "cell_type": "code",
   "execution_count": 79,
   "metadata": {
    "colab": {
     "base_uri": "https://localhost:8080/",
     "height": 366
    },
    "id": "xJ7sI5xh9Lb0",
    "outputId": "6aeaec0b-9c02-4d87-ca51-987048dae0ba"
   },
   "outputs": [
    {
     "data": {
      "text/plain": [
       "<AxesSubplot:xlabel='Period'>"
      ]
     },
     "execution_count": 79,
     "metadata": {},
     "output_type": "execute_result"
    },
    {
     "data": {
      "image/png": "[encoded data removed]",
      "text/plain": [
       "<Figure size 1008x360 with 1 Axes>"
      ]
     },
     "metadata": {
      "needs_background": "light"
     },
     "output_type": "display_data"
    }
   ],
   "source": [
    "test.plot(figsize=(14,5))"
   ]
  },
  {
   "cell_type": "code",
   "execution_count": 647,
   "metadata": {
    "colab": {
     "base_uri": "https://localhost:8080/"
    },
    "id": "OCsYjzge9OVe",
    "outputId": "4771bf0b-a885-4e3f-d16e-b5b9bd255cc2"
   },
   "outputs": [
    {
     "name": "stdout",
     "output_type": "stream",
     "text": [
      "8779387.347953971\n"
     ]
    }
   ],
   "source": [
    "from sklearn.metrics import mean_squared_error\n",
    "from math import sqrt\n",
    "rmse=sqrt(mean_squared_error(test['Case Count'],test['Predictions']))\n",
    "print(rmse)"
   ]
  },
  {
   "cell_type": "markdown",
   "metadata": {
    "id": "Bld3MIqDNW6I"
   },
   "source": [
    "## 4th way to predict"
   ]
  },
  {
   "cell_type": "code",
   "execution_count": 289,
   "metadata": {},
   "outputs": [],
   "source": [
    "train = df.iloc[:17].values\n",
    "test = df.iloc[17:].values\n"
   ]
  },
  {
   "cell_type": "code",
   "execution_count": 288,
   "metadata": {},
   "outputs": [
    {
     "data": {
      "text/plain": [
       "[            Case Count\n",
       " Period                \n",
       " 2021-03-01       12133\n",
       " 2021-04-01       10929\n",
       " 2021-05-01       10352]"
      ]
     },
     "execution_count": 288,
     "metadata": {},
     "output_type": "execute_result"
    }
   ],
   "source": []
  },
  {
   "cell_type": "code",
   "execution_count": 279,
   "metadata": {},
   "outputs": [
    {
     "data": {
      "text/html": [
       "<div>\n",
       "<style scoped>\n",
       "    .dataframe tbody tr th:only-of-type {\n",
       "        vertical-align: middle;\n",
       "    }\n",
       "\n",
       "    .dataframe tbody tr th {\n",
       "        vertical-align: top;\n",
       "    }\n",
       "\n",
       "    .dataframe thead th {\n",
       "        text-align: right;\n",
       "    }\n",
       "</style>\n",
       "<table border=\"1\" class=\"dataframe\">\n",
       "  <thead>\n",
       "    <tr style=\"text-align: right;\">\n",
       "      <th></th>\n",
       "      <th>Case Count</th>\n",
       "    </tr>\n",
       "    <tr>\n",
       "      <th>Period</th>\n",
       "      <th></th>\n",
       "    </tr>\n",
       "  </thead>\n",
       "  <tbody>\n",
       "    <tr>\n",
       "      <th>2019-10-01</th>\n",
       "      <td>892</td>\n",
       "    </tr>\n",
       "    <tr>\n",
       "      <th>2019-11-01</th>\n",
       "      <td>981</td>\n",
       "    </tr>\n",
       "    <tr>\n",
       "      <th>2019-12-01</th>\n",
       "      <td>873</td>\n",
       "    </tr>\n",
       "    <tr>\n",
       "      <th>2020-01-01</th>\n",
       "      <td>993</td>\n",
       "    </tr>\n",
       "    <tr>\n",
       "      <th>2020-02-01</th>\n",
       "      <td>1737</td>\n",
       "    </tr>\n",
       "    <tr>\n",
       "      <th>2020-03-01</th>\n",
       "      <td>1851</td>\n",
       "    </tr>\n",
       "    <tr>\n",
       "      <th>2020-04-01</th>\n",
       "      <td>1986</td>\n",
       "    </tr>\n",
       "    <tr>\n",
       "      <th>2020-05-01</th>\n",
       "      <td>1961</td>\n",
       "    </tr>\n",
       "    <tr>\n",
       "      <th>2020-06-01</th>\n",
       "      <td>2012</td>\n",
       "    </tr>\n",
       "    <tr>\n",
       "      <th>2020-07-01</th>\n",
       "      <td>2072</td>\n",
       "    </tr>\n",
       "    <tr>\n",
       "      <th>2020-08-01</th>\n",
       "      <td>1678</td>\n",
       "    </tr>\n",
       "    <tr>\n",
       "      <th>2020-09-01</th>\n",
       "      <td>1678</td>\n",
       "    </tr>\n",
       "    <tr>\n",
       "      <th>2020-10-01</th>\n",
       "      <td>3469</td>\n",
       "    </tr>\n",
       "    <tr>\n",
       "      <th>2020-11-01</th>\n",
       "      <td>5368</td>\n",
       "    </tr>\n",
       "    <tr>\n",
       "      <th>2020-12-01</th>\n",
       "      <td>7477</td>\n",
       "    </tr>\n",
       "    <tr>\n",
       "      <th>2021-01-01</th>\n",
       "      <td>9392</td>\n",
       "    </tr>\n",
       "    <tr>\n",
       "      <th>2021-02-01</th>\n",
       "      <td>14057</td>\n",
       "    </tr>\n",
       "    <tr>\n",
       "      <th>2021-03-01</th>\n",
       "      <td>12133</td>\n",
       "    </tr>\n",
       "    <tr>\n",
       "      <th>2021-04-01</th>\n",
       "      <td>10929</td>\n",
       "    </tr>\n",
       "    <tr>\n",
       "      <th>2021-05-01</th>\n",
       "      <td>10352</td>\n",
       "    </tr>\n",
       "  </tbody>\n",
       "</table>\n",
       "</div>"
      ],
      "text/plain": [
       "            Case Count\n",
       "Period                \n",
       "2019-10-01         892\n",
       "2019-11-01         981\n",
       "2019-12-01         873\n",
       "2020-01-01         993\n",
       "2020-02-01        1737\n",
       "2020-03-01        1851\n",
       "2020-04-01        1986\n",
       "2020-05-01        1961\n",
       "2020-06-01        2012\n",
       "2020-07-01        2072\n",
       "2020-08-01        1678\n",
       "2020-09-01        1678\n",
       "2020-10-01        3469\n",
       "2020-11-01        5368\n",
       "2020-12-01        7477\n",
       "2021-01-01        9392\n",
       "2021-02-01       14057\n",
       "2021-03-01       12133\n",
       "2021-04-01       10929\n",
       "2021-05-01       10352"
      ]
     },
     "execution_count": 279,
     "metadata": {},
     "output_type": "execute_result"
    }
   ],
   "source": []
  },
  {
   "cell_type": "code",
   "execution_count": null,
   "metadata": {},
   "outputs": [],
   "source": []
  }
 ],
 "metadata": {
  "colab": {
   "collapsed_sections": [],
   "name": "RNN_Youtube.ipynb",
   "provenance": []
  },
  "kernelspec": {
   "display_name": "Python [conda env:pytrch] *",
   "language": "python",
   "name": "conda-env-pytrch-py"
  },
  "language_info": {
   "codemirror_mode": {
    "name": "ipython",
    "version": 3
   },
   "file_extension": ".py",
   "mimetype": "text/x-python",
   "name": "python",
   "nbconvert_exporter": "python",
   "pygments_lexer": "ipython3",
   "version": "3.6.13"
  }
 },
 "nbformat": 4,
 "nbformat_minor": 1
}
